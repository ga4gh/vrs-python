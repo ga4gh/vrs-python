{
 "cells": [
  {
   "cell_type": "markdown",
   "metadata": {},
   "source": [
    "# Haplotypes\n",
    "\n",
    "This notebook demonstrates VRS Haplotypes using ApoE alleles.\n",
    "\n",
    "The ApoE gene is associated with risks of Alzheimer's disease and hypercholesterolemia. Risk of AD is attributed to haplotypes comprised of two locations, [rs429358](https://www.ncbi.nlm.nih.gov/snp/rs429358) and [rs7412](https://www.ncbi.nlm.nih.gov/snp/rs7412), both of which are C/T transitions.  The four ApoE haplotypes are defined by the two states (C and T) at the two locations shown below. (Each location is shown with GRCh37 , GRCh38, and RefSeq transcript coordinates.) \n",
    "\n",
    "```\n",
    "                             rs7412 \n",
    "                             NC_000019.9:g.45411941\n",
    "                             NC_000019.10:g.44908822\n",
    "                             NM_000041.3:c.526\n",
    "rs429358                        C          T\n",
    "NC_000019.9:g.45412079   C   APOE-ε4    APOE-ε1\n",
    "NC_000019.10:g.44908684  T   APOE-ε3    APOE-ε2\n",
    "NM_000041.3:c.388\n",
    "```\n",
    "\n",
    "Links:\n",
    "* [NCBI APOE Gene record](https://ghr.nlm.nih.gov/gene/APOE)\n",
    "* [ClinVar APO E4 record](https://www.ncbi.nlm.nih.gov/clinvar/variation/441269/)\n",
    "* [Snpedia APOE page](http://snpedia.com/index.php/APOE)"
   ]
  },
  {
   "cell_type": "markdown",
   "metadata": {},
   "source": [
    "# Setup"
   ]
  },
  {
   "cell_type": "code",
   "execution_count": 1,
   "metadata": {
    "ExecuteTime": {
     "end_time": "2024-01-30T19:58:14.722521Z",
     "start_time": "2024-01-30T19:58:14.505437Z"
    }
   },
   "outputs": [],
   "source": [
    "from ga4gh.vrs import models, vrs_deref, vrs_enref\n",
    "from ga4gh.core import ga4gh_identify, ga4gh_serialize, ga4gh_digest, ga4gh_deref\n",
    "\n",
    "import json\n",
    "\n",
    "def ppo(o, indent=2):\n",
    "    \"\"\"pretty print object as json\"\"\"\n",
    "    print(json.dumps(o.dict(exclude_none=True), sort_keys=True, indent=indent))\n",
    "    \n"
   ]
  },
  {
   "cell_type": "markdown",
   "metadata": {},
   "source": [
    "## APOE Alleles\n",
    "Construct the four Alleles above on GRCh38."
   ]
  },
  {
   "cell_type": "code",
   "execution_count": 2,
   "metadata": {
    "ExecuteTime": {
     "end_time": "2024-01-30T19:58:14.725813Z",
     "start_time": "2024-01-30T19:58:14.723142Z"
    }
   },
   "outputs": [],
   "source": [
    "# NC_000019.10 (GRCh38 chr 19 primary assembly) sequence id\n",
    "# The sequence id would typically be provided by a sequence repository\n",
    "sequence_id = \"ga4gh:SQ.IIB53T8CNeJJdUqzn9V_JnRtQadwWCbl\""
   ]
  },
  {
   "cell_type": "code",
   "execution_count": 3,
   "metadata": {
    "ExecuteTime": {
     "end_time": "2024-01-30T19:58:14.728545Z",
     "start_time": "2024-01-30T19:58:14.725830Z"
    }
   },
   "outputs": [],
   "source": [
    "locations = {\n",
    "    \"rs429358_38\": models.SequenceLocation(\n",
    "        sequence_id = sequence_id,\n",
    "        start = 44908683,\n",
    "        end = 44908684, \n",
    "        type=\"SequenceLocation\"),\n",
    "    \"rs7412_38\": models.SequenceLocation(\n",
    "        sequence_id = sequence_id,\n",
    "        start=44908821, \n",
    "        end=44908822,\n",
    "        type=\"SequenceLocation\")\n",
    "}"
   ]
  },
  {
   "cell_type": "code",
   "execution_count": 4,
   "metadata": {
    "ExecuteTime": {
     "end_time": "2024-01-30T19:58:14.731353Z",
     "start_time": "2024-01-30T19:58:14.729608Z"
    }
   },
   "outputs": [],
   "source": [
    "alleles = {\n",
    "    \"rs429358_38_C\": models.Allele(location=locations[\"rs429358_38\"], state=models.LiteralSequenceExpression(sequence=\"C\", type=\"LiteralSequenceExpression\"), type=\"Allele\"),\n",
    "    \"rs429358_38_T\": models.Allele(location=locations[\"rs429358_38\"], state=models.LiteralSequenceExpression(sequence=\"T\", type=\"LiteralSequenceExpression\"), type=\"Allele\"),\n",
    "    \"rs7412_38_C\":   models.Allele(location=locations[\"rs7412_38\"],   state=models.LiteralSequenceExpression(sequence=\"C\", type=\"LiteralSequenceExpression\"), type=\"Allele\"),\n",
    "    \"rs7412_38_T\":   models.Allele(location=locations[\"rs7412_38\"],   state=models.LiteralSequenceExpression(sequence=\"T\", type=\"LiteralSequenceExpression\"), type=\"Allele\"),\n",
    "}"
   ]
  },
  {
   "cell_type": "code",
   "execution_count": 5,
   "metadata": {
    "ExecuteTime": {
     "end_time": "2024-01-30T19:58:14.735619Z",
     "start_time": "2024-01-30T19:58:14.733439Z"
    }
   },
   "outputs": [],
   "source": [
    "haplotypes = {\n",
    "    \"APOE-ε1\": models.Haplotype(members=[alleles[\"rs429358_38_C\"], alleles[\"rs7412_38_T\"]]),\n",
    "    \"APOE-ε2\": models.Haplotype(members=[alleles[\"rs429358_38_T\"], alleles[\"rs7412_38_T\"]]),\n",
    "    \"APOE-ε3\": models.Haplotype(members=[alleles[\"rs429358_38_T\"], alleles[\"rs7412_38_C\"]]),\n",
    "    \"APOE-ε4\": models.Haplotype(members=[alleles[\"rs429358_38_C\"], alleles[\"rs7412_38_C\"]]),\n",
    "}"
   ]
  },
  {
   "cell_type": "code",
   "execution_count": 6,
   "metadata": {
    "scrolled": true,
    "ExecuteTime": {
     "end_time": "2024-01-30T19:58:14.738312Z",
     "start_time": "2024-01-30T19:58:14.736031Z"
    }
   },
   "outputs": [
    {
     "name": "stdout",
     "output_type": "stream",
     "text": [
      "{\n",
      "  \"members\": [\n",
      "    {\n",
      "      \"location\": {\n",
      "        \"end\": 44908684,\n",
      "        \"start\": 44908683,\n",
      "        \"type\": \"SequenceLocation\"\n",
      "      },\n",
      "      \"state\": {\n",
      "        \"sequence\": \"C\",\n",
      "        \"type\": \"LiteralSequenceExpression\"\n",
      "      },\n",
      "      \"type\": \"Allele\"\n",
      "    },\n",
      "    {\n",
      "      \"location\": {\n",
      "        \"end\": 44908822,\n",
      "        \"start\": 44908821,\n",
      "        \"type\": \"SequenceLocation\"\n",
      "      },\n",
      "      \"state\": {\n",
      "        \"sequence\": \"T\",\n",
      "        \"type\": \"LiteralSequenceExpression\"\n",
      "      },\n",
      "      \"type\": \"Allele\"\n",
      "    }\n",
      "  ],\n",
      "  \"type\": \"Haplotype\"\n",
      "}\n"
     ]
    }
   ],
   "source": [
    "ppo(haplotypes[\"APOE-ε1\"])"
   ]
  },
  {
   "cell_type": "code",
   "execution_count": 7,
   "metadata": {
    "ExecuteTime": {
     "end_time": "2024-01-30T19:58:14.742995Z",
     "start_time": "2024-01-30T19:58:14.740239Z"
    }
   },
   "outputs": [
    {
     "data": {
      "text/plain": "'ga4gh:HT.oQfqyk1bh2QpfFsNCM6fwzHM3tzcjaNp'"
     },
     "execution_count": 7,
     "metadata": {},
     "output_type": "execute_result"
    }
   ],
   "source": [
    "# Generated a computed identifier for the Haplotype\n",
    "ga4gh_identify(haplotypes[\"APOE-ε1\"])"
   ]
  },
  {
   "cell_type": "code",
   "execution_count": 8,
   "metadata": {
    "ExecuteTime": {
     "end_time": "2024-01-30T19:58:14.766766Z",
     "start_time": "2024-01-30T19:58:14.744418Z"
    }
   },
   "outputs": [
    {
     "name": "stdout",
     "output_type": "stream",
     "text": [
      "ga4gh:HT.Asb-qa3Jb4mzhaVE_FNDIhfu_JaVtem4\n",
      "ga4gh:HT.oQfqyk1bh2QpfFsNCM6fwzHM3tzcjaNp\n"
     ]
    }
   ],
   "source": [
    "# The order of haplotype members is meaningful in VRS 2.0! See VRS documentation for how to order.\n",
    "apoe1_alleles = (alleles[\"rs7412_38_T\"], alleles[\"rs429358_38_C\"])\n",
    "\n",
    "print(ga4gh_identify(models.Haplotype(members=apoe1_alleles, type=\"Haplotype\")))\n",
    "print(ga4gh_identify(models.Haplotype(members=tuple(reversed(apoe1_alleles)), type=\"Haplotype\")))\n",
    "# assert (ga4gh_identify(models.Haplotype(members=apoe1_alleles)) ==\n",
    "#        ga4gh_identify(models.Haplotype(members=tuple(reversed(apoe1_alleles)))))"
   ]
  },
  {
   "cell_type": "code",
   "execution_count": 9,
   "metadata": {
    "ExecuteTime": {
     "end_time": "2024-01-30T19:58:14.767092Z",
     "start_time": "2024-01-30T19:58:14.747525Z"
    }
   },
   "outputs": [
    {
     "name": "stdout",
     "output_type": "stream",
     "text": [
      "{\n",
      "  \"members\": [\n",
      "    {\n",
      "      \"location\": {\n",
      "        \"end\": 44908684,\n",
      "        \"start\": 44908683,\n",
      "        \"type\": \"SequenceLocation\"\n",
      "      },\n",
      "      \"state\": {\n",
      "        \"sequence\": \"C\",\n",
      "        \"type\": \"LiteralSequenceExpression\"\n",
      "      },\n",
      "      \"type\": \"Allele\"\n",
      "    },\n",
      "    {\n",
      "      \"location\": {\n",
      "        \"end\": 44908822,\n",
      "        \"start\": 44908821,\n",
      "        \"type\": \"SequenceLocation\"\n",
      "      },\n",
      "      \"state\": {\n",
      "        \"sequence\": \"T\",\n",
      "        \"type\": \"LiteralSequenceExpression\"\n",
      "      },\n",
      "      \"type\": \"Allele\"\n",
      "    }\n",
      "  ],\n",
      "  \"type\": \"Haplotype\"\n",
      "}\n"
     ]
    },
    {
     "name": "stderr",
     "output_type": "stream",
     "text": [
      "/Users/ahw001/git/vrs-python/venv/lib/python3.10/site-packages/pydantic/main.py:314: UserWarning: Pydantic serializer warnings:\n",
      "  Expected `Union[definition-ref, SequenceLocation]` but got `str` - serialized value may not be as expected\n",
      "  return self.__pydantic_serializer__.to_python(\n",
      "/Users/ahw001/git/vrs-python/venv/lib/python3.10/site-packages/pydantic/main.py:314: UserWarning: Pydantic serializer warnings:\n",
      "  Expected `Union[Allele, definition-ref]` but got `str` - serialized value may not be as expected\n",
      "  Expected `Union[Allele, definition-ref]` but got `str` - serialized value may not be as expected\n",
      "  return self.__pydantic_serializer__.to_python(\n"
     ]
    }
   ],
   "source": [
    "# Haplotype members may be referenced (rather than inline) for more concise representations\n",
    "apoe1_haplotype_ref = vrs_enref(haplotypes[\"APOE-ε1\"])\n",
    "ppo(haplotypes[\"APOE-ε1\"])"
   ]
  },
  {
   "cell_type": "code",
   "execution_count": 9,
   "metadata": {
    "ExecuteTime": {
     "end_time": "2024-01-30T19:58:14.767250Z",
     "start_time": "2024-01-30T19:58:14.750808Z"
    }
   },
   "outputs": [],
   "source": []
  }
 ],
 "metadata": {
  "kernelspec": {
   "name": "python3",
   "language": "python",
   "display_name": "Python 3 (ipykernel)"
  },
  "language_info": {
   "codemirror_mode": {
    "name": "ipython",
    "version": 3
   },
   "file_extension": ".py",
   "mimetype": "text/x-python",
   "name": "python",
   "nbconvert_exporter": "python",
   "pygments_lexer": "ipython3",
   "version": "3.9.12"
  }
 },
 "nbformat": 4,
 "nbformat_minor": 2
}
