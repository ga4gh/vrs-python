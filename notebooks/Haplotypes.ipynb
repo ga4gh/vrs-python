{
 "cells": [
  {
   "cell_type": "markdown",
   "metadata": {},
   "source": [
    "# Haplotypes\n",
    "\n",
    "This notebook demonstrates VRS Haplotypes using ApoE alleles.\n",
    "\n",
    "The ApoE gene is associated with risks of Alzheimer's disease and hypercholesterolemia. Risk of AD is attributed to haplotypes comprised of two locations, [rs429358](https://www.ncbi.nlm.nih.gov/snp/rs429358) and [rs7412](https://www.ncbi.nlm.nih.gov/snp/rs7412), both of which are C/T transitions.  The four ApoE haplotypes are defined by the two states (C and T) at the two locations shown below. (Each location is shown with GRCh37 , GRCh38, and RefSeq transcript coordinates.) \n",
    "\n",
    "```\n",
    "                             rs7412 \n",
    "                             NC_000019.9:g.45411941\n",
    "                             NC_000019.10:g.44908822\n",
    "                             NM_000041.3:c.526\n",
    "rs429358                        C          T\n",
    "NC_000019.9:g.45412079   C   APOE-ε4    APOE-ε1\n",
    "NC_000019.10:g.44908684  T   APOE-ε3    APOE-ε2\n",
    "NM_000041.3:c.388\n",
    "```\n",
    "\n",
    "Links:\n",
    "* [NCBI APOE Gene record](https://ghr.nlm.nih.gov/gene/APOE)\n",
    "* [ClinVar APO E4 record](https://www.ncbi.nlm.nih.gov/clinvar/variation/441269/)\n",
    "* [Snpedia APOE page](http://snpedia.com/index.php/APOE)"
   ]
  },
  {
   "cell_type": "markdown",
   "metadata": {},
   "source": [
    "# Setup"
   ]
  },
  {
   "cell_type": "code",
   "execution_count": 1,
   "metadata": {},
   "outputs": [
    {
     "name": "stderr",
     "output_type": "stream",
     "text": [
      "Removing allOf attribute from CopyNumber to avoid python-jsonschema-objects error.\n",
      "Removing allOf attribute from SequenceInterval to avoid python-jsonschema-objects error.\n",
      "Removing allOf attribute from RepeatedSequenceExpression to avoid python-jsonschema-objects error.\n",
      "/Users/kxk102/Documents/ga4gh/vrs-python/venv/3.10/lib/python3.10/site-packages/python_jsonschema_objects/__init__.py:49: UserWarning: Schema version http://json-schema.org/draft-07/schema not recognized. Some keywords and features may not be supported.\n",
      "  warnings.warn(\n"
     ]
    }
   ],
   "source": [
    "from ga4gh.vrs import models, vrs_deref, vrs_enref\n",
    "from ga4gh.core import ga4gh_identify, ga4gh_serialize, ga4gh_digest, ga4gh_deref\n",
    "\n",
    "import json\n",
    "def ppo(o, indent=2):\n",
    "    \"\"\"pretty print object as json\"\"\"\n",
    "    print(json.dumps(o.as_dict(), sort_keys=True, indent=indent))\n",
    "    \n"
   ]
  },
  {
   "cell_type": "markdown",
   "metadata": {},
   "source": [
    "## APOE Alleles\n",
    "Construct the four Alleles above on GRCh38."
   ]
  },
  {
   "cell_type": "code",
   "execution_count": 2,
   "metadata": {},
   "outputs": [],
   "source": [
    "# NC_000019.10 (GRCh38 chr 19 primary assembly) sequence id\n",
    "# The sequence id would typically be provided by a sequence repository\n",
    "sequence_id = \"ga4gh:SQ.IIB53T8CNeJJdUqzn9V_JnRtQadwWCbl\""
   ]
  },
  {
   "cell_type": "code",
   "execution_count": 3,
   "metadata": {},
   "outputs": [],
   "source": [
    "locations = {\n",
    "    \"rs429358_38\": models.SequenceLocation(\n",
    "        sequence_id = sequence_id,\n",
    "        interval = models.SequenceInterval(start=models.Number(value=44908683, type=\"Number\"), \n",
    "                                           end=models.Number(value=44908684, type=\"Number\"), \n",
    "                                           type=\"SequenceInterval\"),\n",
    "        type=\"SequenceLocation\"),\n",
    "    \"rs7412_38\": models.SequenceLocation(\n",
    "        sequence_id = sequence_id,\n",
    "        interval=models.SequenceInterval(start=models.Number(value=44908821, type=\"Number\"), \n",
    "                                         end=models.Number(value=44908822, type=\"Number\"),\n",
    "                                         type=\"SequenceInterval\"),\n",
    "        type=\"SequenceLocation\")\n",
    "}"
   ]
  },
  {
   "cell_type": "code",
   "execution_count": 4,
   "metadata": {},
   "outputs": [],
   "source": [
    "alleles = {\n",
    "    \"rs429358_38_C\": models.Allele(location=locations[\"rs429358_38\"], state=models.SequenceState(sequence=\"C\", type=\"SequenceState\"), type=\"Allele\"),\n",
    "    \"rs429358_38_T\": models.Allele(location=locations[\"rs429358_38\"], state=models.SequenceState(sequence=\"T\", type=\"SequenceState\"), type=\"Allele\"),\n",
    "    \"rs7412_38_C\":   models.Allele(location=locations[\"rs7412_38\"],   state=models.SequenceState(sequence=\"C\", type=\"SequenceState\"), type=\"Allele\"),\n",
    "    \"rs7412_38_T\":   models.Allele(location=locations[\"rs7412_38\"],   state=models.SequenceState(sequence=\"T\", type=\"SequenceState\"), type=\"Allele\"),\n",
    "}"
   ]
  },
  {
   "cell_type": "code",
   "execution_count": 5,
   "metadata": {},
   "outputs": [],
   "source": [
    "haplotypes = {\n",
    "    \"APOE-ε1\": models.Haplotype(members=[alleles[\"rs429358_38_C\"], alleles[\"rs7412_38_T\"]]),\n",
    "    \"APOE-ε2\": models.Haplotype(members=[alleles[\"rs429358_38_T\"], alleles[\"rs7412_38_T\"]]),\n",
    "    \"APOE-ε3\": models.Haplotype(members=[alleles[\"rs429358_38_T\"], alleles[\"rs7412_38_C\"]]),\n",
    "    \"APOE-ε4\": models.Haplotype(members=[alleles[\"rs429358_38_C\"], alleles[\"rs7412_38_C\"]]),\n",
    "}"
   ]
  },
  {
   "cell_type": "code",
   "execution_count": 6,
   "metadata": {
    "scrolled": true
   },
   "outputs": [
    {
     "name": "stdout",
     "output_type": "stream",
     "text": [
      "{\n",
      "  \"members\": [\n",
      "    {\n",
      "      \"location\": {\n",
      "        \"interval\": {\n",
      "          \"end\": {\n",
      "            \"type\": \"Number\",\n",
      "            \"value\": 44908684\n",
      "          },\n",
      "          \"start\": {\n",
      "            \"type\": \"Number\",\n",
      "            \"value\": 44908683\n",
      "          },\n",
      "          \"type\": \"SequenceInterval\"\n",
      "        },\n",
      "        \"sequence_id\": \"ga4gh:SQ.IIB53T8CNeJJdUqzn9V_JnRtQadwWCbl\",\n",
      "        \"type\": \"SequenceLocation\"\n",
      "      },\n",
      "      \"state\": {\n",
      "        \"sequence\": \"C\",\n",
      "        \"type\": \"SequenceState\"\n",
      "      },\n",
      "      \"type\": \"Allele\"\n",
      "    },\n",
      "    {\n",
      "      \"location\": {\n",
      "        \"interval\": {\n",
      "          \"end\": {\n",
      "            \"type\": \"Number\",\n",
      "            \"value\": 44908822\n",
      "          },\n",
      "          \"start\": {\n",
      "            \"type\": \"Number\",\n",
      "            \"value\": 44908821\n",
      "          },\n",
      "          \"type\": \"SequenceInterval\"\n",
      "        },\n",
      "        \"sequence_id\": \"ga4gh:SQ.IIB53T8CNeJJdUqzn9V_JnRtQadwWCbl\",\n",
      "        \"type\": \"SequenceLocation\"\n",
      "      },\n",
      "      \"state\": {\n",
      "        \"sequence\": \"T\",\n",
      "        \"type\": \"SequenceState\"\n",
      "      },\n",
      "      \"type\": \"Allele\"\n",
      "    }\n",
      "  ],\n",
      "  \"type\": \"Haplotype\"\n",
      "}\n"
     ]
    }
   ],
   "source": [
    "ppo(haplotypes[\"APOE-ε1\"])"
   ]
  },
  {
   "cell_type": "code",
   "execution_count": 7,
   "metadata": {},
   "outputs": [
    {
     "data": {
      "text/plain": [
       "'ga4gh:VH.gwpj5LNuNqwI9TZ-MNI6h7AZhjJztQ4O'"
      ]
     },
     "execution_count": 7,
     "metadata": {},
     "output_type": "execute_result"
    }
   ],
   "source": [
    "# Generated a computed identifier for the Haplotype\n",
    "ga4gh_identify(haplotypes[\"APOE-ε1\"])"
   ]
  },
  {
   "cell_type": "code",
   "execution_count": 8,
   "metadata": {},
   "outputs": [
    {
     "name": "stdout",
     "output_type": "stream",
     "text": [
      "ga4gh:VH.XcRh22GN0SXmi0J7RyvQFw5cXb35Pesy\n",
      "ga4gh:VH.gwpj5LNuNqwI9TZ-MNI6h7AZhjJztQ4O\n"
     ]
    }
   ],
   "source": [
    "# The order of haplotype members does not change GA4GH Computed Identifier\n",
    "apoe1_alleles = (alleles[\"rs7412_38_T\"], alleles[\"rs429358_38_C\"])\n",
    "\n",
    "#note: this should be the same, but currently is not?\n",
    "print(ga4gh_identify(models.Haplotype(members=apoe1_alleles, type=\"Haplotype\")))\n",
    "print(ga4gh_identify(models.Haplotype(members=tuple(reversed(apoe1_alleles)), type=\"Haplotype\")))\n",
    "# assert (ga4gh_identify(models.Haplotype(members=apoe1_alleles)) ==\n",
    "#        ga4gh_identify(models.Haplotype(members=tuple(reversed(apoe1_alleles)))))"
   ]
  },
  {
   "cell_type": "code",
   "execution_count": 9,
   "metadata": {},
   "outputs": [
    {
     "name": "stdout",
     "output_type": "stream",
     "text": [
      "{\n",
      "  \"members\": [\n",
      "    \"ga4gh:VA.Nat5xaRs9TtSkR5Vf33VgA9OLC72qRQW\",\n",
      "    \"ga4gh:VA.KnG6BLTexv7o-j9LnYsgPxZkRUu1IRnp\"\n",
      "  ],\n",
      "  \"type\": \"Haplotype\"\n",
      "}\n"
     ]
    }
   ],
   "source": [
    "# Haplotype members may be referenced (rather than inline) for more concise representations\n",
    "apoe1_haplotype_ref = vrs_enref(haplotypes[\"APOE-ε1\"])\n",
    "ppo(apoe1_haplotype_ref)"
   ]
  },
  {
   "cell_type": "code",
   "execution_count": null,
   "metadata": {},
   "outputs": [],
   "source": []
  }
 ],
 "metadata": {
  "kernelspec": {
   "display_name": "vrs-python",
   "language": "python",
   "name": "vrs-python"
  },
  "language_info": {
   "codemirror_mode": {
    "name": "ipython",
    "version": 3
   },
   "file_extension": ".py",
   "mimetype": "text/x-python",
   "name": "python",
   "nbconvert_exporter": "python",
   "pygments_lexer": "ipython3",
   "version": "3.10.8"
  }
 },
 "nbformat": 4,
 "nbformat_minor": 2
}
