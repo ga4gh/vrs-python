{
 "cells": [
  {
   "cell_type": "markdown",
   "metadata": {},
   "source": [
    "# Variation Set Examples"
   ]
  },
  {
   "cell_type": "code",
   "execution_count": 1,
   "metadata": {},
   "outputs": [
    {
     "name": "stderr",
     "output_type": "stream",
     "text": [
      "Removing allOf attribute from CopyNumber to avoid python-jsonschema-objects error.\n",
      "Removing allOf attribute from SequenceInterval to avoid python-jsonschema-objects error.\n",
      "Removing allOf attribute from RepeatedSequenceExpression to avoid python-jsonschema-objects error.\n",
      "/Users/kxk102/Documents/ga4gh/vrs-python/venv/3.10/lib/python3.10/site-packages/python_jsonschema_objects/__init__.py:49: UserWarning: Schema version http://json-schema.org/draft-07/schema not recognized. Some keywords and features may not be supported.\n",
      "  warnings.warn(\n"
     ]
    }
   ],
   "source": [
    "from ga4gh.vrs import models, vrs_enref, vrs_deref\n",
    "from ga4gh.core import ga4gh_identify, ga4gh_serialize, ga4gh_digest, ga4gh_enref, ga4gh_deref\n",
    "\n",
    "import json\n",
    "def ppo(o):\n",
    "    \"\"\"pretty print object as json\"\"\"\n",
    "    print(json.dumps(o.as_dict(), indent=2))"
   ]
  },
  {
   "cell_type": "markdown",
   "metadata": {},
   "source": [
    "## Setup Sample Alleles\n",
    "VariationSet objects may contain any kind of Variation and need not be homogeneous. For example, a VariationSet might contain two genomic Alleles (perhaps on different primary assemblies), a transcript Allele, and a protein Allele. We'll use three Alleles below on a fake sequence_id."
   ]
  },
  {
   "cell_type": "code",
   "execution_count": 2,
   "metadata": {},
   "outputs": [],
   "source": [
    "a1 = models.Allele(\n",
    "    location=models.SequenceLocation(\n",
    "        sequence_id=\"ga4gh:SQ.01234abcde\",\n",
    "        interval=models.SimpleInterval(start=10, end=11, type=\"SimpleInterval\"),\n",
    "        type=\"SequenceLocation\"\n",
    "    ),\n",
    "    state=models.SequenceState(sequence=\"C\", type=\"SequenceState\"),\n",
    "    type=\"Allele\"\n",
    ")\n",
    "a2 = models.Allele(\n",
    "    location=models.SequenceLocation(\n",
    "        sequence_id=\"ga4gh:SQ.01234abcde\",\n",
    "        interval=models.SimpleInterval(start=20, end=21, type=\"SimpleInterval\"),\n",
    "        type=\"SequenceLocation\"\n",
    "    ),\n",
    "    state=models.SequenceState(sequence=\"C\", type=\"SequenceState\"),\n",
    "    type=\"Allele\"\n",
    ")\n",
    "a3 = models.Allele(\n",
    "    location=models.SequenceLocation(\n",
    "        sequence_id=\"ga4gh:SQ.01234abcde\",\n",
    "        interval=models.SimpleInterval(start=30, end=31, type=\"SimpleInterval\"),\n",
    "        type=\"SequenceLocation\"\n",
    "    ),\n",
    "    state=models.SequenceState(sequence=\"C\", type=\"SequenceState\"),\n",
    "    type=\"Allele\"\n",
    ")"
   ]
  },
  {
   "cell_type": "code",
   "execution_count": 3,
   "metadata": {},
   "outputs": [
    {
     "data": {
      "text/plain": [
       "[<Allele _id=None location=<SequenceLocation _id=None interval=<SimpleInterval end=<Literal<int> 11> start=<Literal<int> 10> type=<Literal<str> SimpleInterval>> sequence_id=<Literal<str> ga4gh:SQ.01234abcde> type=<Literal<str> SequenceLocation>> state=<LiteralSequenceExpression sequence=<Literal<str> C> type=<Literal<str> SequenceState>> type=<Literal<str> Allele>>,\n",
       " <Allele _id=None location=<SequenceLocation _id=None interval=<SimpleInterval end=<Literal<int> 21> start=<Literal<int> 20> type=<Literal<str> SimpleInterval>> sequence_id=<Literal<str> ga4gh:SQ.01234abcde> type=<Literal<str> SequenceLocation>> state=<LiteralSequenceExpression sequence=<Literal<str> C> type=<Literal<str> SequenceState>> type=<Literal<str> Allele>>,\n",
       " <Allele _id=None location=<SequenceLocation _id=None interval=<SimpleInterval end=<Literal<int> 31> start=<Literal<int> 30> type=<Literal<str> SimpleInterval>> sequence_id=<Literal<str> ga4gh:SQ.01234abcde> type=<Literal<str> SequenceLocation>> state=<LiteralSequenceExpression sequence=<Literal<str> C> type=<Literal<str> SequenceState>> type=<Literal<str> Allele>>]"
      ]
     },
     "execution_count": 3,
     "metadata": {},
     "output_type": "execute_result"
    }
   ],
   "source": [
    "alleles = [a1,a2,a3]\n",
    "alleles"
   ]
  },
  {
   "cell_type": "markdown",
   "metadata": {},
   "source": [
    "## VariationSet"
   ]
  },
  {
   "cell_type": "markdown",
   "metadata": {},
   "source": [
    "### Inlined\n",
    "\"Inlined\" VR objects are those that have identifiable objects nested within them. Because the objects are nested, they are self-contained. "
   ]
  },
  {
   "cell_type": "code",
   "execution_count": 4,
   "metadata": {},
   "outputs": [],
   "source": [
    "vs_inlined = models.VariationSet(members=[a1,a2,a3], type=\"VariationSet\")"
   ]
  },
  {
   "cell_type": "code",
   "execution_count": 5,
   "metadata": {},
   "outputs": [
    {
     "name": "stdout",
     "output_type": "stream",
     "text": [
      "{\n",
      "  \"type\": \"VariationSet\",\n",
      "  \"members\": [\n",
      "    {\n",
      "      \"type\": \"Allele\",\n",
      "      \"location\": {\n",
      "        \"type\": \"SequenceLocation\",\n",
      "        \"sequence_id\": \"ga4gh:SQ.01234abcde\",\n",
      "        \"interval\": {\n",
      "          \"type\": \"SimpleInterval\",\n",
      "          \"start\": 10,\n",
      "          \"end\": 11\n",
      "        }\n",
      "      },\n",
      "      \"state\": {\n",
      "        \"type\": \"SequenceState\",\n",
      "        \"sequence\": \"C\"\n",
      "      }\n",
      "    },\n",
      "    {\n",
      "      \"type\": \"Allele\",\n",
      "      \"location\": {\n",
      "        \"type\": \"SequenceLocation\",\n",
      "        \"sequence_id\": \"ga4gh:SQ.01234abcde\",\n",
      "        \"interval\": {\n",
      "          \"type\": \"SimpleInterval\",\n",
      "          \"start\": 20,\n",
      "          \"end\": 21\n",
      "        }\n",
      "      },\n",
      "      \"state\": {\n",
      "        \"type\": \"SequenceState\",\n",
      "        \"sequence\": \"C\"\n",
      "      }\n",
      "    },\n",
      "    {\n",
      "      \"type\": \"Allele\",\n",
      "      \"location\": {\n",
      "        \"type\": \"SequenceLocation\",\n",
      "        \"sequence_id\": \"ga4gh:SQ.01234abcde\",\n",
      "        \"interval\": {\n",
      "          \"type\": \"SimpleInterval\",\n",
      "          \"start\": 30,\n",
      "          \"end\": 31\n",
      "        }\n",
      "      },\n",
      "      \"state\": {\n",
      "        \"type\": \"SequenceState\",\n",
      "        \"sequence\": \"C\"\n",
      "      }\n",
      "    }\n",
      "  ]\n",
      "}\n"
     ]
    }
   ],
   "source": [
    "ppo(vs_inlined)"
   ]
  },
  {
   "cell_type": "code",
   "execution_count": 6,
   "metadata": {},
   "outputs": [
    {
     "data": {
      "text/plain": [
       "'ga4gh:VS.WVC_R7OJ688EQX3NrgpJfsf_ctQUsVP3'"
      ]
     },
     "execution_count": 6,
     "metadata": {},
     "output_type": "execute_result"
    }
   ],
   "source": [
    "ga4gh_identify(vs_inlined)"
   ]
  },
  {
   "cell_type": "code",
   "execution_count": 7,
   "metadata": {},
   "outputs": [
    {
     "data": {
      "text/plain": [
       "'ga4gh:VS.AajzQroZB9ZUK4tNzVuDOiG2WhMczHUe'"
      ]
     },
     "execution_count": 7,
     "metadata": {},
     "output_type": "execute_result"
    }
   ],
   "source": [
    "# computed id does not depend on order of members\n",
    "vs_inlined2 = models.VariationSet(members=[a3,a2,a1], type=\"VariationSet\")\n",
    "ga4gh_identify(vs_inlined2)"
   ]
  },
  {
   "cell_type": "markdown",
   "metadata": {},
   "source": [
    "### Referenced Objects\n",
    "\"Referenced\" VR objects are those that refer to other objects by identifiers. The examples in this section show the referenced form of the previous inlined examples. "
   ]
  },
  {
   "cell_type": "code",
   "execution_count": 8,
   "metadata": {},
   "outputs": [
    {
     "data": {
      "text/plain": [
       "['ga4gh:VA.6xjH0Ikz88s7MhcyN5GJTa1p712-M10W',\n",
       " 'ga4gh:VA.7k2lyIsIsoBgRFPlfnIOeCeEgj_2BO7F',\n",
       " 'ga4gh:VA.ikcK330gH3bYO2sw9QcTsoptTFnk_Xjh']"
      ]
     },
     "execution_count": 8,
     "metadata": {},
     "output_type": "execute_result"
    }
   ],
   "source": [
    "allele_ids = [ga4gh_identify(a) for a in alleles]\n",
    "allele_ids"
   ]
  },
  {
   "cell_type": "code",
   "execution_count": 9,
   "metadata": {},
   "outputs": [
    {
     "data": {
      "text/plain": [
       "{'type': 'VariationSet',\n",
       " 'members': ['ga4gh:VA.6xjH0Ikz88s7MhcyN5GJTa1p712-M10W',\n",
       "  'ga4gh:VA.7k2lyIsIsoBgRFPlfnIOeCeEgj_2BO7F',\n",
       "  'ga4gh:VA.ikcK330gH3bYO2sw9QcTsoptTFnk_Xjh']}"
      ]
     },
     "execution_count": 9,
     "metadata": {},
     "output_type": "execute_result"
    }
   ],
   "source": [
    "# computed id is the same when members are defined by id\n",
    "vs_referenced = models.VariationSet(members=allele_ids, type=\"VariationSet\")\n",
    "vs_referenced.as_dict()"
   ]
  },
  {
   "cell_type": "code",
   "execution_count": 10,
   "metadata": {},
   "outputs": [
    {
     "data": {
      "text/plain": [
       "'ga4gh:VS.WVC_R7OJ688EQX3NrgpJfsf_ctQUsVP3'"
      ]
     },
     "execution_count": 10,
     "metadata": {},
     "output_type": "execute_result"
    }
   ],
   "source": [
    "ga4gh_identify(vs_referenced)"
   ]
  },
  {
   "cell_type": "markdown",
   "metadata": {},
   "source": [
    "**IMPORTANT** Notice that the computed identifiers for inlined and referenced VariationSets are identical. "
   ]
  },
  {
   "cell_type": "code",
   "execution_count": 11,
   "metadata": {},
   "outputs": [],
   "source": [
    "assert ga4gh_identify(vs_inlined) == ga4gh_identify(vs_referenced)"
   ]
  },
  {
   "cell_type": "markdown",
   "metadata": {},
   "source": [
    "## Enref / Deref"
   ]
  },
  {
   "cell_type": "code",
   "execution_count": 12,
   "metadata": {},
   "outputs": [
    {
     "data": {
      "text/plain": [
       "{'type': 'VariationSet',\n",
       " 'members': [{'type': 'Allele',\n",
       "   'location': {'type': 'SequenceLocation',\n",
       "    'sequence_id': 'ga4gh:SQ.01234abcde',\n",
       "    'interval': {'type': 'SimpleInterval', 'start': 10, 'end': 11}},\n",
       "   'state': {'type': 'SequenceState', 'sequence': 'C'}},\n",
       "  {'type': 'Allele',\n",
       "   'location': {'type': 'SequenceLocation',\n",
       "    'sequence_id': 'ga4gh:SQ.01234abcde',\n",
       "    'interval': {'type': 'SimpleInterval', 'start': 20, 'end': 21}},\n",
       "   'state': {'type': 'SequenceState', 'sequence': 'C'}},\n",
       "  {'type': 'Allele',\n",
       "   'location': {'type': 'SequenceLocation',\n",
       "    'sequence_id': 'ga4gh:SQ.01234abcde',\n",
       "    'interval': {'type': 'SimpleInterval', 'start': 30, 'end': 31}},\n",
       "   'state': {'type': 'SequenceState', 'sequence': 'C'}}]}"
      ]
     },
     "execution_count": 12,
     "metadata": {},
     "output_type": "execute_result"
    }
   ],
   "source": [
    "vs = models.VariationSet(members=[a1,a2,a3], type=\"VariationSet\") \n",
    "vs.as_dict()"
   ]
  },
  {
   "cell_type": "code",
   "execution_count": 13,
   "metadata": {},
   "outputs": [
    {
     "data": {
      "text/plain": [
       "{'type': 'VariationSet',\n",
       " 'members': ['ga4gh:VA.6xjH0Ikz88s7MhcyN5GJTa1p712-M10W',\n",
       "  'ga4gh:VA.7k2lyIsIsoBgRFPlfnIOeCeEgj_2BO7F',\n",
       "  'ga4gh:VA.ikcK330gH3bYO2sw9QcTsoptTFnk_Xjh']}"
      ]
     },
     "execution_count": 13,
     "metadata": {},
     "output_type": "execute_result"
    }
   ],
   "source": [
    "# \"enref\" recursively identifies and stores the embedded objects in the object store\n",
    "object_store={}\n",
    "vs2 = vrs_enref(vs, object_store=object_store)\n",
    "vs2.as_dict()"
   ]
  },
  {
   "cell_type": "code",
   "execution_count": 14,
   "metadata": {},
   "outputs": [
    {
     "data": {
      "text/plain": [
       "['ga4gh:VSL.EIy4ssWCI2YW3XDTSaf26A75Zjxqu0qD',\n",
       " 'ga4gh:VA.6xjH0Ikz88s7MhcyN5GJTa1p712-M10W',\n",
       " 'ga4gh:VSL.SHAyou8BM660a9u9OXzn7h-DYOX9OSMD',\n",
       " 'ga4gh:VA.7k2lyIsIsoBgRFPlfnIOeCeEgj_2BO7F',\n",
       " 'ga4gh:VSL.FEJTkuL6G4U2WUJ2LgejLm--ZUDnCiV7',\n",
       " 'ga4gh:VA.ikcK330gH3bYO2sw9QcTsoptTFnk_Xjh',\n",
       " 'ga4gh:VS.WVC_R7OJ688EQX3NrgpJfsf_ctQUsVP3']"
      ]
     },
     "execution_count": 14,
     "metadata": {},
     "output_type": "execute_result"
    }
   ],
   "source": [
    "# object_store now contains the fully-referenced forms of all objects, recursively\n",
    "list(object_store.keys())"
   ]
  },
  {
   "cell_type": "code",
   "execution_count": 15,
   "metadata": {},
   "outputs": [
    {
     "data": {
      "text/plain": [
       "{'type': 'VariationSet',\n",
       " 'members': [{'type': 'Allele',\n",
       "   'location': {'type': 'SequenceLocation',\n",
       "    'sequence_id': 'ga4gh:SQ.01234abcde',\n",
       "    'interval': {'type': 'SimpleInterval', 'start': 10, 'end': 11}},\n",
       "   'state': {'type': 'SequenceState', 'sequence': 'C'}},\n",
       "  {'type': 'Allele',\n",
       "   'location': {'type': 'SequenceLocation',\n",
       "    'sequence_id': 'ga4gh:SQ.01234abcde',\n",
       "    'interval': {'type': 'SimpleInterval', 'start': 20, 'end': 21}},\n",
       "   'state': {'type': 'SequenceState', 'sequence': 'C'}},\n",
       "  {'type': 'Allele',\n",
       "   'location': {'type': 'SequenceLocation',\n",
       "    'sequence_id': 'ga4gh:SQ.01234abcde',\n",
       "    'interval': {'type': 'SimpleInterval', 'start': 30, 'end': 31}},\n",
       "   'state': {'type': 'SequenceState', 'sequence': 'C'}}]}"
      ]
     },
     "execution_count": 15,
     "metadata": {},
     "output_type": "execute_result"
    }
   ],
   "source": [
    "# \"deref\" reconstitutes the fully inlined objects\n",
    "vs3 = vrs_deref(vs2, object_store=object_store)\n",
    "vs3.as_dict()"
   ]
  },
  {
   "cell_type": "code",
   "execution_count": 16,
   "metadata": {
    "scrolled": true
   },
   "outputs": [
    {
     "data": {
      "text/plain": [
       "True"
      ]
     },
     "execution_count": 16,
     "metadata": {},
     "output_type": "execute_result"
    }
   ],
   "source": [
    "vs == vs3"
   ]
  },
  {
   "cell_type": "markdown",
   "metadata": {},
   "source": [
    "## Error cases\n",
    "The following examples show intentional errors"
   ]
  },
  {
   "cell_type": "markdown",
   "metadata": {},
   "source": [
    "### Members must be unique (a set)"
   ]
  },
  {
   "cell_type": "code",
   "execution_count": 17,
   "metadata": {
    "scrolled": false
   },
   "outputs": [
    {
     "name": "stdout",
     "output_type": "stream",
     "text": [
      "[<Allele _id=None location=<SequenceLocation _id=None interval=<SimpleInterval end=<Literal<int> 11> start=<Literal<int> 10> type=<Literal<str> SimpleInterval>> sequence_id=<Literal<str> ga4gh:SQ.01234abcde> type=<Literal<str> SequenceLocation>> state=<LiteralSequenceExpression sequence=<Literal<str> C> type=<Literal<str> SequenceState>> type=<Literal<str> Allele>>, <Allele _id=None location=<SequenceLocation _id=None interval=<SimpleInterval end=<Literal<int> 21> start=<Literal<int> 20> type=<Literal<str> SimpleInterval>> sequence_id=<Literal<str> ga4gh:SQ.01234abcde> type=<Literal<str> SequenceLocation>> state=<LiteralSequenceExpression sequence=<Literal<str> C> type=<Literal<str> SequenceState>> type=<Literal<str> Allele>>, <Allele _id=None location=<SequenceLocation _id=None interval=<SimpleInterval end=<Literal<int> 31> start=<Literal<int> 30> type=<Literal<str> SimpleInterval>> sequence_id=<Literal<str> ga4gh:SQ.01234abcde> type=<Literal<str> SequenceLocation>> state=<LiteralSequenceExpression sequence=<Literal<str> C> type=<Literal<str> SequenceState>> type=<Literal<str> Allele>>, <Allele _id=None location=<SequenceLocation _id=None interval=<SimpleInterval end=<Literal<int> 31> start=<Literal<int> 30> type=<Literal<str> SimpleInterval>> sequence_id=<Literal<str> ga4gh:SQ.01234abcde> type=<Literal<str> SequenceLocation>> state=<LiteralSequenceExpression sequence=<Literal<str> C> type=<Literal<str> SequenceState>> type=<Literal<str> Allele>>] has duplicate elements, but uniqueness required \n",
      "while setting 'members' in VariationSet\n"
     ]
    }
   ],
   "source": [
    "import python_jsonschema_objects as pjs\n",
    "try:\n",
    "    vs = models.VariationSet(members=[a1,a2,a3,a3], type=\"VariationSet\")\n",
    "except pjs.ValidationError as e:\n",
    "    print(e)"
   ]
  },
  {
   "cell_type": "code",
   "execution_count": null,
   "metadata": {},
   "outputs": [],
   "source": []
  }
 ],
 "metadata": {
  "kernelspec": {
   "display_name": "3.10",
   "language": "python",
   "name": "python3"
  },
  "language_info": {
   "codemirror_mode": {
    "name": "ipython",
    "version": 3
   },
   "file_extension": ".py",
   "mimetype": "text/x-python",
   "name": "python",
   "nbconvert_exporter": "python",
   "pygments_lexer": "ipython3",
   "version": "3.10.8"
  },
  "vscode": {
   "interpreter": {
    "hash": "dbb74c070b5b31d3f95db5d50c295a2fecef2776518713f5a38b1637c900302e"
   }
  }
 },
 "nbformat": 4,
 "nbformat_minor": 2
}
