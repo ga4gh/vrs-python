{
 "cells": [
  {
   "cell_type": "markdown",
   "metadata": {},
   "source": [
    "# Examples and Validation Tests\n",
    "\n",
    "This notebook is used to generate [vr-spec](https://vr-spec.readthedocs.io/) examples and the tests in [vr-spec/validation/](https://github.com/ga4gh/vr-spec/tree/master/validation).\n",
    "\n",
    "To Do:\n",
    "* use real examples from ApoE for Alleles, Haplotypes, and Genotypes; e.g.. 4 alleles, 2 Haplotypes, 1 Genotype\n",
    "* test order invariance\n",
    "* test inline v. reference objects\n"
   ]
  },
  {
   "cell_type": "code",
   "execution_count": 1,
   "metadata": {},
   "outputs": [
    {
     "name": "stderr",
     "output_type": "stream",
     "text": [
      "Removing allOf attribute from CopyNumber to avoid python-jsonschema-objects error.\n",
      "Removing allOf attribute from SequenceInterval to avoid python-jsonschema-objects error.\n",
      "Removing allOf attribute from RepeatedSequenceExpression to avoid python-jsonschema-objects error.\n",
      "/Users/kxk102/Documents/ga4gh/vrs-python/venv/3.10/lib/python3.10/site-packages/python_jsonschema_objects/__init__.py:49: UserWarning: Schema version http://json-schema.org/draft-07/schema not recognized. Some keywords and features may not be supported.\n",
      "  warnings.warn(\n"
     ]
    },
    {
     "data": {
      "text/plain": [
       "'0.7.7.dev1+g92313b5.d20230223'"
      ]
     },
     "execution_count": 1,
     "metadata": {},
     "output_type": "execute_result"
    }
   ],
   "source": [
    "from ga4gh.core import ga4gh_digest, ga4gh_identify, ga4gh_serialize, sha512t24u\n",
    "from ga4gh.vrs import __version__, models, normalize\n",
    "__version__"
   ]
  },
  {
   "cell_type": "code",
   "execution_count": 2,
   "metadata": {},
   "outputs": [],
   "source": [
    "import json\n",
    "import yaml\n",
    "def filter_dict(d):\n",
    "    try:\n",
    "        return {k: filter_dict(d[k])\n",
    "                for k in d\n",
    "                if not k.startswith(\"_\")}\n",
    "    except:\n",
    "        return d\n",
    "def as_str(s):\n",
    "    return s if isinstance(s, str) else s.decode()\n",
    "def dj(o):\n",
    "    \"\"\"print VR object as pretty formated json\"\"\"\n",
    "    print(json.dumps(filter_dict(o.as_dict()), indent=2, sort_keys=True))\n",
    "def dy(fns, o):\n",
    "    \"\"\"execute function f in fns on o, returning a yaml block representing the test\"\"\"\n",
    "    r = {\n",
    "        \"in\": o.as_dict(),\n",
    "        \"out\": {f.__name__: as_str(f(o)) for f in fns}\n",
    "    }\n",
    "    print(yaml.dump(filter_dict({o.type._value: {\"-\": r}})).replace(\"'-':\",\"-\"))"
   ]
  },
  {
   "cell_type": "markdown",
   "metadata": {},
   "source": [
    "----\n",
    "# Generate sample objects"
   ]
  },
  {
   "cell_type": "code",
   "execution_count": 3,
   "metadata": {
    "scrolled": true
   },
   "outputs": [
    {
     "name": "stdout",
     "output_type": "stream",
     "text": [
      "{\n",
      "  \"end\": 44908822,\n",
      "  \"start\": 44908821,\n",
      "  \"type\": \"SimpleInterval\"\n",
      "}\n"
     ]
    }
   ],
   "source": [
    "# SimpleInterval\n",
    "simple_interval = models.SimpleInterval(start=44908821, end=44908822, type=\"SimpleInterval\")\n",
    "dj(simple_interval)"
   ]
  },
  {
   "cell_type": "code",
   "execution_count": 4,
   "metadata": {
    "scrolled": true
   },
   "outputs": [
    {
     "name": "stdout",
     "output_type": "stream",
     "text": [
      "{\n",
      "  \"interval\": {\n",
      "    \"end\": 44908822,\n",
      "    \"start\": 44908821,\n",
      "    \"type\": \"SimpleInterval\"\n",
      "  },\n",
      "  \"sequence_id\": \"ga4gh:SQ.IIB53T8CNeJJdUqzn9V_JnRtQadwWCbl\",\n",
      "  \"type\": \"SequenceLocation\"\n",
      "}\n"
     ]
    }
   ],
   "source": [
    "# SequenceLocation based on a SimpleInterval\n",
    "sequence_location = models.SequenceLocation(\n",
    "    sequence_id=\"ga4gh:SQ.IIB53T8CNeJJdUqzn9V_JnRtQadwWCbl\",\n",
    "    interval=simple_interval,\n",
    "    type=\"SequenceLocation\")\n",
    "dj(sequence_location)"
   ]
  },
  {
   "cell_type": "code",
   "execution_count": 5,
   "metadata": {},
   "outputs": [
    {
     "name": "stdout",
     "output_type": "stream",
     "text": [
      "{\n",
      "  \"sequence\": \"T\",\n",
      "  \"type\": \"SequenceState\"\n",
      "}\n"
     ]
    }
   ],
   "source": [
    "# SequenceState\n",
    "sequence_state = models.SequenceState(sequence=\"T\", type=\"SequenceState\")\n",
    "dj(sequence_state)"
   ]
  },
  {
   "cell_type": "code",
   "execution_count": 6,
   "metadata": {},
   "outputs": [
    {
     "name": "stdout",
     "output_type": "stream",
     "text": [
      "{\n",
      "  \"definition\": \"APOE loss\",\n",
      "  \"type\": \"Text\"\n",
      "}\n"
     ]
    }
   ],
   "source": [
    "# Text\n",
    "text_variation = models.Text(definition=\"APOE loss\", type=\"Text\")\n",
    "dj(text_variation)"
   ]
  },
  {
   "cell_type": "code",
   "execution_count": 7,
   "metadata": {
    "scrolled": true
   },
   "outputs": [
    {
     "name": "stdout",
     "output_type": "stream",
     "text": [
      "{\n",
      "  \"location\": {\n",
      "    \"interval\": {\n",
      "      \"end\": 44908822,\n",
      "      \"start\": 44908821,\n",
      "      \"type\": \"SimpleInterval\"\n",
      "    },\n",
      "    \"sequence_id\": \"ga4gh:SQ.IIB53T8CNeJJdUqzn9V_JnRtQadwWCbl\",\n",
      "    \"type\": \"SequenceLocation\"\n",
      "  },\n",
      "  \"state\": {\n",
      "    \"sequence\": \"T\",\n",
      "    \"type\": \"SequenceState\"\n",
      "  },\n",
      "  \"type\": \"Allele\"\n",
      "}\n"
     ]
    }
   ],
   "source": [
    "# Allele\n",
    "allele = models.Allele(location=sequence_location,\n",
    "                       state=models.SequenceState(sequence=\"T\", type=\"SequenceState\"),\n",
    "                       type=\"Allele\")\n",
    "dj(allele)"
   ]
  },
  {
   "cell_type": "code",
   "execution_count": 8,
   "metadata": {},
   "outputs": [
    {
     "name": "stdout",
     "output_type": "stream",
     "text": [
      "{\n",
      "  \"members\": [\n",
      "    {\n",
      "      \"location\": {\n",
      "        \"interval\": {\n",
      "          \"end\": 44908822,\n",
      "          \"start\": 44908821,\n",
      "          \"type\": \"SimpleInterval\"\n",
      "        },\n",
      "        \"sequence_id\": \"ga4gh:SQ.IIB53T8CNeJJdUqzn9V_JnRtQadwWCbl\",\n",
      "        \"type\": \"SequenceLocation\"\n",
      "      },\n",
      "      \"state\": {\n",
      "        \"sequence\": \"T\",\n",
      "        \"type\": \"SequenceState\"\n",
      "      },\n",
      "      \"type\": \"Allele\"\n",
      "    }\n",
      "  ],\n",
      "  \"type\": \"Haplotype\"\n",
      "}\n"
     ]
    }
   ],
   "source": [
    "# Haplotype\n",
    "haplotype = models.Haplotype(members=[allele], type=\"Haplotype\")\n",
    "dj(haplotype)"
   ]
  },
  {
   "cell_type": "markdown",
   "metadata": {},
   "source": [
    "----\n",
    "# Functions"
   ]
  },
  {
   "cell_type": "markdown",
   "metadata": {},
   "source": [
    "### Truncated Digest (sha512t24u)"
   ]
  },
  {
   "cell_type": "code",
   "execution_count": 9,
   "metadata": {},
   "outputs": [
    {
     "data": {
      "text/plain": [
       "'z4PhNX7vuL3xVChQ1m2AB9Yg5AULVxXc'"
      ]
     },
     "execution_count": 9,
     "metadata": {},
     "output_type": "execute_result"
    }
   ],
   "source": [
    "sha512t24u(b\"\")"
   ]
  },
  {
   "cell_type": "code",
   "execution_count": 10,
   "metadata": {},
   "outputs": [
    {
     "data": {
      "text/plain": [
       "'aKF498dAxcJAqme6QYQ7EZ07-fiw8Kw2'"
      ]
     },
     "execution_count": 10,
     "metadata": {},
     "output_type": "execute_result"
    }
   ],
   "source": [
    "sha512t24u(b\"ACGT\")"
   ]
  },
  {
   "cell_type": "markdown",
   "metadata": {},
   "source": [
    "### Digest Serialization (`ga4gh_serialize`)\n",
    "\n",
    "The ga4gh digest serialization form is like json, but it the specification ensures that all implementations will produce the same binary payload."
   ]
  },
  {
   "cell_type": "code",
   "execution_count": 11,
   "metadata": {},
   "outputs": [
    {
     "data": {
      "text/plain": [
       "b'{\"location\":\"u5fspwVbQ79QkX6GHLF8tXPCAXFJqRPx\",\"state\":{\"sequence\":\"T\",\"type\":\"SequenceState\"},\"type\":\"Allele\"}'"
      ]
     },
     "execution_count": 11,
     "metadata": {},
     "output_type": "execute_result"
    }
   ],
   "source": [
    "allele = models.Allele(location=models.SequenceLocation(\n",
    "    sequence_id=\"ga4gh:SQ.IIB53T8CNeJJdUqzn9V_JnRtQadwWCbl\",\n",
    "    interval=simple_interval,\n",
    "    type=\"SequenceLocation\"),\n",
    "    state=models.SequenceState(sequence=\"T\", type=\"SequenceState\"),\n",
    "    type=\"Allele\")\n",
    "ga4gh_serialize(allele)"
   ]
  },
  {
   "cell_type": "code",
   "execution_count": 12,
   "metadata": {},
   "outputs": [
    {
     "name": "stdout",
     "output_type": "stream",
     "text": [
      "{\n",
      "  \"location\": {\n",
      "    \"interval\": {\n",
      "      \"end\": 44908822,\n",
      "      \"start\": 44908821,\n",
      "      \"type\": \"SimpleInterval\"\n",
      "    },\n",
      "    \"sequence_id\": \"ga4gh:SQ.IIB53T8CNeJJdUqzn9V_JnRtQadwWCbl\",\n",
      "    \"type\": \"SequenceLocation\"\n",
      "  },\n",
      "  \"state\": {\n",
      "    \"sequence\": \"T\",\n",
      "    \"type\": \"SequenceState\"\n",
      "  },\n",
      "  \"type\": \"Allele\"\n",
      "}\n"
     ]
    }
   ],
   "source": [
    "dj(allele)"
   ]
  },
  {
   "cell_type": "markdown",
   "metadata": {},
   "source": [
    "### Object Digest (`ga4gh_digest`)\n",
    "VR computed identifiers are constructed from digests on serialized objects by prefixing a VR digest with a type-specific code."
   ]
  },
  {
   "cell_type": "code",
   "execution_count": 13,
   "metadata": {},
   "outputs": [
    {
     "data": {
      "text/plain": [
       "'EgHPXXhULTwoP4-ACfs-YCXaeUQJBjH_'"
      ]
     },
     "execution_count": 13,
     "metadata": {},
     "output_type": "execute_result"
    }
   ],
   "source": [
    "# applying ga4gh_digest to the serialized allele returns a base64url-encoded digest\n",
    "ga4gh_digest(allele)"
   ]
  },
  {
   "cell_type": "code",
   "execution_count": 14,
   "metadata": {},
   "outputs": [
    {
     "data": {
      "text/plain": [
       "'EgHPXXhULTwoP4-ACfs-YCXaeUQJBjH_'"
      ]
     },
     "execution_count": 14,
     "metadata": {},
     "output_type": "execute_result"
    }
   ],
   "source": [
    "# Which is equivalent to\n",
    "sha512t24u(ga4gh_serialize(allele))"
   ]
  },
  {
   "cell_type": "markdown",
   "metadata": {},
   "source": [
    "### Object Computed Identifier (`ga4gh_identify`)"
   ]
  },
  {
   "cell_type": "code",
   "execution_count": 15,
   "metadata": {},
   "outputs": [
    {
     "data": {
      "text/plain": [
       "'ga4gh:VA.EgHPXXhULTwoP4-ACfs-YCXaeUQJBjH_'"
      ]
     },
     "execution_count": 15,
     "metadata": {},
     "output_type": "execute_result"
    }
   ],
   "source": [
    "ga4gh_identify(allele)"
   ]
  },
  {
   "cell_type": "markdown",
   "metadata": {},
   "source": [
    "----\n",
    "## External Data"
   ]
  },
  {
   "cell_type": "code",
   "execution_count": 16,
   "metadata": {},
   "outputs": [],
   "source": [
    "from ga4gh.vrs.dataproxy import SeqRepoRESTDataProxy\n",
    "seqrepo_rest_service_url = \"https://services.genomicmedlab.org/seqrepo\"\n",
    "dp = SeqRepoRESTDataProxy(base_url=seqrepo_rest_service_url)"
   ]
  },
  {
   "cell_type": "code",
   "execution_count": 17,
   "metadata": {},
   "outputs": [],
   "source": [
    "def get_sequence(identifier, start=None, end=None):\n",
    "    \"\"\"returns sequence for given identifier, optionally limited to interbase <start, end> interval\"\"\"\n",
    "    return dp.get_sequence(identifier, start, end)\n",
    "def get_sequence_length(identifier):\n",
    "    \"\"\"return length of given sequence identifier\"\"\"\n",
    "    return dp.get_metadata(identifier)[\"length\"]\n",
    "def translate_sequence_identifier(identifier, namespace):\n",
    "    \"\"\"return for given identifier, return *list* of equivalent identifiers in given namespace\"\"\"\n",
    "    return dp.translate_sequence_identifier(identifier, namespace)"
   ]
  },
  {
   "cell_type": "code",
   "execution_count": 18,
   "metadata": {},
   "outputs": [
    {
     "data": {
      "text/plain": [
       "58617616"
      ]
     },
     "execution_count": 18,
     "metadata": {},
     "output_type": "execute_result"
    }
   ],
   "source": [
    "get_sequence_length(\"ga4gh:SQ.IIB53T8CNeJJdUqzn9V_JnRtQadwWCbl\")"
   ]
  },
  {
   "cell_type": "code",
   "execution_count": 19,
   "metadata": {},
   "outputs": [
    {
     "data": {
      "text/plain": [
       "'CCGCGATGCCGATGACCTGCAGAAGCGCCTGGCAGTGTACCAGGCCGGGGC'"
      ]
     },
     "execution_count": 19,
     "metadata": {},
     "output_type": "execute_result"
    }
   ],
   "source": [
    "start, end = 44908821-25, 44908822+25\n",
    "get_sequence(\"ga4gh:SQ.IIB53T8CNeJJdUqzn9V_JnRtQadwWCbl\", start, end)"
   ]
  },
  {
   "cell_type": "code",
   "execution_count": 20,
   "metadata": {},
   "outputs": [
    {
     "data": {
      "text/plain": [
       "['ga4gh:SQ.IIB53T8CNeJJdUqzn9V_JnRtQadwWCbl']"
      ]
     },
     "execution_count": 20,
     "metadata": {},
     "output_type": "execute_result"
    }
   ],
   "source": [
    "translate_sequence_identifier(\"GRCh38:19\", \"ga4gh\")"
   ]
  },
  {
   "cell_type": "code",
   "execution_count": 21,
   "metadata": {},
   "outputs": [
    {
     "data": {
      "text/plain": [
       "['GRCh38:chr19', 'GRCh38:19']"
      ]
     },
     "execution_count": 21,
     "metadata": {},
     "output_type": "execute_result"
    }
   ],
   "source": [
    "translate_sequence_identifier(\"ga4gh:SQ.IIB53T8CNeJJdUqzn9V_JnRtQadwWCbl\", \"GRCh38\")"
   ]
  },
  {
   "cell_type": "markdown",
   "metadata": {},
   "source": [
    "----\n",
    "# Validation examples"
   ]
  },
  {
   "cell_type": "markdown",
   "metadata": {},
   "source": [
    "## models.yaml"
   ]
  },
  {
   "cell_type": "code",
   "execution_count": 22,
   "metadata": {},
   "outputs": [
    {
     "name": "stdout",
     "output_type": "stream",
     "text": [
      "SimpleInterval:\n",
      "  -\n",
      "    in:\n",
      "      end: 44908822\n",
      "      start: 44908821\n",
      "      type: SimpleInterval\n",
      "    out:\n",
      "      ga4gh_serialize: '{\"end\":44908822,\"start\":44908821,\"type\":\"SimpleInterval\"}'\n",
      "\n",
      "SequenceLocation:\n",
      "  -\n",
      "    in:\n",
      "      interval:\n",
      "        end: 44908822\n",
      "        start: 44908821\n",
      "        type: SimpleInterval\n",
      "      sequence_id: ga4gh:SQ.IIB53T8CNeJJdUqzn9V_JnRtQadwWCbl\n",
      "      type: SequenceLocation\n",
      "    out:\n",
      "      ga4gh_digest: u5fspwVbQ79QkX6GHLF8tXPCAXFJqRPx\n",
      "      ga4gh_identify: ga4gh:VSL.u5fspwVbQ79QkX6GHLF8tXPCAXFJqRPx\n",
      "      ga4gh_serialize: '{\"interval\":{\"end\":44908822,\"start\":44908821,\"type\":\"SimpleInterval\"},\"sequence_id\":\"IIB53T8CNeJJdUqzn9V_JnRtQadwWCbl\",\"type\":\"SequenceLocation\"}'\n",
      "\n",
      "Allele:\n",
      "  -\n",
      "    in:\n",
      "      location:\n",
      "        interval:\n",
      "          end: 44908822\n",
      "          start: 44908821\n",
      "          type: SimpleInterval\n",
      "        sequence_id: ga4gh:SQ.IIB53T8CNeJJdUqzn9V_JnRtQadwWCbl\n",
      "        type: SequenceLocation\n",
      "      state:\n",
      "        sequence: T\n",
      "        type: SequenceState\n",
      "      type: Allele\n",
      "    out:\n",
      "      ga4gh_digest: EgHPXXhULTwoP4-ACfs-YCXaeUQJBjH_\n",
      "      ga4gh_identify: ga4gh:VA.EgHPXXhULTwoP4-ACfs-YCXaeUQJBjH_\n",
      "      ga4gh_serialize: '{\"location\":\"u5fspwVbQ79QkX6GHLF8tXPCAXFJqRPx\",\"state\":{\"sequence\":\"T\",\"type\":\"SequenceState\"},\"type\":\"Allele\"}'\n",
      "\n",
      "Haplotype:\n",
      "  -\n",
      "    in:\n",
      "      members:\n",
      "      - location:\n",
      "          interval:\n",
      "            end: 44908822\n",
      "            start: 44908821\n",
      "            type: SimpleInterval\n",
      "          sequence_id: ga4gh:SQ.IIB53T8CNeJJdUqzn9V_JnRtQadwWCbl\n",
      "          type: SequenceLocation\n",
      "        state:\n",
      "          sequence: T\n",
      "          type: SequenceState\n",
      "        type: Allele\n",
      "      type: Haplotype\n",
      "    out:\n",
      "      ga4gh_digest: M5ReqU1zS0CiCg8F61e-VeNWiNAVeYjF\n",
      "      ga4gh_identify: ga4gh:VH.M5ReqU1zS0CiCg8F61e-VeNWiNAVeYjF\n",
      "      ga4gh_serialize: '{\"members\":[\"EgHPXXhULTwoP4-ACfs-YCXaeUQJBjH_\"],\"type\":\"Haplotype\"}'\n",
      "\n"
     ]
    }
   ],
   "source": [
    "for o in [simple_interval]:\n",
    "    dy([ga4gh_serialize], o)\n",
    "for o in [sequence_location, allele, haplotype]:\n",
    "    dy([ga4gh_serialize, ga4gh_digest, ga4gh_identify], o)"
   ]
  },
  {
   "cell_type": "code",
   "execution_count": null,
   "metadata": {},
   "outputs": [],
   "source": []
  }
 ],
 "metadata": {
  "kernelspec": {
   "display_name": "3.10",
   "language": "python",
   "name": "python3"
  },
  "language_info": {
   "codemirror_mode": {
    "name": "ipython",
    "version": 3
   },
   "file_extension": ".py",
   "mimetype": "text/x-python",
   "name": "python",
   "nbconvert_exporter": "python",
   "pygments_lexer": "ipython3",
   "version": "3.10.8"
  },
  "vscode": {
   "interpreter": {
    "hash": "dbb74c070b5b31d3f95db5d50c295a2fecef2776518713f5a38b1637c900302e"
   }
  }
 },
 "nbformat": 4,
 "nbformat_minor": 2
}
