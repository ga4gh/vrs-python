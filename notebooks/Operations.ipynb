{
 "cells": [
  {
   "cell_type": "markdown",
   "metadata": {},
   "source": [
    "# Operations on VR Objects\n",
    "\n",
    "The VR Specification describes operations on variants that should be supported by implementations. This notebook demonstrates the following functions:\n",
    "\n",
    "* `normalize`: Implements sequence normalization for insertion and deletion variation\n",
    "* `sha512t24u`: Implements a convention constructing and formatting digests for an object\n",
    "* `ga4gh_digest`: Generates a digest for a GA4GH object\n",
    "* `ga4gh_serialize`: Serializes a GA4GH object using a canonical binary form\n",
    "* `ga4gh_identify`: Generates a CURIE identifier for a GA4GH object\n",
    "\n",
    "<img src=\"images/id-dig-ser.png\" width=\"75%\" alt=\"Operations Overview\"/>\n",
    "\n",
    "**Note:** Most implementation users will need only the `ga4gh_identify` function.\n",
    "We describe the `ga4gh_serialize`, `ga4gh_digest`, and `sha512t24u` functions here for completeness.\n",
    "\n",
    "<div class=\"alert alert-warning\">\n",
    "    These operations require access to external data to translate sequence identifiers.\n",
    "    See the vr-python README for installation options.\n",
    "</div>"
   ]
  },
  {
   "cell_type": "markdown",
   "metadata": {},
   "source": [
    "## Load data saved by Schema notebook\n",
    "Loads the allele json and rehydrates an Allele object"
   ]
  },
  {
   "cell_type": "code",
   "execution_count": 1,
   "metadata": {},
   "outputs": [
    {
     "name": "stderr",
     "output_type": "stream",
     "text": [
      "Removing allOf attribute from CopyNumber to avoid python-jsonschema-objects error.\n",
      "Removing allOf attribute from SequenceInterval to avoid python-jsonschema-objects error.\n",
      "Removing allOf attribute from RepeatedSequenceExpression to avoid python-jsonschema-objects error.\n",
      "/Users/kxk102/Documents/ga4gh/vrs-python/venv/3.10/lib/python3.10/site-packages/python_jsonschema_objects/__init__.py:49: UserWarning: Schema version http://json-schema.org/draft-07/schema not recognized. Some keywords and features may not be supported.\n",
      "  warnings.warn(\n"
     ]
    },
    {
     "name": "stdout",
     "output_type": "stream",
     "text": [
      "<Allele attributes: _id, location, state, type>\n",
      "{'type': 'Allele', 'location': {'type': 'SequenceLocation', 'sequence_id': 'refseq:NC_000019.10', 'interval': {'type': 'SimpleInterval', 'start': 44908821, 'end': 44908822}}, 'state': {'type': 'SequenceState', 'sequence': 'A'}}\n"
     ]
    }
   ],
   "source": [
    "import json\n",
    "from ga4gh.vrs import models\n",
    "\n",
    "data = json.load(open(\"objects.json\"))\n",
    "allele = models.Variation(**data[\"alleles\"][0])\n",
    "print(allele)\n",
    "print(allele.as_dict())"
   ]
  },
  {
   "cell_type": "markdown",
   "metadata": {},
   "source": [
    "## External Sequence Data\n",
    "\n",
    "In order to support the full functionality of VR, implementations require access to all sequences and sequence identifiers that are uses as variation reference sequences.  For the purposes of this notebook, data are mocked as static responses. \n",
    "\n",
    "The VR specification leaves the choice of those data sources to the implementations.  In vr-python, `ga4gh.vrs.dataproxy` provides an abstract base class as a basis for data source adapters.  One source is [SeqRepo](https://github.com/biocommons/biocommons.seqrepo/), which is used below.  (An adapter based on the GA4GH refget specification exists, but is pending necessary changes to the refget interface to provide accession-based lookups.)\n",
    "\n",
    "SeqRepo: [github](https://github.com/biocommons/biocommons.seqrepo/) | [data snapshots](http://dl.biocommons.org/seqrepo/) | [seqrepo-rest-service @ github](https://github.com/biocommons/seqrepo-rest-service) | [seqrepo-rest-service docker images](https://cloud.docker.com/u/biocommons/repository/docker/biocommons/seqrepo-rest-service)\n",
    "\n",
    "RefGet: [spec](https://samtools.github.io/hts-specs/refget.html) | [perl server](https://github.com/andrewyatz/refget-server-perl)"
   ]
  },
  {
   "cell_type": "code",
   "execution_count": 2,
   "metadata": {},
   "outputs": [],
   "source": [
    "from ga4gh.core import sha512t24u\n",
    "from ga4gh.core import ga4gh_digest, ga4gh_identify, ga4gh_serialize\n",
    "from ga4gh.vrs import __version__, models\n",
    "from ga4gh.vrs.dataproxy import SeqRepoRESTDataProxy\n",
    "\n",
    "# Requires seqrepo REST interface is running on this URL (e.g., using docker image)\n",
    "seqrepo_rest_service_url = \"https://services.genomicmedlab.org/seqrepo\"\n",
    "dp = SeqRepoRESTDataProxy(base_url=seqrepo_rest_service_url)"
   ]
  },
  {
   "cell_type": "code",
   "execution_count": 3,
   "metadata": {
    "scrolled": true
   },
   "outputs": [
    {
     "data": {
      "text/plain": [
       "['ga4gh:SQ.IIB53T8CNeJJdUqzn9V_JnRtQadwWCbl']"
      ]
     },
     "execution_count": 3,
     "metadata": {},
     "output_type": "execute_result"
    }
   ],
   "source": [
    "dp.translate_sequence_identifier(\"refseq:NC_000019.10\", \"ga4gh\")"
   ]
  },
  {
   "cell_type": "code",
   "execution_count": 4,
   "metadata": {},
   "outputs": [
    {
     "data": {
      "text/plain": [
       "'CCGCGATGCCGATGACCTGCAGAAGCGCCTGGCAGTGTACCAGGCCGGGGC'"
      ]
     },
     "execution_count": 4,
     "metadata": {},
     "output_type": "execute_result"
    }
   ],
   "source": [
    "dp.get_sequence(\"ga4gh:SQ.IIB53T8CNeJJdUqzn9V_JnRtQadwWCbl\", start=44908821-25, end=44908822+25)"
   ]
  },
  {
   "cell_type": "markdown",
   "metadata": {},
   "source": [
    "## normalize() \n",
    "\n",
    "VR Spec REQUIRES that variation is reported as \"expanded\" alleles. Expanded alleles capture the entire region of insertion/deletion amiguity, thereby facilitating comparisons that would otherwise require on-the-fly computations. Note: this example is using the bioutils normalize method, rather than the vrs, since that one does not support shuffling."
   ]
  },
  {
   "cell_type": "code",
   "execution_count": 5,
   "metadata": {},
   "outputs": [],
   "source": [
    "# Define a dinucleotide insertion on the following sequence at interbase (13, 13)\n",
    "sequence = \"CCCCCCCCACACACACACTAGCAGCAGCA\"\n",
    "#    0 1 2 3 4 5 6 7 8 9 0 1 2 3 4 5 6 7 8 9 0 1 2 3 4 5 6 7 8 9\n",
    "#     C C C C C C C C A C A C A C A C A C T A G C A G C A G C A\n",
    "#                              ^ insert CA here\n",
    "interval = (13, 13)\n",
    "alleles = (None, \"CA\")\n",
    "args = dict(sequence=sequence, interval=interval, alleles=alleles, bounds=(0,len(sequence)))"
   ]
  },
  {
   "cell_type": "code",
   "execution_count": 6,
   "metadata": {},
   "outputs": [
    {
     "data": {
      "text/plain": [
       "((7, 18), ('CACACACACAC', 'CACACACACACAC'))"
      ]
     },
     "execution_count": 6,
     "metadata": {},
     "output_type": "execute_result"
    }
   ],
   "source": [
    "import bioutils\n",
    "# The expanded allele sequences. This is a concept that is valid in HGVS space.\n",
    "bioutils.normalize.normalize(**args, mode=\"EXPAND\")"
   ]
  },
  {
   "cell_type": "code",
   "execution_count": 7,
   "metadata": {},
   "outputs": [
    {
     "data": {
      "text/plain": [
       "((7, 7), ('', 'CA'))"
      ]
     },
     "execution_count": 7,
     "metadata": {},
     "output_type": "execute_result"
    }
   ],
   "source": [
    "# For comparison, the left and right shuffled alleles\n",
    "bioutils.normalize.normalize(**args, mode=\"LEFTSHUFFLE\")"
   ]
  },
  {
   "cell_type": "code",
   "execution_count": 8,
   "metadata": {},
   "outputs": [
    {
     "data": {
      "text/plain": [
       "((18, 18), ('', 'AC'))"
      ]
     },
     "execution_count": 8,
     "metadata": {},
     "output_type": "execute_result"
    }
   ],
   "source": [
    "bioutils.normalize.normalize(**args, mode=\"RIGHTSHUFFLE\")"
   ]
  },
  {
   "cell_type": "code",
   "execution_count": 9,
   "metadata": {},
   "outputs": [],
   "source": [
    "# In contrast in the VR spec we provide fully justified representations:\n",
    "from ga4gh.vrs import normalize"
   ]
  },
  {
   "cell_type": "markdown",
   "metadata": {},
   "source": [
    "### sha512t24u() — Truncated SHA-512 digest\n",
    "The `sha512t24u` is a convention for constructing unique identifiers from binary objects (as from serialization) using well-known SHA512 hashing and Base64 (i.e., base64url) encoding. "
   ]
  },
  {
   "cell_type": "code",
   "execution_count": 10,
   "metadata": {
    "scrolled": true
   },
   "outputs": [
    {
     "data": {
      "text/plain": [
       "'z4PhNX7vuL3xVChQ1m2AB9Yg5AULVxXc'"
      ]
     },
     "execution_count": 10,
     "metadata": {},
     "output_type": "execute_result"
    }
   ],
   "source": [
    "sha512t24u(b\"\")"
   ]
  },
  {
   "cell_type": "code",
   "execution_count": 11,
   "metadata": {
    "scrolled": true
   },
   "outputs": [
    {
     "data": {
      "text/plain": [
       "'aKF498dAxcJAqme6QYQ7EZ07-fiw8Kw2'"
      ]
     },
     "execution_count": 11,
     "metadata": {},
     "output_type": "execute_result"
    }
   ],
   "source": [
    "sha512t24u(b\"ACGT\")"
   ]
  },
  {
   "cell_type": "markdown",
   "metadata": {},
   "source": [
    "## Computing Identifiers for objects"
   ]
  },
  {
   "cell_type": "markdown",
   "metadata": {},
   "source": [
    "### ga4gh_serialize()\n",
    "Serialization is the process of converting an object to a *binary* representation for transmission or communication. In the context of generating GA4GH identifiers, serialization is a process to generate a *canonical* JSON form in order to generate a digest. The VR serialization is based on a JSON canonincialization scheme consistent with several existing proposals. See the spec for details.\n",
    "\n",
    "Because the serialization and digest methods are well-defined, groups with the same data will generate the same digests and computed identifiers.\n",
    "\n",
    "GA4GH serialization replaces inline identifiable objects with their digests in order to create a well-defined ordering. See the `location` property in the `Allele` example below.\n",
    "\n",
    "<br>\n",
    "<div>\n",
    "    <div style=\"border-radius: 10px; width: 80%; margin: 0 auto; padding: 5px; border: 2pt solid #660000; color: #660000; background: #f4cccc;\">\n",
    "        <span style=\"font-size: 200%\">⚠</span> Although JSON serialization and GA4GH canonical JSON serialization appear similar, they are NOT interchangeable and will generated different digests. GA4GH identifiers are defined <i>only</i> when used with GA4GH serialization process.\n",
    "    </div>\n",
    "</div>"
   ]
  },
  {
   "cell_type": "code",
   "execution_count": 12,
   "metadata": {},
   "outputs": [
    {
     "data": {
      "text/plain": [
       "{'type': 'Allele',\n",
       " 'location': {'type': 'SequenceLocation',\n",
       "  'sequence_id': 'refseq:NC_000019.10',\n",
       "  'interval': {'type': 'SimpleInterval', 'start': 44908821, 'end': 44908822}},\n",
       " 'state': {'type': 'SequenceState', 'sequence': 'A'}}"
      ]
     },
     "execution_count": 12,
     "metadata": {},
     "output_type": "execute_result"
    }
   ],
   "source": [
    "# This is the \"simple\" allele defined above, repeated here for readability\n",
    "# Note that the location data is inlined\n",
    "allele.as_dict()"
   ]
  },
  {
   "cell_type": "code",
   "execution_count": 13,
   "metadata": {
    "scrolled": false
   },
   "outputs": [
    {
     "data": {
      "text/plain": [
       "b'{\"location\":\"EhF8FehHeWNA9-R2CmWul4UU2D1eoqbZ\",\"state\":{\"sequence\":\"A\",\"type\":\"SequenceState\"},\"type\":\"Allele\"}'"
      ]
     },
     "execution_count": 13,
     "metadata": {},
     "output_type": "execute_result"
    }
   ],
   "source": [
    "# This is the serialized form. Notice that the inline `Location` instance was replaced with\n",
    "# its identifier and that the Allele id is not included. \n",
    "ga4gh_serialize(allele)"
   ]
  },
  {
   "cell_type": "markdown",
   "metadata": {},
   "source": [
    "## ga4gh_digest()\n",
    "ga4gh_digest() returns the sha512t24u digest of a ga4gh_serialize'd object.  The digest is cached within the object itself to minimize recomputation."
   ]
  },
  {
   "cell_type": "code",
   "execution_count": 14,
   "metadata": {},
   "outputs": [
    {
     "data": {
      "text/plain": [
       "'BMtuBCtBgBsT5hEpVcy7dxjCDT1kuXwu'"
      ]
     },
     "execution_count": 14,
     "metadata": {},
     "output_type": "execute_result"
    }
   ],
   "source": [
    "ga4gh_digest(allele)"
   ]
  },
  {
   "cell_type": "code",
   "execution_count": 15,
   "metadata": {},
   "outputs": [
    {
     "data": {
      "text/plain": [
       "'BMtuBCtBgBsT5hEpVcy7dxjCDT1kuXwu'"
      ]
     },
     "execution_count": 15,
     "metadata": {},
     "output_type": "execute_result"
    }
   ],
   "source": [
    "sha512t24u(ga4gh_serialize(allele))"
   ]
  },
  {
   "cell_type": "markdown",
   "metadata": {},
   "source": [
    "### ga4gh_identify()\n",
    "VR computed identifiers are constructed from digests on serialized objects by prefixing a VR digest with a type-specific code."
   ]
  },
  {
   "cell_type": "code",
   "execution_count": 16,
   "metadata": {},
   "outputs": [
    {
     "data": {
      "text/plain": [
       "'ga4gh:VA.BMtuBCtBgBsT5hEpVcy7dxjCDT1kuXwu'"
      ]
     },
     "execution_count": 16,
     "metadata": {},
     "output_type": "execute_result"
    }
   ],
   "source": [
    "# identify() uses this digest to construct a CURIE-formatted identifier.\n",
    "# The VA prefix identifies this object as a Variation Allele.\n",
    "ga4gh_identify(allele)"
   ]
  },
  {
   "cell_type": "code",
   "execution_count": null,
   "metadata": {},
   "outputs": [],
   "source": []
  }
 ],
 "metadata": {
  "kernelspec": {
   "display_name": "3.10",
   "language": "python",
   "name": "python3"
  },
  "language_info": {
   "codemirror_mode": {
    "name": "ipython",
    "version": 3
   },
   "file_extension": ".py",
   "mimetype": "text/x-python",
   "name": "python",
   "nbconvert_exporter": "python",
   "pygments_lexer": "ipython3",
   "version": "3.10.8"
  },
  "vscode": {
   "interpreter": {
    "hash": "dbb74c070b5b31d3f95db5d50c295a2fecef2776518713f5a38b1637c900302e"
   }
  }
 },
 "nbformat": 4,
 "nbformat_minor": 2
}
