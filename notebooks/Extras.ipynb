{
  "cells": [
    {
      "cell_type": "markdown",
      "metadata": {},
      "source": [
        "# ga4gh.vrs.extras\n",
        "\n",
        "This notebook demonstrates functionality in the vr-python package that builds on VRS but is not formally part of the specification. "
      ]
    },
    {
      "cell_type": "markdown",
      "metadata": {},
      "source": [
        "## Data Proxy\n",
        "VRS implementations will need access to sequences and sequence identifiers. Sequences are used during normalization and during conversions with other formats. Sequence identifiers are necessary in order to translate identfiers from common forms to a digest-based identifier.\n",
        "\n",
        "VRS leaves the choice of those data sources to the implementations.  In vr-python, `ga4gh.vrs.dataproxy` provides an abstract base class as a basis for data source adapters.  One source is [SeqRepo](https://github.com/biocommons/biocommons.seqrepo/), which is used below.  (An adapter based on the GA4GH refget specification exists, but is pending necessary changes to the refget interface to provide accession-based lookups.)\n",
        "\n",
        "SeqRepo: [github](https://github.com/biocommons/biocommons.seqrepo/) | [data snapshots](http://dl.biocommons.org/seqrepo/) | [seqrepo-rest-service @ github](https://github.com/biocommons/seqrepo-rest-service) | [seqrepo-rest-service docker images](https://cloud.docker.com/u/biocommons/repository/docker/biocommons/seqrepo-rest-service)\n",
        "\n",
        "RefGet: [spec](https://samtools.github.io/hts-specs/refget.html) | [perl server](https://github.com/andrewyatz/refget-server-perl)"
      ]
    },
    {
      "cell_type": "code",
      "execution_count": 1,
      "metadata": {
        "scrolled": true
      },
      "outputs": [
        {
          "name": "stderr",
          "output_type": "stream",
          "text": [
            "/Users/kxk102/Documents/ga4gh/vrs-python/venv/3.10/lib/python3.10/site-packages/python_jsonschema_objects/__init__.py:49: UserWarning: Schema version http://json-schema.org/draft-07/schema not recognized. Some keywords and features may not be supported.\n",
            "  warnings.warn(\n"
          ]
        }
      ],
      "source": [
        "from ga4gh.core import sha512t24u, ga4gh_digest, ga4gh_identify, ga4gh_serialize\n",
        "from ga4gh.vrs import __version__, models, normalize\n",
        "from ga4gh.vrs.dataproxy import SeqRepoRESTDataProxy\n",
        "from biocommons.seqrepo import SeqRepo\n",
        "\n",
        "seqrepo_rest_service_url = \"https://services.genomicmedlab.org/seqrepo\"\n",
        "dp = SeqRepoRESTDataProxy(base_url=seqrepo_rest_service_url)"
      ]
    },
    {
      "cell_type": "code",
      "execution_count": 2,
      "metadata": {},
      "outputs": [
        {
          "data": {
            "text/plain": [
              "{'added': '2016-08-24T05:03:11Z',\n",
              " 'aliases': ['MD5:215137b1973c1a5afcf86be7d999574a',\n",
              "  'NCBI:NM_000551.3',\n",
              "  'refseq:NM_000551.3',\n",
              "  'SEGUID:T12L0p2X5E8DbnL0+SwI4Wc1S6g',\n",
              "  'SHA1:4f5d8bd29d97e44f036e72f4f92c08e167354ba8',\n",
              "  'VMC:GS_v_QTc1p-MUYdgrRv4LMT6ByXIOsdw3C_',\n",
              "  'sha512t24u:v_QTc1p-MUYdgrRv4LMT6ByXIOsdw3C_',\n",
              "  'ga4gh:SQ.v_QTc1p-MUYdgrRv4LMT6ByXIOsdw3C_'],\n",
              " 'alphabet': 'ACGT',\n",
              " 'length': 4560}"
            ]
          },
          "execution_count": 2,
          "metadata": {},
          "output_type": "execute_result"
        }
      ],
      "source": [
        "dp.get_metadata(\"refseq:NM_000551.3\")"
      ]
    },
    {
      "cell_type": "code",
      "execution_count": 3,
      "metadata": {},
      "outputs": [
        {
          "data": {
            "text/plain": [
              "'CCTCGCCTCCGTTACAACGGCCTACGGTGCTGGAGGATCCTTCTGCGCACG...'"
            ]
          },
          "execution_count": 3,
          "metadata": {},
          "output_type": "execute_result"
        }
      ],
      "source": [
        "dp.get_sequence(\"ga4gh:SQ.v_QTc1p-MUYdgrRv4LMT6ByXIOsdw3C_\", start=0, end=51) + \"...\""
      ]
    },
    {
      "cell_type": "markdown",
      "metadata": {},
      "source": [
        "## Format translator\n",
        "ga4gh.vrs.extras.translator.Translator translates various formats into VRS representations. \n",
        "\n",
        "<div class=\"alert alert-success\">\n",
        "    <span style=\"font-size: larger\">🚀</span> The examples below use the same variant in 4 formats: HGVS, beacon, spdi, and VCF/gnomAD. Notice that the resulting Allele objects and computed identifiers are identical.</b>\n",
        "    \n",
        "By default, `Translator` 1) translates sequence identifiers to ga4gh digest-based identifiers, 2) normalizes alleles, 3) adds a ga4gh identifier. These may be disabled as desired. (However, `ga4gh_identify` requires that all objects use identifiers, including sequence identifiers, in the `ga4gh` namespace.)\n",
        "</div>"
      ]
    },
    {
      "cell_type": "code",
      "execution_count": 4,
      "metadata": {},
      "outputs": [],
      "source": [
        "from ga4gh.vrs.extras.translator import Translator\n",
        "tlr = Translator(data_proxy=dp,\n",
        "                 translate_sequence_identifiers=True,  # default\n",
        "                 normalize=True,                       # default\n",
        "                 identify=True)                        # default"
      ]
    },
    {
      "attachments": {},
      "cell_type": "markdown",
      "metadata": {},
      "source": [
        "### From/To HGVS\n",
        "\n",
        "<div class=\"alert alert-info\">\n",
        "    <span style=\"font-size: larger\">☛</span> The HGVS variant below shows C>T.\n",
        "    </div>"
      ]
    },
    {
      "cell_type": "code",
      "execution_count": 5,
      "metadata": {
        "scrolled": true
      },
      "outputs": [
        {
          "data": {
            "text/plain": [
              "{'_id': 'ga4gh:VA.CxiA_hvYbkD8Vqwjhx5AYuyul4mtlkpD',\n",
              " 'type': 'Allele',\n",
              " 'location': {'type': 'SequenceLocation',\n",
              "  'sequence_id': 'ga4gh:SQ.IIB53T8CNeJJdUqzn9V_JnRtQadwWCbl',\n",
              "  'interval': {'type': 'SequenceInterval',\n",
              "   'start': {'type': 'Number', 'value': 44908821},\n",
              "   'end': {'type': 'Number', 'value': 44908822}}},\n",
              " 'state': {'type': 'LiteralSequenceExpression', 'sequence': 'T'}}"
            ]
          },
          "execution_count": 5,
          "metadata": {},
          "output_type": "execute_result"
        }
      ],
      "source": [
        "a = tlr.translate_from(\"NC_000019.10:g.44908822C>T\",\"hgvs\")\n",
        "a.as_dict()"
      ]
    },
    {
      "cell_type": "code",
      "execution_count": 6,
      "metadata": {},
      "outputs": [
        {
          "data": {
            "text/plain": [
              "'The postgres default port of 5432 is blocked outbound by binder and potentially other institutions. To circumvent users having to install UTA themselves we created a rest data proxy for variation normalizer for the to_hgvs endpoint.'"
            ]
          },
          "execution_count": 6,
          "metadata": {},
          "output_type": "execute_result"
        }
      ],
      "source": [
        "#tlr.translate_to(a, \"hgvs\")\n",
        "\n",
        "\"The postgres default port of 5432 is blocked outbound by binder and potentially other institutions. \"\\\n",
        "\"To circumvent users having to install UTA themselves we created a rest data proxy for variation normalizer for the to_hgvs endpoint.\""
      ]
    },
    {
      "cell_type": "code",
      "execution_count": 7,
      "metadata": {},
      "outputs": [
        {
          "data": {
            "text/plain": [
              "['NC_000019.10:g.44908822C>T']"
            ]
          },
          "execution_count": 7,
          "metadata": {},
          "output_type": "execute_result"
        }
      ],
      "source": [
        "from ga4gh.vrs.extras.variation_normalizer_rest_dp import VariationNormalizerRESTDataProxy\n",
        "vnorm = VariationNormalizerRESTDataProxy()\n",
        "vnorm.to_hgvs(a)"
      ]
    },
    {
      "cell_type": "markdown",
      "metadata": {},
      "source": [
        "### From/To SPDI"
      ]
    },
    {
      "cell_type": "code",
      "execution_count": 8,
      "metadata": {
        "scrolled": true
      },
      "outputs": [
        {
          "data": {
            "text/plain": [
              "{'_id': 'ga4gh:VA.CxiA_hvYbkD8Vqwjhx5AYuyul4mtlkpD',\n",
              " 'type': 'Allele',\n",
              " 'location': {'type': 'SequenceLocation',\n",
              "  'sequence_id': 'ga4gh:SQ.IIB53T8CNeJJdUqzn9V_JnRtQadwWCbl',\n",
              "  'interval': {'type': 'SequenceInterval',\n",
              "   'start': {'type': 'Number', 'value': 44908821},\n",
              "   'end': {'type': 'Number', 'value': 44908822}}},\n",
              " 'state': {'type': 'LiteralSequenceExpression', 'sequence': 'T'}}"
            ]
          },
          "execution_count": 8,
          "metadata": {},
          "output_type": "execute_result"
        }
      ],
      "source": [
        "# SPDI uses 0-based coordinates\n",
        "a = tlr.translate_from(\"NC_000019.10:44908821:1:T\",\"spdi\")\n",
        "a.as_dict()"
      ]
    },
    {
      "cell_type": "code",
      "execution_count": 9,
      "metadata": {},
      "outputs": [
        {
          "data": {
            "text/plain": [
              "['NC_000019.10:44908821:1:T']"
            ]
          },
          "execution_count": 9,
          "metadata": {},
          "output_type": "execute_result"
        }
      ],
      "source": [
        "tlr.translate_to(a, \"spdi\")"
      ]
    },
    {
      "cell_type": "code",
      "execution_count": 10,
      "metadata": {},
      "outputs": [
        {
          "data": {
            "text/plain": [
              "['NC_000019.10:44908821:2:T']"
            ]
          },
          "execution_count": 10,
          "metadata": {},
          "output_type": "execute_result"
        }
      ],
      "source": [
        "a.location.interval.end.value += 1\n",
        "tlr.translate_to(a, \"spdi\")"
      ]
    },
    {
      "cell_type": "code",
      "execution_count": 11,
      "metadata": {},
      "outputs": [
        {
          "data": {
            "text/plain": [
              "['NC_000019.10:44908821:2:']"
            ]
          },
          "execution_count": 11,
          "metadata": {},
          "output_type": "execute_result"
        }
      ],
      "source": [
        "a.state.sequence = \"\"\n",
        "tlr.translate_to(a, \"spdi\")"
      ]
    },
    {
      "cell_type": "markdown",
      "metadata": {},
      "source": [
        "### from Beacon (VCF-like)"
      ]
    },
    {
      "cell_type": "code",
      "execution_count": 12,
      "metadata": {},
      "outputs": [
        {
          "data": {
            "text/plain": [
              "{'_id': 'ga4gh:VA.CxiA_hvYbkD8Vqwjhx5AYuyul4mtlkpD',\n",
              " 'type': 'Allele',\n",
              " 'location': {'type': 'SequenceLocation',\n",
              "  'sequence_id': 'ga4gh:SQ.IIB53T8CNeJJdUqzn9V_JnRtQadwWCbl',\n",
              "  'interval': {'type': 'SequenceInterval',\n",
              "   'start': {'type': 'Number', 'value': 44908821},\n",
              "   'end': {'type': 'Number', 'value': 44908822}}},\n",
              " 'state': {'type': 'LiteralSequenceExpression', 'sequence': 'T'}}"
            ]
          },
          "execution_count": 12,
          "metadata": {},
          "output_type": "execute_result"
        }
      ],
      "source": [
        "# from_beacon: Translate from beacon's form\n",
        "a = tlr.translate_from(\"19 : 44908822 C > T\", \"beacon\")\n",
        "a.as_dict()"
      ]
    },
    {
      "cell_type": "markdown",
      "metadata": {},
      "source": [
        "### from gnomAD style VCF"
      ]
    },
    {
      "cell_type": "code",
      "execution_count": 13,
      "metadata": {},
      "outputs": [
        {
          "data": {
            "text/plain": [
              "{'_id': 'ga4gh:VA.CxiA_hvYbkD8Vqwjhx5AYuyul4mtlkpD',\n",
              " 'type': 'Allele',\n",
              " 'location': {'type': 'SequenceLocation',\n",
              "  'sequence_id': 'ga4gh:SQ.IIB53T8CNeJJdUqzn9V_JnRtQadwWCbl',\n",
              "  'interval': {'type': 'SequenceInterval',\n",
              "   'start': {'type': 'Number', 'value': 44908821},\n",
              "   'end': {'type': 'Number', 'value': 44908822}}},\n",
              " 'state': {'type': 'LiteralSequenceExpression', 'sequence': 'T'}}"
            ]
          },
          "execution_count": 13,
          "metadata": {},
          "output_type": "execute_result"
        }
      ],
      "source": [
        "a = tlr.translate_from(\"19-44908822-C-T\", \"gnomad\")   # gnomAD-style expression\n",
        "a.as_dict()"
      ]
    },
    {
      "cell_type": "markdown",
      "metadata": {},
      "source": [
        "## Advanced Examples\n",
        "\n",
        "NM_000551.3 starts with `CCTCGCCTCC`. So, `NM_000551.3:n.5_6insC` inserts a C at the start of an existing run of two C residues."
      ]
    },
    {
      "cell_type": "code",
      "execution_count": 14,
      "metadata": {},
      "outputs": [],
      "source": [
        "from IPython.display import HTML, display\n",
        "import tabulate\n",
        "\n",
        "hgvs_expr = \"NM_000551.3:n.5_6insC\"\n",
        "\n",
        "# Translator with default behaviors disabled\n",
        "tlr2 = Translator(data_proxy=dp,\n",
        "                  translate_sequence_identifiers=False,\n",
        "                  normalize=False,\n",
        "                  identify=False)"
      ]
    },
    {
      "cell_type": "markdown",
      "metadata": {},
      "source": [
        "### translate_sequence_identifiers"
      ]
    },
    {
      "cell_type": "code",
      "execution_count": 15,
      "metadata": {},
      "outputs": [
        {
          "data": {
            "text/html": [
              "<table>\n",
              "<tbody>\n",
              "<tr><td>translate_sequence_identifiers=</td><td>sequence_id                              </td></tr>\n",
              "<tr><td>False                          </td><td>refseq:NM_000551.3                       </td></tr>\n",
              "<tr><td>True                           </td><td>ga4gh:SQ.v_QTc1p-MUYdgrRv4LMT6ByXIOsdw3C_</td></tr>\n",
              "</tbody>\n",
              "</table>"
            ],
            "text/plain": [
              "<IPython.core.display.HTML object>"
            ]
          },
          "metadata": {},
          "output_type": "display_data"
        }
      ],
      "source": [
        "header = \"translate_sequence_identifiers= sequence_id\".split()\n",
        "table = [header]\n",
        "for tsi in (False, True):\n",
        "    tlr2.translate_sequence_identifiers = tsi\n",
        "    a = tlr2.translate_from(hgvs_expr, \"hgvs\")\n",
        "    row = [tlr2.translate_sequence_identifiers,\n",
        "           a.location.sequence_id._value]\n",
        "    table += [row]\n",
        "display(HTML(tabulate.tabulate(table, tablefmt='html')))"
      ]
    },
    {
      "cell_type": "markdown",
      "metadata": {},
      "source": [
        "### normalize\n",
        "VRS normalization uses [fully-justified normalization](https://vr-spec.readthedocs.io/en/1.0/impl-guide/normalization.html). In this case, the left-aligned insertion (c.5_6insC) is renormalized as a replacement of the two C residues with three C residues at interbase coordinates [5,7]."
      ]
    },
    {
      "cell_type": "code",
      "execution_count": 16,
      "metadata": {},
      "outputs": [
        {
          "data": {
            "text/html": [
              "<table>\n",
              "<tbody>\n",
              "<tr><td>normalize=</td><td>sequence_id                              </td><td>interval</td><td>alt</td><td>hgvs              </td></tr>\n",
              "<tr><td>False     </td><td>ga4gh:SQ.v_QTc1p-MUYdgrRv4LMT6ByXIOsdw3C_</td><td>5,5     </td><td>C  </td><td>NM_000551.3:n.7dup</td></tr>\n",
              "<tr><td>True      </td><td>ga4gh:SQ.v_QTc1p-MUYdgrRv4LMT6ByXIOsdw3C_</td><td>5,7     </td><td>CCC</td><td>NM_000551.3:n.7dup</td></tr>\n",
              "</tbody>\n",
              "</table>"
            ],
            "text/plain": [
              "<IPython.core.display.HTML object>"
            ]
          },
          "metadata": {},
          "output_type": "display_data"
        }
      ],
      "source": [
        "tlr2.translate_sequence_identifiers = True\n",
        "\n",
        "header = \"normalize= sequence_id interval alt hgvs\".split()\n",
        "table = [header]\n",
        "for normalize in (False, True):\n",
        "    tlr2.normalize = normalize\n",
        "    a = tlr2.translate_from(hgvs_expr, \"hgvs\")\n",
        "    row = [tlr2.normalize,\n",
        "           a.location.sequence_id,\n",
        "           f\"{a.location.interval.start.value},{a.location.interval.end.value}\",\n",
        "           a.state.sequence,\n",
        "           #tlr2.translate_to(a, 'hgvs')[0]\n",
        "           vnorm.to_hgvs(a)[0]\n",
        "          ]\n",
        "    table += [row]\n",
        "display(HTML(tabulate.tabulate(table, tablefmt='html')))"
      ]
    }
  ],
  "metadata": {
    "kernelspec": {
      "display_name": "Python 3 (ipykernel)",
      "language": "python",
      "name": "python3"
    },
    "language_info": {
      "codemirror_mode": {
        "name": "ipython",
        "version": 3
      },
      "file_extension": ".py",
      "mimetype": "text/x-python",
      "name": "python",
      "nbconvert_exporter": "python",
      "pygments_lexer": "ipython3",
      "version": "3.9.13"
    },
    "toc": {
      "base_numbering": 1,
      "nav_menu": {},
      "number_sections": true,
      "sideBar": true,
      "skip_h1_title": false,
      "title_cell": "Table of Contents",
      "title_sidebar": "Contents",
      "toc_cell": false,
      "toc_position": {},
      "toc_section_display": true,
      "toc_window_display": false
    }
  },
  "nbformat": 4,
  "nbformat_minor": 4
}
