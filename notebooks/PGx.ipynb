{
 "cells": [
  {
   "cell_type": "markdown",
   "id": "6df4da5c-fd29-4a9d-aafb-5a254a13a984",
   "metadata": {
    "pycharm": {
     "name": "#%% md\n"
    }
   },
   "source": [
    "# Modeling Genotypes and PGx Star Alleles with VRS"
   ]
  },
  {
   "cell_type": "markdown",
   "id": "5e3eb62b-4267-40c9-9dd4-f82f4657958a",
   "metadata": {
    "pycharm": {
     "name": "#%% md\n"
    }
   },
   "source": [
    "## Imports and Configuration\n",
    "\n",
    "**NOTE:** A dynamic, web-based version of VRS-Python may be loaded through [mybinder.org](https://mybinder.org/v2/gh/ga4gh/vrs-python/pgxhttps://mybinder.org/v2/gh/ga4gh/vrs-python/pgx) where this notebook may be run without any local installation. Steps:\n",
    "1. Navigate to the [VRS-Python mybinder.org build](https://mybinder.org/v2/gh/ga4gh/vrs-python/pgx)\n",
    "2. Once the Binder build is completed, navigate to notebooks/PGx.ipynb\n",
    "3. Under kernel, select `VRS_kernel`"
   ]
  },
  {
   "cell_type": "code",
   "execution_count": 1,
   "id": "5040a57e-c81e-45da-9898-cba571ddd664",
   "metadata": {
    "pycharm": {
     "name": "#%%\n"
    }
   },
   "outputs": [
    {
     "name": "stderr",
     "output_type": "stream",
     "text": [
      "/Users/ahw001/git/vrs-python/venv/lib/python3.10/site-packages/python_jsonschema_objects/__init__.py:49: UserWarning: Schema version http://json-schema.org/draft-07/schema not recognized. Some keywords and features may not be supported.\n",
      "  warnings.warn(\n"
     ]
    }
   ],
   "source": [
    "from ga4gh.vrs import models, vrs_deref, vrs_enref\n",
    "from ga4gh.core import ga4gh_identify\n",
    "from jsonschema import validate\n",
    "import pathlib\n",
    "import csv\n",
    "from copy import deepcopy\n",
    "\n",
    "import re\n",
    "import yaml\n",
    "def ppo(o, indent=3):\n",
    "    \"\"\"pretty print object as yaml\"\"\"\n",
    "    print(yaml.dump(o.as_dict(), sort_keys=True, indent=indent))\n",
    "    \n",
    "from ga4gh.vrs.dataproxy import SeqRepoRESTDataProxy\n",
    "from ga4gh.vrs.extras.translator import Translator\n",
    "\n",
    "SCHEMA_DIR = pathlib.Path.cwd() / 'schemas'\n",
    "SCHEMA_URI_ROOT = \"file://\" + str(SCHEMA_DIR)"
   ]
  },
  {
   "cell_type": "code",
   "execution_count": 2,
   "id": "a8a856f9-2841-449c-8813-49d3364751cf",
   "metadata": {
    "pycharm": {
     "name": "#%%\n"
    }
   },
   "outputs": [],
   "source": [
    "seqrepo_rest_service_url = \"https://services.genomicmedlab.org/seqrepo\"\n",
    "dp = SeqRepoRESTDataProxy(base_url=seqrepo_rest_service_url)\n",
    "\n",
    "tlr = Translator(data_proxy=dp)"
   ]
  },
  {
   "cell_type": "markdown",
   "id": "77bd7e21-5491-4e8e-ad11-f44b8ceee1f6",
   "metadata": {
    "pycharm": {
     "name": "#%% md\n"
    }
   },
   "source": [
    "## Representing the PharmGKB CYP2C19 Star Alleles using VRS\n",
    "\n",
    "### CYP2C19 Allele Definitions\n",
    "The CYP2C19*1 PGx Allele is defined here: https://www.pharmgkb.org/haplotype/PA165980634.\n",
    "This page also contains an [Allele Definition Table](https://api.pharmgkb.org/v1/download/file/attachment/CYP2C19_allele_definition_table.xlsxhttps://api.pharmgkb.org/v1/download/file/attachment/CYP2C19_allele_definition_table.xlsx) for all major Star Alleles in the CYP2C19 gene. For convenience, this file has been converted to CSV and added to this repository as `/notebooks/data/CYP2C19_allele_definition_table.csv` for use in the following exercises."
   ]
  },
  {
   "cell_type": "code",
   "execution_count": 3,
   "id": "9d641d11-2997-489c-91dd-9cb10886dbe5",
   "metadata": {
    "pycharm": {
     "name": "#%%\n"
    }
   },
   "outputs": [],
   "source": [
    "# Load the allele definition table\n",
    "with open('data/CYP2C19_allele_definition_table.csv', 'r') as f:\n",
    "    reader = csv.reader(f)\n",
    "    records = list(reader)"
   ]
  },
  {
   "cell_type": "code",
   "execution_count": 4,
   "id": "387e057e-a2e7-4462-a64c-19755f5bf8c0",
   "metadata": {
    "pycharm": {
     "name": "#%%\n"
    }
   },
   "outputs": [],
   "source": [
    "haplotype_alt_genomic_hgvs = records[3][1:-1]\n",
    "haplotype_alt_definitions = records[7:]\n",
    "\n",
    "compound_code_star_allele = set()\n",
    "compound_code_star_allele_index = list()\n",
    "\n",
    "# Find all records with compound codes\n",
    "for i, definition_record in enumerate(haplotype_alt_definitions):\n",
    "    compound_code_count = 0\n",
    "    for code in definition_record[1:-1]:\n",
    "        if code not in ['A', 'C', 'T', 'G', '']:\n",
    "            compound_code_count += 1\n",
    "    if compound_code_count == 0:\n",
    "        continue\n",
    "    elif compound_code_count == 1:\n",
    "        compound_code_star_allele.add(\"CYP2C19\" + definition_record[0])\n",
    "        compound_code_star_allele_index.insert(0, i)\n",
    "    else:\n",
    "        # Does not handle multiple compound codes in definition\n",
    "        raise ValueError\n",
    "\n",
    "# Defining lookups for compound codes as described here:\n",
    "# https://www.bioinformatics.org/sms/iupac.html\n",
    "IUPAC_compound_codes = {\n",
    "    'R':['A','G'],\n",
    "    'Y':['C','T'],\n",
    "    'M':['A','C'],\n",
    "}\n",
    "\n",
    "# Remove all records with compound codes\n",
    "new_records = list()\n",
    "for index in compound_code_star_allele_index:\n",
    "    old_record = haplotype_alt_definitions.pop(index)\n",
    "    for i, code in enumerate(old_record):\n",
    "        if i == 0:\n",
    "            continue\n",
    "        if code in IUPAC_compound_codes:\n",
    "            new_record_1 = deepcopy(old_record)\n",
    "            new_record_2 = deepcopy(old_record)\n",
    "            new_record_1[i], new_record_2[i] = IUPAC_compound_codes[code]\n",
    "            break\n",
    "    haplotype_alt_definitions.extend([new_record_1, new_record_2])"
   ]
  },
  {
   "cell_type": "code",
   "execution_count": 5,
   "id": "a4050ee3-8365-4585-b58c-fed576cefc82",
   "metadata": {
    "pycharm": {
     "name": "#%%\n"
    }
   },
   "outputs": [],
   "source": [
    "haplotype_alt_genomic_vrs = [tlr.translate_from(':'.join(['NC_000010.11', x]), 'hgvs') for x in haplotype_alt_genomic_hgvs]"
   ]
  },
  {
   "cell_type": "code",
   "execution_count": 6,
   "id": "9212b8c9-42ed-4ce3-b2e3-0d92f908f500",
   "metadata": {
    "pycharm": {
     "name": "#%%\n"
    }
   },
   "outputs": [],
   "source": [
    "vrs_object_store = dict()\n",
    "star_allele = dict()\n",
    "compatible_star_alleles = dict()\n",
    "\n",
    "def get_ref_allele(location):\n",
    "    return dp.get_sequence(location.sequence_id, start=location.interval.start.value, end=location.interval.end.value)\n",
    "\n",
    "def create_vrs_haplotype_from_genomic_definitions(genomic_vrs_defs, haploytpe_alt_defs):\n",
    "    for haplotype_alt_def in haploytpe_alt_defs:\n",
    "        allele_name = \"CYP2C19\" + haplotype_alt_def[0]\n",
    "        special_definition = haplotype_alt_def[-1]\n",
    "        allele_alts = haplotype_alt_def[1:-1]\n",
    "        members = list()\n",
    "        if special_definition:\n",
    "            continue\n",
    "        for base_allele, alt in zip(genomic_vrs_defs, allele_alts):\n",
    "            if alt == '':\n",
    "                alt = get_ref_allele(base_allele.location)\n",
    "            if alt not in ['A','C','T','G']:\n",
    "                # If this error occurs, you need to address demuxing compound codes\n",
    "                raise ValueError\n",
    "            new_allele = models.Allele(location=base_allele.location, \n",
    "                                       state=models.LiteralSequenceExpression(sequence=alt))\n",
    "            refd_allele = vrs_enref(new_allele, object_store=vrs_object_store)\n",
    "            allele_id = ga4gh_identify(refd_allele)\n",
    "            vrs_object_store[allele_id] = refd_allele\n",
    "            members.append(refd_allele)\n",
    "            compatible_set = compatible_star_alleles.get(allele_id, set())\n",
    "            compatible_set.add(allele_name)\n",
    "            compatible_star_alleles[allele_id] = compatible_set\n",
    "        haplotype = models.Haplotype(members=members)\n",
    "        refd_haplotype = vrs_enref(haplotype, object_store=vrs_object_store)\n",
    "        haplotype_id = ga4gh_identify(refd_haplotype)\n",
    "        vrs_object_store[haplotype_id] = refd_haplotype\n",
    "        if allele_name in compound_code_star_allele:\n",
    "            haplotype_set = star_allele.get(allele_name, set())\n",
    "            haplotype_set.add(haplotype_id)\n",
    "            star_allele[allele_name] = haplotype_set\n",
    "        else:\n",
    "            star_allele[allele_name] = haplotype_id\n",
    "\n",
    "create_vrs_haplotype_from_genomic_definitions(haplotype_alt_genomic_vrs, haplotype_alt_definitions)"
   ]
  },
  {
   "cell_type": "code",
   "execution_count": 7,
   "id": "5ff7c94f-59f2-4c27-8a28-f1cf02b6890b",
   "metadata": {
    "pycharm": {
     "name": "#%%\n"
    }
   },
   "outputs": [
    {
     "data": {
      "text/plain": [
       "{'CYP2C19*38': 'ga4gh:VH.FkhAIRV9DT8KUM6ZRpzECQ2o6i6pqHsX',\n",
       " 'CYP2C19*1': 'ga4gh:VH.Py9ikChcoN8lU4bGxcwilbMcafqMrR4y',\n",
       " 'CYP2C19*3': 'ga4gh:VH.eaxIbw6hCuiI7A8ElpbQZk2XbPEQ5pAz',\n",
       " 'CYP2C19*5': 'ga4gh:VH.pmYj9lbzm_QX5CFP3kBXxFsAMqBQPFrF',\n",
       " 'CYP2C19*6': 'ga4gh:VH.9gYWdH3ubsssAzjOJ7h3DwLZEP0-eZY3',\n",
       " 'CYP2C19*7': 'ga4gh:VH.ZGg35ABWAaQlU6-4KXcmYyt-pV4tmr2k',\n",
       " 'CYP2C19*8': 'ga4gh:VH.vCab1KWGn52Zo1xiPGQRMNLqt1i71iyN',\n",
       " 'CYP2C19*9': 'ga4gh:VH.pGSS8ikrJOi3qfmV1HPJI2PNlygBWnsh',\n",
       " 'CYP2C19*10': 'ga4gh:VH.NPE64q_K739eslbVtny0Zveiz1o21UCf',\n",
       " 'CYP2C19*11': 'ga4gh:VH.ozsW9ivqBRZLxcfwTthre4MK4WWPos5O',\n",
       " 'CYP2C19*12': 'ga4gh:VH.fV3C_E5bLTXnVfWTMDq7T7vjxTuVeK52',\n",
       " 'CYP2C19*13': 'ga4gh:VH.WVv7Se8DTvbyKSBlvc-k5oMn2to5C68z',\n",
       " 'CYP2C19*14': 'ga4gh:VH.EpPPyos_2lkzbpuK0LyytaFJDjVZ7ff8',\n",
       " 'CYP2C19*15': 'ga4gh:VH.dZAsiqTAoYsIk7TLySp5y1CX1DR_3lwF',\n",
       " 'CYP2C19*16': 'ga4gh:VH.OQN9cew2VGwhziABQJZeFdVE2pX-XaFd',\n",
       " 'CYP2C19*17': 'ga4gh:VH.82M04IDxj6s2nwH9Nxd15uSVcL5Lcoq5',\n",
       " 'CYP2C19*18': 'ga4gh:VH.lqeDsM6iXU5v2cHxxE8LLLnn_MEOOjzF',\n",
       " 'CYP2C19*19': 'ga4gh:VH.jRXQQwD06FSk0QvqHRG5JcPr7rLfrcBf',\n",
       " 'CYP2C19*22': 'ga4gh:VH.odMPgEDKNzuh-KiZbSIUau1B1ua1dJ2D',\n",
       " 'CYP2C19*23': 'ga4gh:VH.6SvRCIKaxBMvGMiK1LMVDWlyQiwJj44c',\n",
       " 'CYP2C19*24': 'ga4gh:VH.iQ4Q3sfS6Lu-ClEzppuo2Kk2a9oXzC9o',\n",
       " 'CYP2C19*25': 'ga4gh:VH.MdgEoBt0q_v8I7-oewkyzvO7o6zquEDs',\n",
       " 'CYP2C19*26': 'ga4gh:VH.ieDA9fBpUp9mp380L-3kWS-gAkiAhv5q',\n",
       " 'CYP2C19*28': 'ga4gh:VH.fbNSyaEFU1spveXr27LYurbauSMzXjp3',\n",
       " 'CYP2C19*29': 'ga4gh:VH.M2_6ALlgoXguPrZ36S666UvSikwcAvdQ',\n",
       " 'CYP2C19*30': 'ga4gh:VH.0eQhE3O374JfLdXQHV9erBL6Ho9GtvK3',\n",
       " 'CYP2C19*31': 'ga4gh:VH.Iuxr9ikRw6fjWDXRg8UVcaCC_WIDTY-T',\n",
       " 'CYP2C19*32': 'ga4gh:VH.4I_gp_0ATqgryhOsvBUfoET4uh9hTd1Q',\n",
       " 'CYP2C19*33': 'ga4gh:VH.yGsc45YgDMge3yyVORyMx3pMg4o7JXaw',\n",
       " 'CYP2C19*34': 'ga4gh:VH.MpJ23PKXbyhmcqnlG_RWX1Ou1numHmnQ',\n",
       " 'CYP2C19*39': 'ga4gh:VH.E4D8jBomsXqZWFswLyzbSZCYjWPNMRxh',\n",
       " 'CYP2C19*35': {'ga4gh:VH.3P-8bSiH7gvx913VpLfauyiWqV2tZHxD',\n",
       "  'ga4gh:VH.9OW27GouEEcb6UoTHNQWPzKsDAzayhCL'},\n",
       " 'CYP2C19*4': {'ga4gh:VH.83CEznzIpIUsWi7ir6K-N07PKYyzj7Kk',\n",
       "  'ga4gh:VH.C86KS24BAHgpFgWokb8tLQx4JZs6O-hg'},\n",
       " 'CYP2C19*2': {'ga4gh:VH.T6fvUERhhR7RlbMX9cW9yEsTffpRXU61',\n",
       "  'ga4gh:VH.gzW72Xz_6yOlh9Wzu9WucQdPv1I7eqaB'}}"
      ]
     },
     "execution_count": 7,
     "metadata": {},
     "output_type": "execute_result"
    }
   ],
   "source": [
    "star_allele"
   ]
  },
  {
   "cell_type": "markdown",
   "id": "b56647ea-7126-451f-938e-5fce4effd811",
   "metadata": {
    "pycharm": {
     "name": "#%% md\n"
    }
   },
   "source": [
    "## Retrieving Star Alleles as Haplotypes"
   ]
  },
  {
   "cell_type": "code",
   "execution_count": 8,
   "id": "e72c375d-149a-471b-ae0b-8c756fbca4c8",
   "metadata": {
    "pycharm": {
     "name": "#%%\n"
    }
   },
   "outputs": [
    {
     "data": {
      "text/plain": [
       "'ga4gh:VH.Py9ikChcoN8lU4bGxcwilbMcafqMrR4y'"
      ]
     },
     "execution_count": 8,
     "metadata": {},
     "output_type": "execute_result"
    }
   ],
   "source": [
    "## CYP2C19*1\n",
    "\n",
    "vrs_cyp2c19_1_id = star_allele[\"CYP2C19*1\"]\n",
    "vrs_cyp2c19_1_id"
   ]
  },
  {
   "cell_type": "code",
   "execution_count": 9,
   "id": "79f31c13-12a5-4d01-83d4-685f7a6f07ae",
   "metadata": {
    "pycharm": {
     "name": "#%%\n"
    }
   },
   "outputs": [
    {
     "name": "stdout",
     "output_type": "stream",
     "text": [
      "members:\n",
      "- ga4gh:VA.MyADCvK6DOi3cnxksgB14WljIrg-ZI2z\n",
      "- ga4gh:VA.1uIry_sfKDasqUQFDWlN4i8y3x5NCcoX\n",
      "- ga4gh:VA.MegJUns5wJOG7BXEA70Ohq7V561OcoB7\n",
      "- ga4gh:VA.KQ8c6bvw3XUFE0edAVwgNeCl1PvNmZr9\n",
      "- ga4gh:VA.xjFHV26pLxfGzSPyCtIIvwTNeil0UqGr\n",
      "- ga4gh:VA.dKgTBytJeBXy1k34yb0zpAQHAkFHfvRD\n",
      "- ga4gh:VA.ne0L6WXxQfjSP-x114EJLUdNEGjW9zTh\n",
      "- ga4gh:VA.dijsDtiZBZWwSrnwgJ20c0h74o5TTxsX\n",
      "- ga4gh:VA.VtfREnnA9R-d8lbEAlPEo99j8BbsRaBl\n",
      "- ga4gh:VA.PgsuPCl2O0s8UcWK1qHcD_u4YoB96xO1\n",
      "- ga4gh:VA.zoLzyDHkRmBjOplHBS-Nd1SDOFPYFlXR\n",
      "- ga4gh:VA.WR3WlywNms4jdQbPDrYkwx5lwfxMrUa9\n",
      "- ga4gh:VA.EaeUSsUs8F0rxWCCjhKyUtVDYvN9_HKS\n",
      "- ga4gh:VA.7ijuQlYS0BzAFXE-Q-enNTIIQT9cEt0k\n",
      "- ga4gh:VA.w4kx8a9U3NZB9ewOU4KliYgnqO1hrLvQ\n",
      "- ga4gh:VA.i2VXJYVOGplFtwp0wESgMHjRVoRytIAP\n",
      "- ga4gh:VA.V316joLwuiSzz5gaYS7BpodgvqD0guxC\n",
      "- ga4gh:VA.0GDQZCHWdndUYcHGxcBmG7TMDv5PmbKb\n",
      "- ga4gh:VA.Z2LLoarnxwdQ00DqZQp2WnFxOhzTeHuR\n",
      "- ga4gh:VA.D6e9KM2faacJPWgbdR1pEhXVrm0lzrxe\n",
      "- ga4gh:VA.V3b7Qcfj-KQC1Yb4dhDyr-TUCuALSTbZ\n",
      "- ga4gh:VA.b34egYFmn-7mHEqgdrzZoU0RqXhayDD-\n",
      "- ga4gh:VA.AyFzahm7qk1wdqMs8cEAzPk_E6rbrutt\n",
      "- ga4gh:VA.yjzohIPI_22PsuIiSpApGM0dvr5bt4-o\n",
      "- ga4gh:VA._HSeKZ-iNnXgaS27B5uridgipRmi9-Yn\n",
      "- ga4gh:VA.5wkhv5TTAkisUa9IUgPTH0UwykfZrvGL\n",
      "- ga4gh:VA.geQCxa1Enel8UBUAQQ2-rbphDjIR-cq0\n",
      "- ga4gh:VA.vcgBfJX_vyXGq_8gUJQN2QfNSm5HWVeF\n",
      "- ga4gh:VA.lnlaqsSi9p8VSOda852jBtYNT_i67FUs\n",
      "- ga4gh:VA.Gj8KKduu_X4E8MHLLZ_2wMxNz7KXqa7G\n",
      "- ga4gh:VA.fT7vq4ijVdNIwMyL7honiHQ8l3-CGZx8\n",
      "- ga4gh:VA.2QBbkoLkqYD9LXqQsMo0Nbit_7qEIFjA\n",
      "- ga4gh:VA.NgsR3KgPHJCP3ee7na0t2zWi-ez1p77e\n",
      "- ga4gh:VA.KFoaAHXUAOjFZYVv38t9T_Zhug4PvGLL\n",
      "type: Haplotype\n",
      "\n"
     ]
    }
   ],
   "source": [
    "vrs_cyp2c19_1_obj = vrs_object_store[vrs_cyp2c19_1_id]\n",
    "ppo(vrs_cyp2c19_1_obj)"
   ]
  },
  {
   "cell_type": "code",
   "execution_count": 10,
   "id": "3478ed94-0615-491d-97dc-8c48e24951a9",
   "metadata": {
    "pycharm": {
     "name": "#%%\n"
    },
    "tags": []
   },
   "outputs": [],
   "source": [
    "# ppo(vrs_deref(vrs_cyp2c19_1_obj, vrs_object_store))"
   ]
  },
  {
   "cell_type": "markdown",
   "id": "fef855f3-8268-4233-832d-b6ee005ee653",
   "metadata": {
    "pycharm": {
     "name": "#%% md\n"
    }
   },
   "source": [
    "## Constructing a PGx Diplotype"
   ]
  },
  {
   "cell_type": "markdown",
   "id": "ba01e2fe-d403-42b0-8809-2f6d84aabf2b",
   "metadata": {
    "pycharm": {
     "name": "#%% md\n"
    }
   },
   "source": [
    "See the Genotype class [here](https://vrs.ga4gh.org/en/latest/terms_and_model.html#genotype)."
   ]
  },
  {
   "cell_type": "code",
   "execution_count": 11,
   "id": "3d76fc5b-38e3-4f1c-8636-a77d92cf4ebf",
   "metadata": {
    "pycharm": {
     "name": "#%%\n"
    }
   },
   "outputs": [],
   "source": [
    "## One *1 allele\n",
    "vrs_star_1 = vrs_deref(vrs_object_store[star_allele[\"CYP2C19*1\"]], vrs_object_store)\n",
    "genotype_member_1 = models.GenotypeMember(variation=vrs_star_1, count=models.Number(value=1))\n",
    "\n",
    "## One *17 allele\n",
    "vrs_star_17 = vrs_deref(vrs_object_store[star_allele[\"CYP2C19*17\"]], vrs_object_store)\n",
    "genotype_member_2 = models.GenotypeMember(variation=vrs_star_17, count=models.Number(value=1))\n",
    "\n",
    "## Genotype\n",
    "genotype = models.Genotype(members=[genotype_member_1, genotype_member_2], count=models.Number(value=2))"
   ]
  },
  {
   "cell_type": "code",
   "execution_count": 12,
   "id": "7eaf359b-b50b-4600-a3f0-8bf0d8d28aa7",
   "metadata": {
    "pycharm": {
     "name": "#%%\n"
    },
    "tags": []
   },
   "outputs": [],
   "source": [
    "# A representation of this Genotype in YAML\n",
    "# ppo(genotype)"
   ]
  },
  {
   "cell_type": "markdown",
   "id": "410a01c2-43aa-4b23-96f0-bf5a44cc0b86",
   "metadata": {
    "pycharm": {
     "name": "#%% md\n"
    }
   },
   "source": [
    "## Searching for compatible PGx Star Alleles"
   ]
  },
  {
   "cell_type": "code",
   "execution_count": 13,
   "id": "bc92567e-72de-4675-aa7b-305278320b54",
   "metadata": {
    "pycharm": {
     "name": "#%%\n"
    }
   },
   "outputs": [],
   "source": [
    "observed_allele_1 = tlr.translate_from(':'.join(['NC_000010.11', 'g.94762760A>C']), 'hgvs')\n",
    "observed_allele_2 = tlr.translate_from(':'.join(['NC_000010.11', 'g.94775423A>C']), 'hgvs')"
   ]
  },
  {
   "cell_type": "code",
   "execution_count": 14,
   "id": "234def90-0295-493f-8eb8-b6baf712cf49",
   "metadata": {
    "pycharm": {
     "name": "#%%\n"
    }
   },
   "outputs": [
    {
     "data": {
      "text/plain": [
       "{'CYP2C19*15', 'CYP2C19*28', 'CYP2C19*35', 'CYP2C19*39'}"
      ]
     },
     "execution_count": 14,
     "metadata": {},
     "output_type": "execute_result"
    }
   ],
   "source": [
    "observed_1_compatible = compatible_star_alleles[ga4gh_identify(observed_allele_1)]\n",
    "observed_1_compatible"
   ]
  },
  {
   "cell_type": "code",
   "execution_count": 15,
   "id": "96c79327-514b-4a2c-88ab-aa3056d609ba",
   "metadata": {
    "pycharm": {
     "name": "#%%\n"
    }
   },
   "outputs": [
    {
     "data": {
      "text/plain": [
       "{'CYP2C19*39'}"
      ]
     },
     "execution_count": 15,
     "metadata": {},
     "output_type": "execute_result"
    }
   ],
   "source": [
    "observed_2_compatible = compatible_star_alleles[ga4gh_identify(observed_allele_2)]\n",
    "observed_1_compatible & observed_2_compatible"
   ]
  },
  {
   "cell_type": "markdown",
   "id": "3b5c8ee2-edc9-46c1-ac8e-cd0861134074",
   "metadata": {
    "pycharm": {
     "name": "#%% md\n"
    }
   },
   "source": [
    "## An example schema for extending Star Allele Haplotypes with definitive Sequence Locations"
   ]
  },
  {
   "cell_type": "markdown",
   "id": "e149424a-1f7c-4cf3-bc68-b88b03342b72",
   "metadata": {
    "pycharm": {
     "name": "#%% md\n"
    }
   },
   "source": [
    "First, we define a JSON Schema document that extends Haplotypes with definitive regions to describe Star Alleles"
   ]
  },
  {
   "cell_type": "code",
   "execution_count": 16,
   "id": "22236ea4-3a2f-4602-9e8a-22e75ad14efd",
   "metadata": {
    "pycharm": {
     "name": "#%%\n"
    }
   },
   "outputs": [],
   "source": [
    "star_allele_schema = {\n",
    "    'type': 'object',\n",
    "    'desciption': 'A representation of the Molecular Variation and \\\n",
    "                    definitive regions that constitute a PGx Star Allele',\n",
    "    'properties': {\n",
    "        'type': {\n",
    "            'const': 'StarAllele',\n",
    "            'type': 'string'\n",
    "        },\n",
    "        'variation': {\n",
    "            '$ref': SCHEMA_URI_ROOT + '/vrs.json#/definitions/MolecularVariation'\n",
    "        },\n",
    "        'definitive_regions': {\n",
    "            'type': 'array',\n",
    "            'items': { '$ref': SCHEMA_URI_ROOT + '/vrs.json#/definitions/SequenceLocation' }\n",
    "        }\n",
    "    }\n",
    "    \n",
    "}"
   ]
  },
  {
   "cell_type": "markdown",
   "id": "95a73655-acab-4169-9563-b6dd261216f9",
   "metadata": {
    "pycharm": {
     "name": "#%% md\n"
    }
   },
   "source": [
    "A list of definitive sites was extracted from the CYP2C19 Allele Definition Table:\n",
    "https://files.cpicpgx.org/data/report/current/allele_definition/CYP2C19_allele_definition_table.xlsx"
   ]
  },
  {
   "cell_type": "code",
   "execution_count": 17,
   "id": "a64936ee-9ca9-4979-83bd-7abd2b70e517",
   "metadata": {
    "pycharm": {
     "name": "#%%\n"
    }
   },
   "outputs": [],
   "source": [
    "variant_sites = \"g.94761900C>T\tg.94762706A>G\tg.94762712C>T\tg.94762715T>C\tg.94762755T>C\tg.94762760A>C\tg.94762788A>T\tg.94762856A>G\tg.94775106C>T\tg.94775121C>T\tg.94775160G>C\tg.94775185A>G\tg.94775367A>G\tg.94775416T>C\tg.94775423A>C\tg.94775453G>A\tg.94775489G>A\tg.94775507G>A\tg.94780574G>C\tg.94780579G>A\tg.94780653G>A\tg.94781858C>T\tg.94781859G>A\tg.94781944G>A\tg.94781999T>A\tg.9486561G>A\tg.94866A>G\tg.94842879G>A\tg.94842995G>A\tg.94849995C>T\tg.94852738C>T\tg.94852765C>T\tg.94852785C>G\tg.94852914A>C\".split()"
   ]
  },
  {
   "cell_type": "code",
   "execution_count": 18,
   "id": "a2c816a2-622f-47da-825b-26c232fa7452",
   "metadata": {
    "pycharm": {
     "name": "#%%\n"
    }
   },
   "outputs": [],
   "source": [
    "site_re = re.compile(r'g.(\\d+)\\w>\\w')"
   ]
  },
  {
   "cell_type": "code",
   "execution_count": 19,
   "id": "2417d80c-fb02-4ae9-8621-c37f8b98fa44",
   "metadata": {
    "pycharm": {
     "name": "#%%\n"
    }
   },
   "outputs": [],
   "source": [
    "site_positions = [int(site_re.match(x).groups()[0]) for x in variant_sites] "
   ]
  },
  {
   "cell_type": "markdown",
   "id": "7546f33b-2c37-47fe-aa2c-a162dbf89052",
   "metadata": {
    "pycharm": {
     "name": "#%% md\n"
    }
   },
   "source": [
    "These sites were used to build VRS [Sequence Location](https://vrs.ga4gh.org/en/stable/terms_and_model.html#sequencelocation) objects."
   ]
  },
  {
   "cell_type": "code",
   "execution_count": 20,
   "id": "4ffce75c-d275-49b6-9ffb-08c60e442e63",
   "metadata": {
    "pycharm": {
     "name": "#%%\n"
    }
   },
   "outputs": [],
   "source": [
    "site_seqlocs = list()\n",
    "for position in site_positions:\n",
    "    interval = models.SequenceInterval(\n",
    "        start=models.Number(value=position-1), end=models.Number(value=position))\n",
    "    seqloc = models.SequenceLocation(\n",
    "        sequence_id='ga4gh:SQ.ss8r_wB0-b9r44TQTMmVTI92884QvBiB', interval=interval)\n",
    "    site_seqlocs.append(seqloc.as_dict())"
   ]
  },
  {
   "cell_type": "code",
   "execution_count": 21,
   "id": "07315b75-1fae-461a-915d-838c42559815",
   "metadata": {
    "pycharm": {
     "name": "#%%\n"
    }
   },
   "outputs": [],
   "source": [
    "hgvs_expression = \"NC_000010.11:g.94842866A>G\"\n",
    "h1_allele1 = tlr.translate_from(hgvs_expression,'hgvs')"
   ]
  },
  {
   "cell_type": "markdown",
   "id": "3d77574a-1d2b-467f-a604-ad09fb086d33",
   "metadata": {
    "pycharm": {
     "name": "#%% md\n"
    }
   },
   "source": [
    "This was used to build a domain-specific message structure for CYP2C19 *1:"
   ]
  },
  {
   "cell_type": "code",
   "execution_count": 22,
   "id": "70e5856a-06d8-43a5-be5d-0ace27d07221",
   "metadata": {
    "pycharm": {
     "name": "#%%\n"
    }
   },
   "outputs": [],
   "source": [
    "msg = {\n",
    "    'type': 'StarAllele',\n",
    "    'variation': h1_allele1.as_dict(),\n",
    "    'definitive_sites': site_seqlocs\n",
    "}\n",
    "\n",
    "# this object can be inspected with the following:\n",
    "# print(yaml.dump(msg, sort_keys=True, indent=3))"
   ]
  },
  {
   "cell_type": "markdown",
   "id": "1b8c8dcb-a0eb-4b2e-8b64-4e7118af4a24",
   "metadata": {
    "pycharm": {
     "name": "#%% md\n"
    }
   },
   "source": [
    "Finally, we demonstrate that the defined Star Allele validates against the schema "
   ]
  },
  {
   "cell_type": "code",
   "execution_count": 23,
   "id": "7a26984b-e3a6-499a-bdab-4de1001f6eff",
   "metadata": {
    "pycharm": {
     "name": "#%%\n"
    }
   },
   "outputs": [],
   "source": [
    "assert validate(msg, star_allele_schema) is None"
   ]
  }
 ],
 "metadata": {
  "kernelspec": {
   "display_name": "Python 3 (ipykernel)",
   "language": "python",
   "name": "python3"
  },
  "language_info": {
   "codemirror_mode": {
    "name": "ipython",
    "version": 3
   },
   "file_extension": ".py",
   "mimetype": "text/x-python",
   "name": "python",
   "nbconvert_exporter": "python",
   "pygments_lexer": "ipython3",
   "version": "3.10.7"
  },
  "vscode": {
   "interpreter": {
    "hash": "aee8b7b246df8f9039afb4144a1f6fd8d2ca17a180786b69acc140d282b71a49"
   }
  }
 },
 "nbformat": 4,
 "nbformat_minor": 5
}
