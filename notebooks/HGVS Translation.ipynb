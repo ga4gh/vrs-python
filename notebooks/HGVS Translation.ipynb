{
  "cells": [
    {
      "cell_type": "markdown",
      "metadata": {},
      "source": [
        "This notebook demonstrates the mechanics of translating an HGVS expression to a VR representation for educational purposes. Users who wish to translate HGVS or other expressions routinely should use ga4gh.vrs.extras.translator."
      ]
    },
    {
      "cell_type": "code",
      "execution_count": 1,
      "metadata": {},
      "outputs": [
        {
          "name": "stderr",
          "output_type": "stream",
          "text": [
            "/Users/kxk102/Documents/ga4gh/vrs-python/venv/3.10/lib/python3.10/site-packages/python_jsonschema_objects/__init__.py:49: UserWarning: Schema version http://json-schema.org/draft-07/schema not recognized. Some keywords and features may not be supported.\n",
            "  warnings.warn(\n"
          ]
        }
      ],
      "source": [
        "from ga4gh.core import ga4gh_identify\n",
        "from ga4gh.vrs import models\n",
        "from ga4gh.vrs.dataproxy import SeqRepoRESTDataProxy\n",
        "from ga4gh.vrs.extras.translator import Translator\n",
        "from biocommons.seqrepo import SeqRepo\n",
        "from IPython.display import HTML, display"
      ]
    },
    {
      "cell_type": "markdown",
      "metadata": {},
      "source": [
        "## Translate an expression manually\n",
        "\n",
        "First, we'll translate NC_000019.10:g.44908822C>T to VR manually to see the evolution of the process. "
      ]
    },
    {
      "cell_type": "code",
      "execution_count": 2,
      "metadata": {},
      "outputs": [],
      "source": [
        "# We'll translate this expression to VR:\n",
        "hgvs_expr = \"\""
      ]
    },
    {
      "cell_type": "code",
      "execution_count": 3,
      "metadata": {
        "scrolled": true
      },
      "outputs": [
        {
          "data": {
            "text/plain": [
              "{'type': 'Allele',\n",
              " 'location': {'type': 'SequenceLocation',\n",
              "  'sequence_id': 'refseq:NC_000013.11',\n",
              "  'interval': {'type': 'SequenceInterval',\n",
              "   'start': {'type': 'Number', 'value': 32936731},\n",
              "   'end': {'type': 'Number', 'value': 32936732}}},\n",
              " 'state': {'type': 'LiteralSequenceExpression', 'sequence': 'C'}}"
            ]
          },
          "execution_count": 3,
          "metadata": {},
          "output_type": "execute_result"
        }
      ],
      "source": [
        "allele = models.Allele(\n",
        "    location = models.SequenceLocation(\n",
        "        sequence_id = \"refseq:NC_000013.11\",\n",
        "        interval = models.SequenceInterval(\n",
        "            start = models.Number(value=32936731, type=\"Number\"),\n",
        "            end = models.Number(value=32936732, type=\"Number\"),\n",
        "            type=\"SequenceInterval\"\n",
        "        ),\n",
        "        type=\"SequenceLocation\"\n",
        "    ),\n",
        "    state = models.SequenceExpression(\n",
        "        sequence = \"C\",\n",
        "        type=\"LiteralSequenceExpression\"\n",
        "    ),\n",
        "    type=\"Allele\"\n",
        ")\n",
        "\n",
        "allele.as_dict()"
      ]
    },
    {
      "cell_type": "markdown",
      "metadata": {},
      "source": [
        "<div class=\"alert alert-success\">\n",
        "    👍 The above message is a valid VR message. VR requires that\n",
        "    sequence identifiers use CURIE syntax with a namespace from identifiers.org and\n",
        "    that locations are specified with interbase coordinates. Using sequence digests\n",
        "    is NOT required.\n",
        "    </div>"
      ]
    },
    {
      "cell_type": "markdown",
      "metadata": {},
      "source": [
        "## Replace the RefSeq sequence with a GA4GH sequence id\n",
        "\n",
        "In order to use the computed identifier mechanism in VR, the sequence_id MUST use\n",
        "GA4GH computed sequence identifiers. \n",
        "\n",
        "Implementations choose how to provide sequence and sequence accession services"
      ]
    },
    {
      "cell_type": "code",
      "execution_count": 4,
      "metadata": {},
      "outputs": [
        {
          "data": {
            "text/plain": [
              "'ga4gh:SQ._0wi-qoDrvram155UmcSC-zA5ZK4fpLT'"
            ]
          },
          "execution_count": 4,
          "metadata": {},
          "output_type": "execute_result"
        }
      ],
      "source": [
        "seqrepo_rest_service_url = \"https://services.genomicmedlab.org/seqrepo\"\n",
        "dp = SeqRepoRESTDataProxy(base_url=seqrepo_rest_service_url)\n",
        "\n",
        "# In general, one identifier may be related to many others in another namespace\n",
        "# Therefore, translate_sequence_identifier() returns a list.\n",
        "# Because there will be only 1 ga4gh sequence digest, we choose the first\n",
        "# and then replace the sequence id in allele.location.\n",
        "\n",
        "refseq_ir = str(allele.location.sequence_id)\n",
        "ga4gh_ir = dp.translate_sequence_identifier(refseq_ir, \"ga4gh\")[0]\n",
        "ga4gh_ir"
      ]
    },
    {
      "cell_type": "code",
      "execution_count": 5,
      "metadata": {},
      "outputs": [
        {
          "data": {
            "text/plain": [
              "{'type': 'Allele',\n",
              " 'location': {'type': 'SequenceLocation',\n",
              "  'sequence_id': 'ga4gh:SQ._0wi-qoDrvram155UmcSC-zA5ZK4fpLT',\n",
              "  'interval': {'type': 'SequenceInterval',\n",
              "   'start': {'type': 'Number', 'value': 32936731},\n",
              "   'end': {'type': 'Number', 'value': 32936732}}},\n",
              " 'state': {'type': 'LiteralSequenceExpression', 'sequence': 'C'}}"
            ]
          },
          "execution_count": 5,
          "metadata": {},
          "output_type": "execute_result"
        }
      ],
      "source": [
        "# Now, simply replace the identifier with the GA4GH identifier\n",
        "allele.location.sequence_id = ga4gh_ir\n",
        "allele.as_dict()"
      ]
    },
    {
      "cell_type": "markdown",
      "metadata": {},
      "source": [
        "## Computed Identifiers (optional)\n",
        "\n",
        "ga4gh_identify() serializes the object and computes the identifier\n",
        "(See ga4gh_serialize and ga4gh_digest for details)\n"
      ]
    },
    {
      "cell_type": "code",
      "execution_count": 6,
      "metadata": {},
      "outputs": [
        {
          "data": {
            "text/plain": [
              "{'_id': 'ga4gh:VA.DkZLLMnwoH6zIncSRh2c05nzCNLdTqHl',\n",
              " 'type': 'Allele',\n",
              " 'location': {'type': 'SequenceLocation',\n",
              "  'sequence_id': 'ga4gh:SQ._0wi-qoDrvram155UmcSC-zA5ZK4fpLT',\n",
              "  'interval': {'type': 'SequenceInterval',\n",
              "   'start': {'type': 'Number', 'value': 32936731},\n",
              "   'end': {'type': 'Number', 'value': 32936732}}},\n",
              " 'state': {'type': 'LiteralSequenceExpression', 'sequence': 'C'}}"
            ]
          },
          "execution_count": 6,
          "metadata": {},
          "output_type": "execute_result"
        }
      ],
      "source": [
        "allele._id = ga4gh_identify(allele)\n",
        "allele.as_dict()"
      ]
    },
    {
      "cell_type": "markdown",
      "metadata": {},
      "source": [
        "# Using ga4gh.vrs.extras.translator\n",
        "\n",
        "The VR Translator imports HGVS, SPDI, Beacon, and VCF formats, and appropriate handles more complex cases than shown above.\n",
        "\n",
        "By default, the translator translates HGVS reference sequences to GA4GH sequence digest identifiers and adds identifiers to the resulting Allele objects."
      ]
    },
    {
      "cell_type": "code",
      "execution_count": 7,
      "metadata": {},
      "outputs": [],
      "source": [
        "tlr = Translator(data_proxy=dp)"
      ]
    },
    {
      "cell_type": "markdown",
      "metadata": {},
      "source": [
        "### HGVS → VR"
      ]
    },
    {
      "cell_type": "code",
      "execution_count": 8,
      "metadata": {
        "scrolled": true
      },
      "outputs": [
        {
          "data": {
            "text/plain": [
              "{'_id': 'ga4gh:VA.hMfrqZuECxo2yyGLltnim_q71QDkK-HR',\n",
              " 'type': 'Allele',\n",
              " 'location': {'type': 'SequenceLocation',\n",
              "  'sequence_id': 'ga4gh:SQ._0wi-qoDrvram155UmcSC-zA5ZK4fpLT',\n",
              "  'interval': {'type': 'SequenceInterval',\n",
              "   'start': {'type': 'Number', 'value': 32936731},\n",
              "   'end': {'type': 'Number', 'value': 32936732}}},\n",
              " 'state': {'type': 'LiteralSequenceExpression', 'sequence': 'G'}}"
            ]
          },
          "execution_count": 8,
          "metadata": {},
          "output_type": "execute_result"
        }
      ],
      "source": [
        "hgvs_expr1 = \"NC_000013.11:g.32936732C>G\"\n",
        "allele1 = tlr.translate_from(hgvs_expr1,'hgvs')\n",
        "allele1.as_dict()"
      ]
    },
    {
      "cell_type": "markdown",
      "metadata": {},
      "source": [
        "### VR → HGVS\n",
        "\n",
        "Because a GA4GH sequence identifier may have many aliases, each VR Allele\n",
        "may be expressed as multiple HGVS expressions. For this reason, `translate_to(allele, \"hgvs\")` returns\n",
        "a *list* of HGVS expressions, optionally limited to aliases from a specified namespace."
      ]
    },
    {
      "cell_type": "markdown",
      "metadata": {},
      "source": [
        "The postgres default port of 5432 is blocked outbound by binder and potentially other institutions. To circumvent users having to install UTA themselves we created a rest data proxy for variation normalizer for the to_hgvs endpoint."
      ]
    },
    {
      "cell_type": "code",
      "execution_count": 9,
      "metadata": {},
      "outputs": [],
      "source": [
        "from ga4gh.vrs.extras.variation_normalizer_rest_dp import VariationNormalizerRESTDataProxy\n",
        "vnorm = VariationNormalizerRESTDataProxy()"
      ]
    },
    {
      "cell_type": "code",
      "execution_count": 10,
      "metadata": {},
      "outputs": [
        {
          "data": {
            "text/plain": [
              "['NC_000013.11:g.32936732=']"
            ]
          },
          "execution_count": 10,
          "metadata": {},
          "output_type": "execute_result"
        }
      ],
      "source": [
        "# tlr.translate_to(allele, \"hgvs\")\n",
        "vnorm.to_hgvs(allele)"
      ]
    },
    {
      "cell_type": "code",
      "execution_count": 11,
      "metadata": {},
      "outputs": [
        {
          "data": {
            "text/plain": [
              "['NC_000013.11:g.32936732=']"
            ]
          },
          "execution_count": 11,
          "metadata": {},
          "output_type": "execute_result"
        }
      ],
      "source": [
        "# Most commonly, we'll want expressions from a well-known authority like RefSeq\n",
        "# Again, there might in general be multiple `refseq` expressions\n",
        "# tlr._to_hgvs(allele, \"refseq\")\n",
        "vnorm.to_hgvs(allele, \"refseq\")"
      ]
    },
    {
      "cell_type": "code",
      "execution_count": 12,
      "metadata": {
        "scrolled": true
      },
      "outputs": [
        {
          "data": {
            "text/plain": [
              "[]"
            ]
          },
          "execution_count": 12,
          "metadata": {},
          "output_type": "execute_result"
        }
      ],
      "source": [
        "# GRC namespaces is handled as a special case: Because aliases are shared \n",
        "# between GRCh releases, they're shown only on request\n",
        "# tlr._to_hgvs(allele, \"GRCh38\")\n",
        "vnorm.to_hgvs(allele, \"GRCh38\")"
      ]
    },
    {
      "cell_type": "code",
      "execution_count": 13,
      "metadata": {},
      "outputs": [],
      "source": [
        "import json\n",
        "import yaml\n",
        "def filter_dict(d):\n",
        "    try:\n",
        "        return {k: filter_dict(d[k])\n",
        "                for k in d\n",
        "                if not k.startswith(\"_\")}\n",
        "    except:\n",
        "        return d\n",
        "def as_str(s):\n",
        "    return s if isinstance(s, str) else s.decode()\n",
        "def dj(o):\n",
        "    \"\"\"print VR object as pretty formated json\"\"\"\n",
        "    print(json.dumps(filter_dict(o.as_dict()), indent=2, sort_keys=True))\n",
        "def dy(fns, o):\n",
        "    \"\"\"execute function f in fns on o, returning a yaml block representing the test\"\"\"\n",
        "    r = {\n",
        "        \"in\": o.as_dict(),\n",
        "        \"out\": {f.__name__: as_str(f(o)) for f in fns}\n",
        "    }\n",
        "    print(yaml.dump(filter_dict({o.type._value: {\"-\": r}})).replace(\"'-':\",\"-\"))"
      ]
    },
    {
      "cell_type": "code",
      "execution_count": 14,
      "metadata": {},
      "outputs": [
        {
          "data": {
            "text/html": [
              "<table>\n",
              "<tbody>\n",
              "<tr><td>check</td><td>hgvs_orig                              </td><td>sequence_id                              </td><td>sequence_id_normalized                   </td><td>hgvs_normalized                    </td></tr>\n",
              "<tr><td>✔    </td><td>NC_000013.11:g.32936732_32936733del    </td><td>ga4gh:VA.kYyJV-7Lb4fZf-YqHu10cYtx9gIXjdcy</td><td>ga4gh:VA.7ahP-UdJqNPSEE-uNrU0ZGmds4l_-KpV</td><td>NC_000013.11:g.32936732_32936733del</td></tr>\n",
              "<tr><td>✔    </td><td>NC_000013.11:g.32936732_32936737del    </td><td>ga4gh:VA.9W6Jz2q2qjbGApLum_VDqlkXemmvcwXi</td><td>ga4gh:VA.TaMm-xIwFH1p7O4Wp9gWOLMIR65LgUmf</td><td>NC_000013.11:g.32936732_32936737del</td></tr>\n",
              "<tr><td>✘    </td><td>NC_000013.11:g.32936732_32936733insC   </td><td>ga4gh:VA.8wBFNOtRXN_nLXl7RuegLBFsVjIXx-F3</td><td>ga4gh:VA.qzQBN8ZdKnE1tpD_7_VTalAVwipUriZ3</td><td>NC_000013.11:g.32936733dup         </td></tr>\n",
              "<tr><td>✘    </td><td>NC_000013.11:g.32936732_32936733delinsC</td><td>ga4gh:VA.I5brmWPyNXAs40tBrm1j3Kq8XRMwiejd</td><td>ga4gh:VA._eer8nWJENP2nbbWPBb732GnqCMHu0eG</td><td>NC_000013.11:g.32936733del         </td></tr>\n",
              "<tr><td>✘    </td><td>NC_000013.11:g.32936732_32936735delinsC</td><td>ga4gh:VA.Uprg7LRIsxG0E115oq0dx2YVC2eN7uBO</td><td>ga4gh:VA.Ecj7hDMT7mRzGjlIYzfPTlhblgAu8b8p</td><td>NC_000013.11:g.32936733_32936735del</td></tr>\n",
              "<tr><td>✔    </td><td>NC_000013.11:g.32936732C&gt;G             </td><td>ga4gh:VA.hMfrqZuECxo2yyGLltnim_q71QDkK-HR</td><td>ga4gh:VA.hMfrqZuECxo2yyGLltnim_q71QDkK-HR</td><td>NC_000013.11:g.32936732C&gt;G         </td></tr>\n",
              "<tr><td>✔    </td><td>NM_015102.3:n.2802C&gt;T                  </td><td>ga4gh:VA.tqiPzREp-I9ZCQghRbhuN5M9Vl-EiwQA</td><td>ga4gh:VA.tqiPzREp-I9ZCQghRbhuN5M9Vl-EiwQA</td><td>NM_015102.3:n.2802C&gt;T              </td></tr>\n",
              "<tr><td>✔    </td><td>NC_000013.10:g.32331094_32331095dup    </td><td>ga4gh:VA.jLiYl2hu82a2xPBGqxUS31eD_ZQ0QSHw</td><td>ga4gh:VA.OSLHYPUEUo2qI9nyX2LvI0cwc-BCkZau</td><td>NC_000013.10:g.32331094_32331095dup</td></tr>\n",
              "<tr><td>✘    </td><td>NC_000013.10:g.32331092_32331093insTA  </td><td>ga4gh:VA.PiDvexGcIBmp99C4SP7JWzhqz1Fp_TBR</td><td>ga4gh:VA.OSLHYPUEUo2qI9nyX2LvI0cwc-BCkZau</td><td>NC_000013.10:g.32331094_32331095dup</td></tr>\n",
              "</tbody>\n",
              "</table>"
            ],
            "text/plain": [
              "<IPython.core.display.HTML object>"
            ]
          },
          "metadata": {},
          "output_type": "display_data"
        }
      ],
      "source": [
        "import tabulate\n",
        "from ga4gh.vrs.normalize import normalize\n",
        "from ga4gh.vrs.extras.variation_normalizer_rest_dp import VariationNormalizerRESTDataProxy\n",
        "vnorm = VariationNormalizerRESTDataProxy()\n",
        "\n",
        "#The postgres default port of 5432 is blocked outbound by binder and potentially other institutions. \n",
        "#To circumvent users having to install UTA themsleves we created a rest data proxy for variation normalizer for the to_hgvs endpoint.\n",
        "\n",
        "# todo: this example should get changed to use normalized hgvs_g as input.\n",
        "tlr.normalize = False\n",
        "\n",
        "# Round-trip test: HGVS → VR Allele → HGVS[]\n",
        "header = \"check hgvs_orig sequence_id sequence_id_normalized hgvs_normalized\".split()\n",
        "table = [header]\n",
        "for hgvs_expr in (\n",
        "    \"NC_000013.11:g.32936732_32936733del\",\n",
        "    \"NC_000013.11:g.32936732_32936737del\",\n",
        "    \"NC_000013.11:g.32936732_32936733insC\",\n",
        "    \"NC_000013.11:g.32936732_32936733delinsC\",\n",
        "    \"NC_000013.11:g.32936732_32936735delinsC\",\n",
        "    \"NC_000013.11:g.32936732C>G\",\n",
        "    \"NM_015102.3:n.2802C>T\",\n",
        "    \"NC_000013.10:g.32331094_32331095dup\",\n",
        "    \"NC_000013.10:g.32331092_32331093insTA\"\n",
        "):\n",
        "    a = tlr.translate_from(hgvs_expr, \"hgvs\")\n",
        "    #he = tlr.translate_to(a, \"hgvs\")\n",
        "    he = vnorm.to_hgvs(a)\n",
        "    chk = \"✔\" if hgvs_expr in he else \"✘\"\n",
        "    #print(f\"{chk} {hgvs_expr}\\n  → {ga4gh_identify(a)}\\n  → {he}\")\n",
        "    a_norm = normalize(a, dp)\n",
        "    row = [chk, hgvs_expr, ga4gh_identify(a), ga4gh_identify(a_norm), he[0] ]\n",
        "    table += [row]\n",
        "display(HTML(tabulate.tabulate(table, tablefmt='html')))"
      ]
    }
  ],
  "metadata": {
    "interpreter": {
      "hash": "e3010397f827d762dd71da5e8c08c9d1e15db6c6cbe60e8a92c1e943686ce175"
    },
    "kernelspec": {
      "display_name": "vrs-python",
      "language": "python",
      "name": "vrs-python"
    },
    "language_info": {
      "codemirror_mode": {
        "name": "ipython",
        "version": 3
      },
      "file_extension": ".py",
      "mimetype": "text/x-python",
      "name": "python",
      "nbconvert_exporter": "python",
      "pygments_lexer": "ipython3",
      "version": "3.9.12"
    }
  },
  "nbformat": 4,
  "nbformat_minor": 2
}
