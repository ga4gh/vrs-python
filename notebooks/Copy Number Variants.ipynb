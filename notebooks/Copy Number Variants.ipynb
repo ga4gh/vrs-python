{
 "cells": [
  {
   "cell_type": "markdown",
   "id": "a571038b",
   "metadata": {},
   "source": [
    "# How To Represent Copy Number Variants (CNVs)"
   ]
  },
  {
   "cell_type": "code",
   "execution_count": 1,
   "id": "786543b0",
   "metadata": {},
   "outputs": [
    {
     "name": "stderr",
     "output_type": "stream",
     "text": [
      "Removing allOf attribute from CopyNumber to avoid python-jsonschema-objects error.\n",
      "Removing allOf attribute from SequenceInterval to avoid python-jsonschema-objects error.\n",
      "Removing allOf attribute from RepeatedSequenceExpression to avoid python-jsonschema-objects error.\n",
      "/Users/kxk102/Documents/ga4gh/vrs-python/venv/3.10/lib/python3.10/site-packages/python_jsonschema_objects/__init__.py:49: UserWarning: Schema version http://json-schema.org/draft-07/schema not recognized. Some keywords and features may not be supported.\n",
      "  warnings.warn(\n"
     ]
    }
   ],
   "source": [
    "from ga4gh.vrs import models\n",
    "from ga4gh.vrs.extras.translator import Translator\n",
    "from ga4gh.vrs.dataproxy import SeqRepoRESTDataProxy\n",
    "\n",
    "import json\n",
    "from IPython.display import Image\n",
    "\n"
   ]
  },
  {
   "cell_type": "markdown",
   "id": "79ee5f4e",
   "metadata": {},
   "source": [
    "A basic example. [Gene APOE - apolipoprotein E](https://www.ncbi.nlm.nih.gov/gene/348) has (at least) three copies:\n"
   ]
  },
  {
   "cell_type": "code",
   "execution_count": 2,
   "id": "f9d3866c",
   "metadata": {},
   "outputs": [],
   "source": [
    "# We use the indefinite range to express \"at least three\"\n",
    "indefrange = models.IndefiniteRange(comparator=\">=\", value=3)\n",
    "\n",
    "\n",
    "# The CopyNumber model allows us to represent this on the gene level. \n",
    "apoe_cn = models.CopyNumber(copies = indefrange ,                         \n",
    "                            subject = models.Gene(gene_id=\"ncbigene:348\")\n",
    "                           )\n",
    "\n"
   ]
  },
  {
   "cell_type": "markdown",
   "id": "4460d33c",
   "metadata": {},
   "source": [
    "VRS allows us to represent all objects in JSON."
   ]
  },
  {
   "cell_type": "code",
   "execution_count": 3,
   "id": "95f64e9c",
   "metadata": {},
   "outputs": [
    {
     "name": "stdout",
     "output_type": "stream",
     "text": [
      "{\n",
      " \"type\": \"CopyNumber\",\n",
      " \"subject\": {\n",
      "  \"type\": \"Gene\",\n",
      "  \"gene_id\": \"ncbigene:348\"\n",
      " },\n",
      " \"copies\": {\n",
      "  \"type\": \"IndefiniteRange\",\n",
      "  \"value\": 3,\n",
      "  \"comparator\": \">=\"\n",
      " }\n",
      "}\n"
     ]
    }
   ],
   "source": [
    "print (json.dumps(apoe_cn.as_dict(), indent=1))"
   ]
  },
  {
   "cell_type": "markdown",
   "id": "61b1f0e6",
   "metadata": {},
   "source": [
    "## Example BRCA1 exon duplication\n",
    "\n",
    "![BRCA1 exon duplication](images/BRCA1_exon_dup.png)\n"
   ]
  },
  {
   "cell_type": "markdown",
   "id": "c08b0d66",
   "metadata": {},
   "source": [
    "This example demonstrates a copy number event, where a specific exon in BRCA1 got duplicated. The exon has three copies.\n",
    "However in many CNV cases we don't know the exact breakpoints of the event, since they did not get sequenced. For\n",
    "example the breakpoints might be somewhere in the intron space between exons. A possible way to represent this in HGVS\n",
    "is `NC_000017.10:g.41209048-?_41209172+?dup`"
   ]
  },
  {
   "cell_type": "code",
   "execution_count": 4,
   "id": "843fb13d",
   "metadata": {
    "scrolled": true
   },
   "outputs": [],
   "source": [
    "\n",
    "# first let's specify the sequence interval and chromosome that got duplicated\n",
    "interval = models.SequenceInterval(start=models.Number(value=41209048), end=models.Number(value=41209172))\n",
    "location = models.SequenceLocation(interval=interval,\n",
    "                                  sequence_id=\"refseq:NC_000017.10\")\n",
    "\n"
   ]
  },
  {
   "cell_type": "markdown",
   "id": "2aa49c3c",
   "metadata": {},
   "source": [
    "For a CNV we declare this derived from this location. \n",
    "Use of [DerivedSequenceExpression](https://vrs.ga4gh.org/en/stable/terms_and_model.html?highlight=DerivedSequenceExpression#derivedsequenceexpression) indicates that the derived sequence is approximately equivalent \n",
    "to the reference indicated, and is typically used for describing large regions for variation concepts \n",
    "where the exact sequence is inconsequential.\n",
    "\n",
    "Note, if we would KNOW the duplication is in tandem, we would use [Molecular Variation](https://vrs.ga4gh.org/en/stable/terms_and_model.html?highlight=Molecular%20Variation#molecular-variation) rather than a [Systemic Variation](https://vrs.ga4gh.org/en/stable/terms_and_model.html?highlight=Systemic%20Variation#systemic-variation) (see next example). In this case we actually don't know where in the genome the duplication was inserted, therefore we are expressing this uncertainty here."
   ]
  },
  {
   "cell_type": "code",
   "execution_count": 5,
   "id": "af9be8a0",
   "metadata": {},
   "outputs": [
    {
     "name": "stdout",
     "output_type": "stream",
     "text": [
      "{\n",
      " \"type\": \"CopyNumber\",\n",
      " \"subject\": {\n",
      "  \"type\": \"DerivedSequenceExpression\",\n",
      "  \"location\": {\n",
      "   \"type\": \"SequenceLocation\",\n",
      "   \"sequence_id\": \"refseq:NC_000017.10\",\n",
      "   \"interval\": {\n",
      "    \"type\": \"SequenceInterval\",\n",
      "    \"start\": {\n",
      "     \"type\": \"Number\",\n",
      "     \"value\": 41209048\n",
      "    },\n",
      "    \"end\": {\n",
      "     \"type\": \"Number\",\n",
      "     \"value\": 41209172\n",
      "    }\n",
      "   }\n",
      "  },\n",
      "  \"reverse_complement\": false\n",
      " },\n",
      " \"copies\": {\n",
      "  \"type\": \"IndefiniteRange\",\n",
      "  \"value\": 3,\n",
      "  \"comparator\": \">=\"\n",
      " }\n",
      "}\n"
     ]
    }
   ],
   "source": [
    "\n",
    "derivedseq = models.DerivedSequenceExpression(location=location, reverse_complement=False)\n",
    "\n",
    "# and finally we express how many copies of this derived sequence can be found \n",
    "\n",
    "# note, we know there are at least 3 copies (but not 100% sure there might not be more.)\n",
    "# that means we use an IndefiniteRange and provide the comparator\n",
    "copies = models.IndefiniteRange(value=3, comparator=\">=\")\n",
    "\n",
    "# and finally this comes together as the CopyNumber object:\n",
    "cn = models.CopyNumber(copies=copies, subject = derivedseq)\n",
    "\n",
    "print (json.dumps(cn.as_dict(), indent=1))"
   ]
  },
  {
   "cell_type": "markdown",
   "id": "bcc5f0fc",
   "metadata": {},
   "source": [
    "## Example MME exon tandem duplication\n",
    "![MME exon tandem duplication](images/MME_exon_tandem_dup.png)\n",
    "\n",
    "\n",
    "Here a different example. This CNV event is known to be in tandem. We are representing this using\n",
    "[Molecular Variation](https://vrs.ga4gh.org/en/stable/terms_and_model.html?highlight=Molecular%20Variation#molecular-variation).\n"
   ]
  },
  {
   "cell_type": "code",
   "execution_count": 6,
   "id": "0692c207",
   "metadata": {},
   "outputs": [],
   "source": [
    "# let's start again with expressing the location which got duplicated.\n",
    "interval = models.SequenceInterval(start=models.Number(value=154886500), end=models.Number(value=41209172))\n",
    "location = models.SequenceLocation(interval=interval,\n",
    "                                  sequence_id=\"refseq:NC_000003.11\")"
   ]
  },
  {
   "cell_type": "code",
   "execution_count": 7,
   "id": "d74a47b2",
   "metadata": {},
   "outputs": [
    {
     "name": "stdout",
     "output_type": "stream",
     "text": [
      "{\n",
      " \"type\": \"RepeatedSequenceExpression\",\n",
      " \"seq_expr\": {\n",
      "  \"type\": \"DerivedSequenceExpression\",\n",
      "  \"location\": {\n",
      "   \"type\": \"SequenceLocation\",\n",
      "   \"sequence_id\": \"refseq:NC_000003.11\",\n",
      "   \"interval\": {\n",
      "    \"type\": \"SequenceInterval\",\n",
      "    \"start\": {\n",
      "     \"type\": \"Number\",\n",
      "     \"value\": 154886500\n",
      "    },\n",
      "    \"end\": {\n",
      "     \"type\": \"Number\",\n",
      "     \"value\": 41209172\n",
      "    }\n",
      "   }\n",
      "  },\n",
      "  \"reverse_complement\": false\n",
      " },\n",
      " \"count\": {\n",
      "  \"type\": \"IndefiniteRange\",\n",
      "  \"value\": 4,\n",
      "  \"comparator\": \">=\"\n",
      " }\n",
      "}\n"
     ]
    }
   ],
   "source": [
    "# in contrast to the previous example, where we were not confident about this being a tandem duplication event, \n",
    "# here we are. As such we use RepeatedSequenceExpression\n",
    "derivedseq = models.DerivedSequenceExpression(location=location, reverse_complement=False)\n",
    "\n",
    "cnv_count = models.IndefiniteRange(comparator=\">=\", value=4)\n",
    "\n",
    "# We are expressing this as a molecular variation\n",
    "tandem_repeat = models.RepeatedSequenceExpression(seq_expr=derivedseq, count=cnv_count)\n",
    "\n",
    "print (json.dumps(tandem_repeat.as_dict(), indent=1))\n"
   ]
  },
  {
   "cell_type": "code",
   "execution_count": 8,
   "id": "f7a38286",
   "metadata": {},
   "outputs": [
    {
     "name": "stdout",
     "output_type": "stream",
     "text": [
      "{\n",
      " \"type\": \"CopyNumber\",\n",
      " \"subject\": {\n",
      "  \"type\": \"RepeatedSequenceExpression\",\n",
      "  \"seq_expr\": {\n",
      "   \"type\": \"DerivedSequenceExpression\",\n",
      "   \"location\": {\n",
      "    \"type\": \"SequenceLocation\",\n",
      "    \"sequence_id\": \"refseq:NC_000003.11\",\n",
      "    \"interval\": {\n",
      "     \"type\": \"SequenceInterval\",\n",
      "     \"start\": {\n",
      "      \"type\": \"Number\",\n",
      "      \"value\": 154886500\n",
      "     },\n",
      "     \"end\": {\n",
      "      \"type\": \"Number\",\n",
      "      \"value\": 41209172\n",
      "     }\n",
      "    }\n",
      "   },\n",
      "   \"reverse_complement\": false\n",
      "  },\n",
      "  \"count\": {\n",
      "   \"type\": \"IndefiniteRange\",\n",
      "   \"value\": 4,\n",
      "   \"comparator\": \">=\"\n",
      "  }\n",
      " }\n",
      "}\n"
     ]
    }
   ],
   "source": [
    "# A systemic variation can also be derived from a molecular variation:\n",
    "\n",
    "systemic_variation = models.CopyNumber(subject=tandem_repeat )\n",
    "\n",
    "print (json.dumps(systemic_variation.as_dict(), indent=1))"
   ]
  },
  {
   "cell_type": "code",
   "execution_count": null,
   "id": "16ddd2f5",
   "metadata": {},
   "outputs": [],
   "source": []
  }
 ],
 "metadata": {
  "kernelspec": {
   "display_name": "vrs-python",
   "language": "python",
   "name": "vrs-python"
  },
  "language_info": {
   "codemirror_mode": {
    "name": "ipython",
    "version": 3
   },
   "file_extension": ".py",
   "mimetype": "text/x-python",
   "name": "python",
   "nbconvert_exporter": "python",
   "pygments_lexer": "ipython3",
   "version": "3.10.8"
  }
 },
 "nbformat": 4,
 "nbformat_minor": 5
}
