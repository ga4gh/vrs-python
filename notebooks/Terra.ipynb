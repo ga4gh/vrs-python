{
 "cells": [
  {
   "cell_type": "markdown",
   "metadata": {},
   "source": [
    "## Using vrs-python demo notebooks in Terra\n",
    "\n",
    "[Terra](https://terra.bio) is a cloud platform for biomedical research developed by the Broad Institute, Microsoft and Verily. This notebook installs the packages needed to run the [vrs-python](https://github.com/ga4gh/vrs-python) [demo notebooks](https://github.com/ga4gh/vrs-python/tree/main/notebooks) in a [Terra](https://app.terra.bio) workspace. \n",
    "\n",
    "\n",
    "### Quickstart instructions\n",
    "1. Either clone the public [`VRS-demo-notebooks`](https://app.terra.bio/#workspaces/terra-outreach/VRS-demo-notebooks) workspace or copy the notebooks' `.ipynb` files to the Analyses tab of a new or existing Terra workspace.\n",
    "2. Launch a Python cloud environment from the Analyses tab of your Terra workspace. The default Terra environment configuration should be sufficient.\n",
    "3. Open and execute the `Terra.ipynb` notebook. This will install the `vrs-python` packages and copy a resource file to your environment's persistent disk.\n",
    "\n",
    "Once you have completed those steps, you can open and execute the demo notebooks in your Terra workspace's cloud environment in any order. \n",
    "\n",
    "*For more detailed instructions about launching a Cloud Environment and using Jupyter Notebooks in Terra, see the [Cloud Environments Basics](https://support.terra.bio/hc/en-us/sections/5485227699867-Cloud-Environments-Basics) documentation and the [Notebooks Quickstart Guide](https://support.terra.bio/hc/en-us/articles/360059009571-Notebooks-Quickstart-Guide).*"
   ]
  },
  {
   "cell_type": "markdown",
   "metadata": {},
   "source": [
    "### Install `vrs-python` packages"
   ]
  },
  {
   "cell_type": "code",
   "execution_count": null,
   "metadata": {},
   "outputs": [],
   "source": [
    "pip install ga4gh.vrs[extras]==\"0.8.1dev0\""
   ]
  },
  {
   "cell_type": "markdown",
   "metadata": {},
   "source": [
    "### Retrieve the `objects.json` resource file"
   ]
  },
  {
   "cell_type": "code",
   "execution_count": null,
   "metadata": {},
   "outputs": [],
   "source": [
    "! curl \"https://raw.githubusercontent.com/ga4gh/vrs-python/main/notebooks/objects.json\" > objects.json"
   ]
  }
 ],
 "metadata": {
  "kernelspec": {
   "display_name": "Python 3",
   "language": "python",
   "name": "python3"
  },
  "language_info": {
   "codemirror_mode": {
    "name": "ipython",
    "version": 3
   },
   "file_extension": ".py",
   "mimetype": "text/x-python",
   "name": "python",
   "nbconvert_exporter": "python",
   "pygments_lexer": "ipython3",
   "version": "3.7.12"
  },
  "toc": {
   "base_numbering": 1,
   "nav_menu": {},
   "number_sections": true,
   "sideBar": true,
   "skip_h1_title": false,
   "title_cell": "Table of Contents",
   "title_sidebar": "Contents",
   "toc_cell": false,
   "toc_position": {},
   "toc_section_display": true,
   "toc_window_display": false
  },
  "vscode": {
   "interpreter": {
    "hash": "6288b7b9c64befe90f48a28300cec8dba9107cdcf1a020d9f3ef89ceb1c8dcfc"
   }
  }
 },
 "nbformat": 4,
 "nbformat_minor": 2
}
