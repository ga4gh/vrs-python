{
 "cells": [
  {
   "cell_type": "markdown",
   "metadata": {},
   "source": [
    "# Terra Workspace Notebook\n",
    "\n",
    "This is the notebook you will need to run first while in the Terra workspace"
   ]
  },
  {
   "cell_type": "code",
   "execution_count": null,
   "metadata": {},
   "outputs": [],
   "source": [
    "pip install ga4gh.vrs[extras]==\"0.8.1dev0\""
   ]
  },
  {
   "cell_type": "code",
   "execution_count": null,
   "metadata": {},
   "outputs": [],
   "source": [
    "! curl \"https://raw.githubusercontent.com/ga4gh/vrs-python/main/notebooks/objects.json\" > objects.json"
   ]
  }
 ],
 "metadata": {
  "kernelspec": {
   "display_name": "Python 3.9.13 ('3.9')",
   "language": "python",
   "name": "python3"
  },
  "language_info": {
   "codemirror_mode": {
    "name": "ipython",
    "version": 3
   },
   "file_extension": ".py",
   "mimetype": "text/x-python",
   "name": "python",
   "nbconvert_exporter": "python",
   "pygments_lexer": "ipython3",
   "version": "3.9.13"
  },
  "orig_nbformat": 4,
  "vscode": {
   "interpreter": {
    "hash": "6288b7b9c64befe90f48a28300cec8dba9107cdcf1a020d9f3ef89ceb1c8dcfc"
   }
  }
 },
 "nbformat": 4,
 "nbformat_minor": 2
}
