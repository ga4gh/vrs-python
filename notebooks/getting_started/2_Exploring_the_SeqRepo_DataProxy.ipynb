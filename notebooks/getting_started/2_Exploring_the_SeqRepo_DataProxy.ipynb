{
 "cells": [
  {
   "cell_type": "markdown",
   "id": "4107043be5d9af0d",
   "metadata": {
    "collapsed": false,
    "jupyter": {
     "outputs_hidden": false
    }
   },
   "source": [
    "# 2. Exploring the SeqRepo DataProxy\n",
    "The SeqRepo DataProxy has sequence related functionality that may be of use."
   ]
  },
  {
   "cell_type": "markdown",
   "id": "2cd1dae76c042895",
   "metadata": {
    "collapsed": false,
    "jupyter": {
     "outputs_hidden": false
    }
   },
   "source": [
    "#### Step 1 - Setup Data Proxy Access\n",
    "The *DataProxy* provides access to sequence references."
   ]
  },
  {
   "cell_type": "code",
   "execution_count": 1,
   "id": "f5057501e0ff48aa",
   "metadata": {
    "ExecuteTime": {
     "end_time": "2024-04-18T20:22:19.380351Z",
     "start_time": "2024-04-18T20:22:19.248562Z"
    },
    "collapsed": false,
    "jupyter": {
     "outputs_hidden": false
    }
   },
   "outputs": [],
   "source": [
    "from ga4gh.vrs.dataproxy import create_dataproxy\n",
    "seqrepo_rest_service_url = \"seqrepo+https://services.genomicmedlab.org/seqrepo\"\n",
    "seqrepo_dataproxy = create_dataproxy(uri=seqrepo_rest_service_url)"
   ]
  },
  {
   "cell_type": "markdown",
   "id": "80b8074e25870aee",
   "metadata": {
    "collapsed": false,
    "jupyter": {
     "outputs_hidden": false
    }
   },
   "source": [
    "#### Step 2 - Information on refseq accessions"
   ]
  },
  {
   "cell_type": "markdown",
   "id": "efdf07f650059a11",
   "metadata": {
    "collapsed": false,
    "jupyter": {
     "outputs_hidden": false
    }
   },
   "source": [
    "It is often necessary when building *SequenceLocation* objects, to obtain the refget accession from a public accession identifier. The *DataProxy* method *derive_refget_accession* can do this for you."
   ]
  },
  {
   "cell_type": "code",
   "execution_count": 2,
   "id": "77fa2f312e39d4a3",
   "metadata": {
    "ExecuteTime": {
     "end_time": "2024-04-18T20:22:19.515713Z",
     "start_time": "2024-04-18T20:22:19.381606Z"
    },
    "collapsed": false,
    "jupyter": {
     "outputs_hidden": false
    }
   },
   "outputs": [
    {
     "data": {
      "text/plain": [
       "'SQ.Pw3Ch0x3XWD6ljsnIfmk_NERcZCI9sNM'"
      ]
     },
     "execution_count": 2,
     "metadata": {},
     "output_type": "execute_result"
    }
   ],
   "source": [
    "seqrepo_dataproxy.derive_refget_accession('refseq:NM_002439.5')"
   ]
  },
  {
   "cell_type": "markdown",
   "id": "203aada74390820e",
   "metadata": {
    "collapsed": false,
    "jupyter": {
     "outputs_hidden": false
    }
   },
   "source": [
    "The *DataProxy* *get_metadata* method provides metadata information on the accession including: the date the accession was added, aliases for the accession and reference length."
   ]
  },
  {
   "cell_type": "code",
   "execution_count": 3,
   "id": "bdb9122059add31c",
   "metadata": {
    "ExecuteTime": {
     "end_time": "2024-04-18T20:22:19.694430Z",
     "start_time": "2024-04-18T20:22:19.516491Z"
    },
    "collapsed": false,
    "jupyter": {
     "outputs_hidden": false
    }
   },
   "outputs": [
    {
     "data": {
      "text/plain": [
       "{'added': '2016-08-24T05:03:11Z',\n",
       " 'aliases': ['MD5:215137b1973c1a5afcf86be7d999574a',\n",
       "  'NCBI:NM_000551.3',\n",
       "  'refseq:NM_000551.3',\n",
       "  'SEGUID:T12L0p2X5E8DbnL0+SwI4Wc1S6g',\n",
       "  'SHA1:4f5d8bd29d97e44f036e72f4f92c08e167354ba8',\n",
       "  'VMC:GS_v_QTc1p-MUYdgrRv4LMT6ByXIOsdw3C_',\n",
       "  'sha512t24u:v_QTc1p-MUYdgrRv4LMT6ByXIOsdw3C_',\n",
       "  'ga4gh:SQ.v_QTc1p-MUYdgrRv4LMT6ByXIOsdw3C_'],\n",
       " 'alphabet': 'ACGT',\n",
       " 'length': 4560}"
      ]
     },
     "execution_count": 3,
     "metadata": {},
     "output_type": "execute_result"
    }
   ],
   "source": [
    "seqrepo_dataproxy.get_metadata(\"refseq:NM_000551.3\")"
   ]
  },
  {
   "cell_type": "markdown",
   "id": "e73504bc095b1ff1",
   "metadata": {
    "collapsed": false,
    "jupyter": {
     "outputs_hidden": false
    }
   },
   "source": [
    "*DataProxy* *get_sequence* returns actual sequence for given identifier, optionally limited to interbase <start, end> intervals."
   ]
  },
  {
   "cell_type": "code",
   "execution_count": 4,
   "id": "7d5563eae9dd9e58",
   "metadata": {
    "ExecuteTime": {
     "end_time": "2024-04-18T20:22:19.833640Z",
     "start_time": "2024-04-18T20:22:19.695452Z"
    },
    "collapsed": false,
    "jupyter": {
     "outputs_hidden": false
    }
   },
   "outputs": [
    {
     "data": {
      "text/plain": [
       "'CCTCGCCTCCGTTACAACGGCCTACGGTGCTGGAGGATCCTTCTGCGCACG'"
      ]
     },
     "execution_count": 4,
     "metadata": {},
     "output_type": "execute_result"
    }
   ],
   "source": [
    "identifier = \"ga4gh:SQ.v_QTc1p-MUYdgrRv4LMT6ByXIOsdw3C_\"\n",
    "seqrepo_dataproxy.get_sequence(identifier, start=0, end=51)"
   ]
  },
  {
   "cell_type": "markdown",
   "id": "7c1e8515d46f0fac",
   "metadata": {
    "collapsed": false,
    "jupyter": {
     "outputs_hidden": false
    }
   },
   "source": [
    "*DataProxy* *translate_sequence_identifier* returns a list of equivalent identifiers in the given namespace."
   ]
  },
  {
   "cell_type": "code",
   "execution_count": 5,
   "id": "9ad294ec1b92bd86",
   "metadata": {
    "ExecuteTime": {
     "end_time": "2024-04-18T20:22:19.940602Z",
     "start_time": "2024-04-18T20:22:19.836067Z"
    },
    "collapsed": false,
    "jupyter": {
     "outputs_hidden": false
    }
   },
   "outputs": [
    {
     "data": {
      "text/plain": [
       "['ga4gh:SQ.IIB53T8CNeJJdUqzn9V_JnRtQadwWCbl']"
      ]
     },
     "execution_count": 5,
     "metadata": {},
     "output_type": "execute_result"
    }
   ],
   "source": [
    "seqrepo_dataproxy.translate_sequence_identifier(\"GRCh38:19\", \"ga4gh\")"
   ]
  },
  {
   "cell_type": "code",
   "execution_count": 6,
   "id": "a16ba639ccca0323",
   "metadata": {
    "ExecuteTime": {
     "end_time": "2024-04-18T20:22:20.069679Z",
     "start_time": "2024-04-18T20:22:19.941670Z"
    },
    "collapsed": false,
    "jupyter": {
     "outputs_hidden": false
    }
   },
   "outputs": [
    {
     "data": {
      "text/plain": [
       "['GRCh38:19', 'GRCh38:chr19']"
      ]
     },
     "execution_count": 6,
     "metadata": {},
     "output_type": "execute_result"
    }
   ],
   "source": [
    "seqrepo_dataproxy.translate_sequence_identifier(\"ga4gh:SQ.IIB53T8CNeJJdUqzn9V_JnRtQadwWCbl\", \"GRCh38\")"
   ]
  }
 ],
 "metadata": {
  "kernelspec": {
   "display_name": "Python 3 (ipykernel)",
   "language": "python",
   "name": "python3"
  },
  "language_info": {
   "codemirror_mode": {
    "name": "ipython",
    "version": 3
   },
   "file_extension": ".py",
   "mimetype": "text/x-python",
   "name": "python",
   "nbconvert_exporter": "python",
   "pygments_lexer": "ipython3",
   "version": "3.12.1"
  }
 },
 "nbformat": 4,
 "nbformat_minor": 5
}
