{
 "cells": [
  {
   "cell_type": "markdown",
   "id": "3b784af70aaada45",
   "metadata": {
    "collapsed": false,
    "jupyter": {
     "outputs_hidden": false
    }
   },
   "source": [
    "# 3. Basic Models\n",
    "This notebook details how to compose VRS objects using component classes, not by use of a nomenclature string (HGVS/SPDI/Gnomad-VCF).\n"
   ]
  },
  {
   "cell_type": "markdown",
   "id": "6567dd63bcbe6969",
   "metadata": {
    "collapsed": false,
    "jupyter": {
     "outputs_hidden": false
    }
   },
   "source": [
    "#### Step 1 - Setup Data Proxy Access\n",
    "The *DataProxy* provides access to sequence references."
   ]
  },
  {
   "cell_type": "code",
   "execution_count": 1,
   "id": "4347f39231fd663c",
   "metadata": {
    "ExecuteTime": {
     "end_time": "2024-04-18T20:23:57.240826Z",
     "start_time": "2024-04-18T20:23:57.106544Z"
    },
    "collapsed": false,
    "jupyter": {
     "outputs_hidden": false
    }
   },
   "outputs": [],
   "source": [
    "from ga4gh.vrs.dataproxy import create_dataproxy\n",
    "seqrepo_rest_service_url = \"seqrepo+https://services.genomicmedlab.org/seqrepo\"\n",
    "seqrepo_dataproxy = create_dataproxy(uri=seqrepo_rest_service_url)"
   ]
  },
  {
   "cell_type": "markdown",
   "id": "ae2e3ada0adaccdf",
   "metadata": {
    "collapsed": false,
    "jupyter": {
     "outputs_hidden": false
    }
   },
   "source": [
    "#### Step 2 - Access the VRS models package\n",
    "The models package contains the various classes necessary for building VRS objects."
   ]
  },
  {
   "cell_type": "code",
   "execution_count": 2,
   "id": "da9f8a5f19d1ea35",
   "metadata": {
    "ExecuteTime": {
     "end_time": "2024-04-18T20:23:57.243477Z",
     "start_time": "2024-04-18T20:23:57.241894Z"
    },
    "collapsed": false,
    "jupyter": {
     "outputs_hidden": false
    }
   },
   "outputs": [],
   "source": [
    "from ga4gh.vrs import models"
   ]
  },
  {
   "cell_type": "markdown",
   "id": "63f99fabb02e236f",
   "metadata": {
    "collapsed": false,
    "jupyter": {
     "outputs_hidden": false
    }
   },
   "source": [
    "#### Step 3 - Build the Allele\n",
    "In this example we are going to build a VRS object from the variant \"NC_000005.10:g.80656510delinsTT\". This variant can be viewed in [Clinvar](https://www.ncbi.nlm.nih.gov/clinvar/variation/2673535/)."
   ]
  },
  {
   "cell_type": "markdown",
   "id": "c1a3db39d8d2d3ea",
   "metadata": {
    "collapsed": false,
    "jupyter": {
     "outputs_hidden": false
    }
   },
   "source": [
    "Start by getting the VRS string representation of the sequence reference using the *DataProxy* object."
   ]
  },
  {
   "cell_type": "code",
   "execution_count": 3,
   "id": "320242aa48ef314d",
   "metadata": {
    "ExecuteTime": {
     "end_time": "2024-04-18T20:23:57.304096Z",
     "start_time": "2024-04-18T20:23:57.244087Z"
    },
    "collapsed": false,
    "jupyter": {
     "outputs_hidden": false
    }
   },
   "outputs": [
    {
     "name": "stdout",
     "output_type": "stream",
     "text": [
      "SQ.Pw3Ch0x3XWD6ljsnIfmk_NERcZCI9sNM\n"
     ]
    }
   ],
   "source": [
    "refget_accession = seqrepo_dataproxy.derive_refget_accession('refseq:NM_002439.5')\n",
    "print(refget_accession)"
   ]
  },
  {
   "cell_type": "markdown",
   "id": "6ac6feb2b9ffb0c",
   "metadata": {
    "collapsed": false,
    "jupyter": {
     "outputs_hidden": false
    }
   },
   "source": [
    "Build a dictionary of type *SequenceReference* containing the refget_accession. Then continue in succession building dictionaries of type *SequenceLocation*, *LiteralSequenceExpression* and *Allele* referencing previously built structures where applicable."
   ]
  },
  {
   "cell_type": "code",
   "execution_count": 4,
   "id": "445983b1043c504f",
   "metadata": {
    "ExecuteTime": {
     "end_time": "2024-04-18T20:23:57.308698Z",
     "start_time": "2024-04-18T20:23:57.304734Z"
    },
    "collapsed": false,
    "jupyter": {
     "outputs_hidden": false
    }
   },
   "outputs": [
    {
     "data": {
      "text/plain": [
       "{'type': 'Allele',\n",
       " 'location': {'type': 'SequenceLocation',\n",
       "  'sequenceReference': {'type': 'SequenceReference',\n",
       "   'refgetAccession': 'SQ.Pw3Ch0x3XWD6ljsnIfmk_NERcZCI9sNM'},\n",
       "  'start': 80656509,\n",
       "  'end': 80656510},\n",
       " 'state': {'type': 'LiteralSequenceExpression', 'sequence': 'TT'}}"
      ]
     },
     "execution_count": 4,
     "metadata": {},
     "output_type": "execute_result"
    }
   ],
   "source": [
    "sequence_reference_dict = {\n",
    "    \"type\": \"SequenceReference\",\n",
    "    \"refgetAccession\": refget_accession\n",
    "}\n",
    "\n",
    "sequence_location_dict = {\n",
    "    \"type\": \"SequenceLocation\",\n",
    "    \"sequenceReference\": sequence_reference_dict,\n",
    "    \"start\": 80656509,\n",
    "    \"end\": 80656510\n",
    "}\n",
    "\n",
    "literal_sequence_expression_dict = {\n",
    "    \"type\": \"LiteralSequenceExpression\",\n",
    "    \"sequence\": \"TT\"\n",
    "}\n",
    "\n",
    "allele_dict = {\n",
    "    \"type\": \"Allele\",\n",
    "    \"location\": sequence_location_dict,\n",
    "    \"state\": literal_sequence_expression_dict\n",
    "}\n",
    "allele = models.Allele(**allele_dict)\n",
    "allele.model_dump(exclude_none=True)"
   ]
  },
  {
   "cell_type": "markdown",
   "id": "b69c827d943f1ef1",
   "metadata": {
    "collapsed": false,
    "jupyter": {
     "outputs_hidden": false
    }
   },
   "source": [
    "The *Allele* object is displayed above. Since it was built from component dictionaries, it is not yet complete as not all the identifiable objects have VRS identifiers. Note that not all objects in the Allele object are VRS identifiable."
   ]
  },
  {
   "cell_type": "code",
   "execution_count": 5,
   "id": "60b41e56a20d4e10",
   "metadata": {
    "ExecuteTime": {
     "end_time": "2024-04-18T20:23:57.312561Z",
     "start_time": "2024-04-18T20:23:57.310213Z"
    },
    "collapsed": false,
    "jupyter": {
     "outputs_hidden": false
    }
   },
   "outputs": [
    {
     "name": "stdout",
     "output_type": "stream",
     "text": [
      "SequenceReference identifiable? False\n",
      "SequenceLocation identifiable? True\n",
      "LiteralSequenceExpression identifiable? False\n",
      "Allele identifiable? True\n"
     ]
    }
   ],
   "source": [
    "def is_identifiable(obj):\n",
    "    print(obj.__class__.__name__, \"identifiable?\", obj.is_ga4gh_identifiable())\n",
    "sequence_reference = models.SequenceReference(**sequence_reference_dict)\n",
    "is_identifiable(sequence_reference)\n",
    "sequence_location = models.SequenceLocation(**sequence_location_dict)\n",
    "is_identifiable(sequence_location)\n",
    "literal_sequence_expression = models.LiteralSequenceExpression(**literal_sequence_expression_dict)\n",
    "is_identifiable(literal_sequence_expression)\n",
    "is_identifiable(allele)"
   ]
  },
  {
   "cell_type": "markdown",
   "id": "91619f7666c0bcf2",
   "metadata": {
    "collapsed": false,
    "jupyter": {
     "outputs_hidden": false
    }
   },
   "source": [
    "#### Step 4 - Compute the identifiers\n",
    "To make the *Allele* object a valid VRS object - that is that all identifiable objects have valid VRS identifiers - is to use the *ga4gh_identify* method on the identifiable objects (*SequenceLocation*, and *Allele*)."
   ]
  },
  {
   "cell_type": "code",
   "execution_count": 6,
   "id": "5ad675932601aa94",
   "metadata": {
    "ExecuteTime": {
     "end_time": "2024-04-18T20:23:57.315549Z",
     "start_time": "2024-04-18T20:23:57.313165Z"
    },
    "collapsed": false,
    "jupyter": {
     "outputs_hidden": false
    }
   },
   "outputs": [
    {
     "data": {
      "text/plain": [
       "{'id': 'ga4gh:VA.5C67OBmCLuHPgDkCQj7EOMih58BS2Eor',\n",
       " 'type': 'Allele',\n",
       " 'digest': '5C67OBmCLuHPgDkCQj7EOMih58BS2Eor',\n",
       " 'location': {'id': 'ga4gh:SL.lGxOP1JRd4dysmrOVaskO5P_35DyCLnx',\n",
       "  'type': 'SequenceLocation',\n",
       "  'digest': 'lGxOP1JRd4dysmrOVaskO5P_35DyCLnx',\n",
       "  'sequenceReference': {'type': 'SequenceReference',\n",
       "   'refgetAccession': 'SQ.Pw3Ch0x3XWD6ljsnIfmk_NERcZCI9sNM'},\n",
       "  'start': 80656509,\n",
       "  'end': 80656510},\n",
       " 'state': {'type': 'LiteralSequenceExpression', 'sequence': 'TT'}}"
      ]
     },
     "execution_count": 6,
     "metadata": {},
     "output_type": "execute_result"
    }
   ],
   "source": [
    "from ga4gh.core import ga4gh_identify\n",
    "allele.location.id = ga4gh_identify(allele.location)\n",
    "allele.id = ga4gh_identify(allele)\n",
    "allele.model_dump(exclude_none=True)"
   ]
  },
  {
   "cell_type": "markdown",
   "id": "37b5e28820b700fd",
   "metadata": {
    "collapsed": false,
    "jupyter": {
     "outputs_hidden": false
    }
   },
   "source": [
    "The output of the *Allele* object represents a complete VRS allele with VRS identifiers and digests on all of the identifiable objects."
   ]
  }
 ],
 "metadata": {
  "kernelspec": {
   "display_name": "Python 3 (ipykernel)",
   "language": "python",
   "name": "python3"
  },
  "language_info": {
   "codemirror_mode": {
    "name": "ipython",
    "version": 3
   },
   "file_extension": ".py",
   "mimetype": "text/x-python",
   "name": "python",
   "nbconvert_exporter": "python",
   "pygments_lexer": "ipython3",
   "version": "3.12.2"
  }
 },
 "nbformat": 4,
 "nbformat_minor": 5
}
