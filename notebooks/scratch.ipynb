{
 "cells": [
  {
   "cell_type": "code",
   "execution_count": 1,
   "id": "initial_id",
   "metadata": {
    "collapsed": true,
    "ExecuteTime": {
     "end_time": "2024-02-23T05:53:19.147071Z",
     "start_time": "2024-02-23T05:53:18.905272Z"
    }
   },
   "outputs": [],
   "source": [
    "import ga4gh.core\n",
    "from ga4gh.vrs import models\n",
    "from ga4gh.core import sha512t24u"
   ]
  },
  {
   "cell_type": "code",
   "outputs": [],
   "source": [
    "allele_dict = {\n",
    "    'location': {\n",
    "        'end': 55181320,\n",
    "        'start': 55181319,\n",
    "        'sequenceReference': {\n",
    "            'type': 'SequenceReference',\n",
    "            'refgetAccession': 'SQ.F-LrLMe1SRpfUZHkQmvkVKFEGaoDeHul'\n",
    "        },\n",
    "        'type': 'SequenceLocation'\n",
    "    },\n",
    "    'state': {\n",
    "        'sequence': 'T',\n",
    "        'type': 'LiteralSequenceExpression'\n",
    "    },\n",
    "    'type': 'Allele'\n",
    "}\n",
    "\n",
    "a = models.Allele(**allele_dict)"
   ],
   "metadata": {
    "collapsed": false,
    "ExecuteTime": {
     "end_time": "2024-02-23T05:53:19.153851Z",
     "start_time": "2024-02-23T05:53:19.148112Z"
    }
   },
   "id": "68f5f7e40bf74d70",
   "execution_count": 2
  },
  {
   "cell_type": "code",
   "outputs": [
    {
     "data": {
      "text/plain": "'{\"location\":\"_G2K0qSioM74l_u3OaKR0mgLYdeTL7Xd\",\"state\":{\"sequence\":\"T\",\"type\":\"LiteralSequenceExpression\"},\"type\":\"Allele\"}'"
     },
     "execution_count": 3,
     "metadata": {},
     "output_type": "execute_result"
    }
   ],
   "source": [
    "a.model_dump_json()"
   ],
   "metadata": {
    "collapsed": false,
    "ExecuteTime": {
     "end_time": "2024-02-23T05:53:19.154681Z",
     "start_time": "2024-02-23T05:53:19.151578Z"
    }
   },
   "id": "c11e134c85f2dec9",
   "execution_count": 3
  },
  {
   "cell_type": "code",
   "outputs": [
    {
     "data": {
      "text/plain": "'{\"end\":55181320,\"sequenceReference\":{\"refgetAccession\":\"SQ.F-LrLMe1SRpfUZHkQmvkVKFEGaoDeHul\",\"type\":\"SequenceReference\"},\"start\":55181319,\"type\":\"SequenceLocation\"}'"
     },
     "execution_count": 4,
     "metadata": {},
     "output_type": "execute_result"
    }
   ],
   "source": [
    "a.location.model_dump_json()"
   ],
   "metadata": {
    "collapsed": false,
    "ExecuteTime": {
     "end_time": "2024-02-23T05:53:19.157331Z",
     "start_time": "2024-02-23T05:53:19.155072Z"
    }
   },
   "id": "4bfa27852c9b7a76",
   "execution_count": 4
  },
  {
   "cell_type": "code",
   "outputs": [
    {
     "data": {
      "text/plain": "'INEbVdrxv2YgfkREl0A1suBM6AL-3Fo3'"
     },
     "execution_count": 5,
     "metadata": {},
     "output_type": "execute_result"
    }
   ],
   "source": [
    "s = '{\"members\":[\"CvJUnTllC5zQ-M1Hbj9oj6BQitKw67J9\",\"QZGrlXd07EPr1mUVyhfaEN8mJVmN1PGF\"],\"type\":\"Haplotype\"}'\n",
    "sha512t24u(s.encode('utf-8'))"
   ],
   "metadata": {
    "collapsed": false,
    "ExecuteTime": {
     "end_time": "2024-02-23T05:53:19.164798Z",
     "start_time": "2024-02-23T05:53:19.157587Z"
    }
   },
   "id": "5f08dedc3934e14b",
   "execution_count": 5
  },
  {
   "cell_type": "code",
   "outputs": [
    {
     "data": {
      "text/plain": "'\"Hy2XU_-rp4IMh6I_1NXNecBo8Qx8n0oE\"'"
     },
     "execution_count": 6,
     "metadata": {},
     "output_type": "execute_result"
    }
   ],
   "source": [
    "iri = models.IRI.model_construct(\"ga4gh:VA.Hy2XU_-rp4IMh6I_1NXNecBo8Qx8n0oE\")\n",
    "iri.model_dump_json()"
   ],
   "metadata": {
    "collapsed": false,
    "ExecuteTime": {
     "end_time": "2024-02-23T05:53:19.165593Z",
     "start_time": "2024-02-23T05:53:19.160302Z"
    }
   },
   "id": "8e67a4b8ae29e077",
   "execution_count": 6
  },
  {
   "cell_type": "code",
   "outputs": [],
   "source": [
    "from ga4gh.core import GA4GH_IR_REGEXP"
   ],
   "metadata": {
    "collapsed": false,
    "ExecuteTime": {
     "end_time": "2024-02-23T05:53:19.166255Z",
     "start_time": "2024-02-23T05:53:19.162929Z"
    }
   },
   "id": "2a09ab2316876e02",
   "execution_count": 7
  },
  {
   "cell_type": "code",
   "outputs": [
    {
     "data": {
      "text/plain": "'Hy2XU_-rp4IMh6I_1NXNecBo8Qx8n0oE'"
     },
     "execution_count": 8,
     "metadata": {},
     "output_type": "execute_result"
    }
   ],
   "source": [
    "GA4GH_IR_REGEXP.match(iri.root)['digest']"
   ],
   "metadata": {
    "collapsed": false,
    "ExecuteTime": {
     "end_time": "2024-02-23T05:53:19.169340Z",
     "start_time": "2024-02-23T05:53:19.165108Z"
    }
   },
   "id": "b010f1faf5aa4c7c",
   "execution_count": 8
  },
  {
   "cell_type": "markdown",
   "source": [
    "## Schema testing"
   ],
   "metadata": {
    "collapsed": false
   },
   "id": "f9a767f43f069776"
  },
  {
   "cell_type": "code",
   "outputs": [],
   "source": [
    "from ga4gh.vrs import models"
   ],
   "metadata": {
    "collapsed": false,
    "ExecuteTime": {
     "end_time": "2024-02-23T05:53:19.216541Z",
     "start_time": "2024-02-23T05:53:19.168029Z"
    }
   },
   "id": "b9e5d4e04237c06a",
   "execution_count": 9
  },
  {
   "cell_type": "code",
   "outputs": [
    {
     "data": {
      "text/plain": "{'description',\n 'digest',\n 'end',\n 'extensions',\n 'id',\n 'label',\n 'sequenceReference',\n 'start',\n 'type'}"
     },
     "execution_count": 10,
     "metadata": {},
     "output_type": "execute_result"
    }
   ],
   "source": [
    "set(models.SequenceLocation.__fields__)"
   ],
   "metadata": {
    "collapsed": false,
    "ExecuteTime": {
     "end_time": "2024-02-23T05:53:19.217977Z",
     "start_time": "2024-02-23T05:53:19.172495Z"
    }
   },
   "id": "6510c36a000679d7",
   "execution_count": 10
  },
  {
   "cell_type": "markdown",
   "source": [],
   "metadata": {
    "collapsed": false
   },
   "id": "a2b1e02eacde4415"
  },
  {
   "cell_type": "code",
   "outputs": [
    {
     "data": {
      "text/plain": "ga4gh.vrs._internal.models.SequenceLocation"
     },
     "execution_count": 11,
     "metadata": {},
     "output_type": "execute_result"
    }
   ],
   "source": [
    "getattr(models, 'SequenceLocation', False)"
   ],
   "metadata": {
    "collapsed": false,
    "ExecuteTime": {
     "end_time": "2024-02-23T05:53:19.218561Z",
     "start_time": "2024-02-23T05:53:19.174981Z"
    }
   },
   "id": "e173a0f8790b12e4",
   "execution_count": 11
  },
  {
   "cell_type": "code",
   "outputs": [],
   "source": [
    "from pathlib import Path\n",
    "import os\n",
    "import yaml"
   ],
   "metadata": {
    "collapsed": false,
    "ExecuteTime": {
     "end_time": "2024-02-23T05:53:19.219535Z",
     "start_time": "2024-02-23T05:53:19.178147Z"
    }
   },
   "id": "5aa91c0c9c69658d",
   "execution_count": 12
  },
  {
   "cell_type": "code",
   "outputs": [],
   "source": [
    "ROOT_DIR = Path(os.getcwd()).parent\n",
    "VRS_SCHEMA_DIR = ROOT_DIR / 'submodules' / 'vrs' / 'schema'"
   ],
   "metadata": {
    "collapsed": false,
    "ExecuteTime": {
     "end_time": "2024-02-23T05:53:19.244703Z",
     "start_time": "2024-02-23T05:53:19.192390Z"
    }
   },
   "id": "bed8be3045afc562",
   "execution_count": 13
  },
  {
   "cell_type": "code",
   "outputs": [],
   "source": [
    "\n",
    "concrete_class_names = list()\n",
    "with open(VRS_SCHEMA_DIR / 'vrs.yaml') as vrs_yaml:\n",
    "    vrs_schema = yaml.safe_load(vrs_yaml)\n"
   ],
   "metadata": {
    "collapsed": false,
    "ExecuteTime": {
     "end_time": "2024-02-23T05:53:19.258791Z",
     "start_time": "2024-02-23T05:53:19.194840Z"
    }
   },
   "id": "33d925353737ae55",
   "execution_count": 14
  },
  {
   "cell_type": "code",
   "outputs": [],
   "source": [
    "for vrs_class in vrs_schema['$defs']:\n",
    "    if 'properties' in vrs_schema['$defs'][vrs_class].keys():\n",
    "        concrete_class_names.append(vrs_class)"
   ],
   "metadata": {
    "collapsed": false,
    "ExecuteTime": {
     "end_time": "2024-02-23T05:53:19.259384Z",
     "start_time": "2024-02-23T05:53:19.230043Z"
    }
   },
   "id": "32981ef7ab235120",
   "execution_count": 15
  },
  {
   "cell_type": "code",
   "outputs": [
    {
     "data": {
      "text/plain": "ga4gh.vrs._internal.models.Allele"
     },
     "execution_count": 16,
     "metadata": {},
     "output_type": "execute_result"
    }
   ],
   "source": [
    "getattr(models, 'Allele')"
   ],
   "metadata": {
    "collapsed": false,
    "ExecuteTime": {
     "end_time": "2024-02-23T05:53:19.259982Z",
     "start_time": "2024-02-23T05:53:19.232974Z"
    }
   },
   "id": "85434dae68309a1e",
   "execution_count": 16
  },
  {
   "cell_type": "code",
   "outputs": [],
   "source": [
    "p = getattr(models, 'LengthExpression')"
   ],
   "metadata": {
    "collapsed": false,
    "ExecuteTime": {
     "end_time": "2024-02-23T05:53:19.260872Z",
     "start_time": "2024-02-23T05:53:19.235718Z"
    }
   },
   "id": "a22bce22cb23ec2",
   "execution_count": 17
  },
  {
   "cell_type": "markdown",
   "source": [
    "## Enref and deref"
   ],
   "metadata": {
    "collapsed": false
   },
   "id": "b5774a0e183d5e45"
  },
  {
   "cell_type": "code",
   "outputs": [],
   "source": [
    "from ga4gh.vrs import vrs_enref, vrs_deref"
   ],
   "metadata": {
    "collapsed": false,
    "ExecuteTime": {
     "end_time": "2024-02-23T05:53:19.266577Z",
     "start_time": "2024-02-23T05:53:19.237926Z"
    }
   },
   "id": "897f943eee0cf054",
   "execution_count": 18
  },
  {
   "cell_type": "code",
   "outputs": [
    {
     "data": {
      "text/plain": "{'id': 'ga4gh:VA.Hy2XU_-rp4IMh6I_1NXNecBo8Qx8n0oE',\n 'type': 'Allele',\n 'digest': 'Hy2XU_-rp4IMh6I_1NXNecBo8Qx8n0oE',\n 'location': {'type': 'SequenceLocation',\n  'digest': '_G2K0qSioM74l_u3OaKR0mgLYdeTL7Xd',\n  'sequenceReference': {'type': 'SequenceReference',\n   'refgetAccession': 'SQ.F-LrLMe1SRpfUZHkQmvkVKFEGaoDeHul'},\n  'start': 55181319,\n  'end': 55181320},\n 'state': {'type': 'LiteralSequenceExpression', 'sequence': 'T'}}"
     },
     "execution_count": 19,
     "metadata": {},
     "output_type": "execute_result"
    }
   ],
   "source": [
    "obj_store = dict()\n",
    "a.get_or_create_ga4gh_identifier()\n",
    "a.model_dump(exclude_none=True)"
   ],
   "metadata": {
    "collapsed": false,
    "ExecuteTime": {
     "end_time": "2024-02-23T05:53:19.267318Z",
     "start_time": "2024-02-23T05:53:19.240171Z"
    }
   },
   "id": "7ed88eee2fd528a2",
   "execution_count": 19
  },
  {
   "cell_type": "code",
   "outputs": [],
   "source": [
    "a_enref = vrs_enref(a, obj_store)\n",
    "sl_enref = vrs_enref(a.location, obj_store)"
   ],
   "metadata": {
    "collapsed": false,
    "ExecuteTime": {
     "end_time": "2024-02-23T05:53:19.268284Z",
     "start_time": "2024-02-23T05:53:19.244306Z"
    }
   },
   "id": "c7c2b9ef81aaee80",
   "execution_count": 20
  },
  {
   "cell_type": "code",
   "outputs": [
    {
     "name": "stderr",
     "output_type": "stream",
     "text": [
      "/Users/ahw001/git/vrs-python/venv/lib/python3.10/site-packages/pydantic/main.py:314: UserWarning: Pydantic serializer warnings:\n",
      "  Expected `Union[definition-ref, plain_function[ga4gh_serialize]]` but got `str` - serialized value may not be as expected\n",
      "  return self.__pydantic_serializer__.to_python(\n"
     ]
    },
    {
     "data": {
      "text/plain": "{'id': 'ga4gh:VA.Hy2XU_-rp4IMh6I_1NXNecBo8Qx8n0oE',\n 'type': 'Allele',\n 'digest': 'Hy2XU_-rp4IMh6I_1NXNecBo8Qx8n0oE',\n 'location': 'ga4gh:SL._G2K0qSioM74l_u3OaKR0mgLYdeTL7Xd',\n 'state': {'type': 'LiteralSequenceExpression', 'sequence': 'T'}}"
     },
     "execution_count": 21,
     "metadata": {},
     "output_type": "execute_result"
    }
   ],
   "source": [
    "a_enref.model_dump(exclude_none=True)"
   ],
   "metadata": {
    "collapsed": false,
    "ExecuteTime": {
     "end_time": "2024-02-23T05:53:19.269188Z",
     "start_time": "2024-02-23T05:53:19.246827Z"
    }
   },
   "id": "2523640eaa70e64",
   "execution_count": 21
  },
  {
   "cell_type": "code",
   "outputs": [
    {
     "name": "stderr",
     "output_type": "stream",
     "text": [
      "SequenceLocation not in cra_map {'Allele': ['location'], 'Haplotype': ['members'], '_CopyNumber': ['location'], 'CopyNumberCount': ['location'], 'CopyNumberChange': ['location']}\n"
     ]
    }
   ],
   "source": [
    "a_deref = vrs_deref(a_enref, obj_store)"
   ],
   "metadata": {
    "collapsed": false,
    "ExecuteTime": {
     "end_time": "2024-02-23T05:53:19.308490Z",
     "start_time": "2024-02-23T05:53:19.251032Z"
    }
   },
   "id": "33007f8ca388eb43",
   "execution_count": 22
  },
  {
   "cell_type": "markdown",
   "source": [
    "## Dups"
   ],
   "metadata": {
    "collapsed": false
   },
   "id": "187d2599d24e532a"
  },
  {
   "cell_type": "code",
   "outputs": [],
   "source": [],
   "metadata": {
    "collapsed": false,
    "ExecuteTime": {
     "end_time": "2024-02-23T05:53:19.309138Z",
     "start_time": "2024-02-23T05:53:19.254021Z"
    }
   },
   "id": "2bb125b0a7df7a7b",
   "execution_count": 22
  },
  {
   "cell_type": "code",
   "outputs": [],
   "source": [
    "from ga4gh.vrs.dataproxy import SeqRepoDataProxy\n",
    "from biocommons.seqrepo import SeqRepo\n",
    "from ga4gh.vrs.extras.translator import Translator\n",
    "from ga4gh.vrs import models\n",
    "\n",
    "data_proxy = SeqRepoDataProxy(SeqRepo(\"/usr/local/share/seqrepo/2021-01-29\"))\n",
    "translator = Translator(data_proxy=data_proxy)"
   ],
   "metadata": {
    "collapsed": false,
    "ExecuteTime": {
     "end_time": "2024-02-23T05:53:19.343619Z",
     "start_time": "2024-02-23T05:53:19.256376Z"
    }
   },
   "id": "3b0262df913b741",
   "execution_count": 23
  },
  {
   "cell_type": "code",
   "outputs": [],
   "source": [
    "from ga4gh.vrs import normalize\n",
    "a = {\n",
    "    'location': {\n",
    "        'end': 289464,\n",
    "        'start': 289464,\n",
    "        'sequenceReference': {\n",
    "            'type': 'SequenceReference',\n",
    "            'refgetAccession': 'SQ.IIB53T8CNeJJdUqzn9V_JnRtQadwWCbl'\n",
    "        },\n",
    "        'type': 'SequenceLocation'\n",
    "    },\n",
    "    'state': {\n",
    "        'sequence': 'CAGCAG',\n",
    "        'type': 'LiteralSequenceExpression'\n",
    "    },\n",
    "    'type': 'Allele'\n",
    "}\n",
    "small_dup = models.Allele(**a)"
   ],
   "metadata": {
    "collapsed": false,
    "ExecuteTime": {
     "end_time": "2024-02-23T05:53:19.344265Z",
     "start_time": "2024-02-23T05:53:19.336337Z"
    }
   },
   "id": "864cc1f21bfc357e",
   "execution_count": 24
  },
  {
   "cell_type": "code",
   "outputs": [
    {
     "data": {
      "text/plain": "{'type': 'Allele',\n 'location': {'type': 'SequenceLocation',\n  'sequenceReference': {'type': 'SequenceReference',\n   'refgetAccession': 'SQ.IIB53T8CNeJJdUqzn9V_JnRtQadwWCbl'},\n  'start': 289464,\n  'end': 289469},\n 'state': {'type': 'ReferenceLengthExpression',\n  'length': 11,\n  'sequence': 'CAGCAGCAGCA',\n  'repeatSubunitLength': 3}}"
     },
     "execution_count": 25,
     "metadata": {},
     "output_type": "execute_result"
    }
   ],
   "source": [
    "# Expecting an RLE with RSL=3\n",
    "a2 = normalize(small_dup, data_proxy=data_proxy)\n",
    "a2.model_dump(exclude_none=True)"
   ],
   "metadata": {
    "collapsed": false,
    "ExecuteTime": {
     "end_time": "2024-02-23T05:53:19.351589Z",
     "start_time": "2024-02-23T05:53:19.338785Z"
    }
   },
   "id": "edf2040e69305b63",
   "execution_count": 25
  },
  {
   "cell_type": "code",
   "outputs": [],
   "source": [
    "b = {\n",
    "    'location': {\n",
    "        'end': 289464,\n",
    "        'start': 289464,\n",
    "        'sequenceReference': {\n",
    "            'type': 'SequenceReference',\n",
    "            'refgetAccession': 'SQ.IIB53T8CNeJJdUqzn9V_JnRtQadwWCbl'\n",
    "        },\n",
    "        'type': 'SequenceLocation'\n",
    "    },\n",
    "    'state': {\n",
    "        'sequence': 'CACA',\n",
    "        'type': 'LiteralSequenceExpression'\n",
    "    },\n",
    "    'type': 'Allele'\n",
    "}\n",
    "small_dup2 = models.Allele(**b)"
   ],
   "metadata": {
    "collapsed": false,
    "ExecuteTime": {
     "end_time": "2024-02-23T05:53:19.352751Z",
     "start_time": "2024-02-23T05:53:19.349973Z"
    }
   },
   "id": "1de4d8b75d466e4a",
   "execution_count": 26
  },
  {
   "cell_type": "code",
   "outputs": [
    {
     "data": {
      "text/plain": "Allele(id=None, label=None, description=None, extensions=None, type='Allele', digest=None, expressions=None, location=SequenceLocation(id=None, label=None, description=None, extensions=None, type='SequenceLocation', digest=None, sequenceReference=SequenceReference(id=None, label=None, description=None, extensions=None, type='SequenceReference', refgetAccession='SQ.IIB53T8CNeJJdUqzn9V_JnRtQadwWCbl', residueAlphabet=None), start=289464, end=289466), state=ReferenceLengthExpression(id=None, label=None, description=None, extensions=None, type='ReferenceLengthExpression', length=6, sequence=SequenceString(root='CACACA'), repeatSubunitLength=2))"
     },
     "execution_count": 27,
     "metadata": {},
     "output_type": "execute_result"
    }
   ],
   "source": [
    "# Expecting an RLE with RSL=2\n",
    "normalize(small_dup2, data_proxy=data_proxy)"
   ],
   "metadata": {
    "collapsed": false,
    "ExecuteTime": {
     "end_time": "2024-02-23T05:53:19.373924Z",
     "start_time": "2024-02-23T05:53:19.356227Z"
    }
   },
   "id": "82dc8a42d5e3385f",
   "execution_count": 27
  },
  {
   "cell_type": "code",
   "outputs": [],
   "source": [
    "c = {'digest': 'swY2caCgv1kP6YqKyPlcEzJqTvou15vC',\n",
    " 'id': 'ga4gh:VA.swY2caCgv1kP6YqKyPlcEzJqTvou15vC',\n",
    " 'location': {'digest': 'ikECYncPpE1xh6f_LiComrFGevocjDHQ',\n",
    "              'end': 32331094,\n",
    "              'id': 'ga4gh:SL.ikECYncPpE1xh6f_LiComrFGevocjDHQ',\n",
    "              'sequenceReference': {'refgetAccession': 'SQ._0wi-qoDrvram155UmcSC-zA5ZK4fpLT',\n",
    "                                    'type': 'SequenceReference'},\n",
    "              'start': 32331082,\n",
    "              'type': 'SequenceLocation'},\n",
    " 'state': {'length': 14,\n",
    "           'repeatSubunitLength': 2,\n",
    "           'sequence': 'TTTTTTTTTTTTTT',\n",
    "           'type': 'ReferenceLengthExpression'},\n",
    " 'type': 'Allele'}\n",
    "multi_repeat_rle = models.Allele(**c)"
   ],
   "metadata": {
    "collapsed": false,
    "ExecuteTime": {
     "end_time": "2024-02-23T05:53:19.374829Z",
     "start_time": "2024-02-23T05:53:19.358837Z"
    }
   },
   "id": "95b31f331ad36ffa",
   "execution_count": 28
  },
  {
   "cell_type": "code",
   "outputs": [],
   "source": [
    "d = {\n",
    "    'location': {\n",
    "        'end': 32331094,\n",
    "        'start': 32331082,\n",
    "        'sequenceReference': {\n",
    "            'type': 'SequenceReference',\n",
    "            'refgetAccession': 'SQ._0wi-qoDrvram155UmcSC-zA5ZK4fpLT'\n",
    "        },\n",
    "        'type': 'SequenceLocation'\n",
    "    },\n",
    "    'state': {\n",
    "        'sequence': 'TTTTTTTTTTTTTT',\n",
    "        'type': 'LiteralSequenceExpression'\n",
    "    },\n",
    "    'type': 'Allele'\n",
    "}\n",
    "multi_repeat_lse = models.Allele(**d)"
   ],
   "metadata": {
    "collapsed": false,
    "ExecuteTime": {
     "end_time": "2024-02-23T05:53:19.375508Z",
     "start_time": "2024-02-23T05:53:19.362180Z"
    }
   },
   "id": "ab66e7da87ab1f4f",
   "execution_count": 29
  },
  {
   "cell_type": "code",
   "outputs": [
    {
     "data": {
      "text/plain": "Allele(id=None, label=None, description=None, extensions=None, type='Allele', digest=None, expressions=None, location=SequenceLocation(id=None, label=None, description=None, extensions=None, type='SequenceLocation', digest=None, sequenceReference=SequenceReference(id=None, label=None, description=None, extensions=None, type='SequenceReference', refgetAccession='SQ._0wi-qoDrvram155UmcSC-zA5ZK4fpLT', residueAlphabet=None), start=32331082, end=32331094), state=ReferenceLengthExpression(id=None, label=None, description=None, extensions=None, type='ReferenceLengthExpression', length=14, sequence=SequenceString(root='TTTTTTTTTTTTTT'), repeatSubunitLength=2))"
     },
     "execution_count": 30,
     "metadata": {},
     "output_type": "execute_result"
    }
   ],
   "source": [
    "normalize(multi_repeat_lse, data_proxy=data_proxy)"
   ],
   "metadata": {
    "collapsed": false,
    "ExecuteTime": {
     "end_time": "2024-02-23T05:53:19.376308Z",
     "start_time": "2024-02-23T05:53:19.364880Z"
    }
   },
   "id": "5cf99af76d2ef3ff",
   "execution_count": 30
  }
 ],
 "metadata": {
  "kernelspec": {
   "display_name": "Python 3",
   "language": "python",
   "name": "python3"
  },
  "language_info": {
   "codemirror_mode": {
    "name": "ipython",
    "version": 2
   },
   "file_extension": ".py",
   "mimetype": "text/x-python",
   "name": "python",
   "nbconvert_exporter": "python",
   "pygments_lexer": "ipython2",
   "version": "2.7.6"
  }
 },
 "nbformat": 4,
 "nbformat_minor": 5
}
