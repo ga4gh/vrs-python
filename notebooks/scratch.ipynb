{
 "cells": [
  {
   "cell_type": "code",
   "execution_count": 1,
   "id": "initial_id",
   "metadata": {
    "collapsed": true,
    "ExecuteTime": {
     "end_time": "2024-02-10T05:14:05.439750Z",
     "start_time": "2024-02-10T05:14:05.237545Z"
    }
   },
   "outputs": [],
   "source": [
    "import ga4gh.core\n",
    "from ga4gh.vrs import models\n",
    "from ga4gh.core import sha512t24u"
   ]
  },
  {
   "cell_type": "code",
   "outputs": [],
   "source": [
    "allele_dict = {\n",
    "    'location': {\n",
    "        'end': 55181320,\n",
    "        'start': 55181319,\n",
    "        'sequenceReference': {\n",
    "            'type': 'SequenceReference',\n",
    "            'refgetAccession': 'SQ.F-LrLMe1SRpfUZHkQmvkVKFEGaoDeHul'\n",
    "        },\n",
    "        'type': 'SequenceLocation'\n",
    "    },\n",
    "    'state': {\n",
    "        'sequence': 'T',\n",
    "        'type': 'LiteralSequenceExpression'\n",
    "    },\n",
    "    'type': 'Allele'\n",
    "}\n",
    "\n",
    "a = models.Allele(**allele_dict)"
   ],
   "metadata": {
    "collapsed": false,
    "ExecuteTime": {
     "end_time": "2024-02-10T05:14:05.443194Z",
     "start_time": "2024-02-10T05:14:05.441078Z"
    }
   },
   "id": "68f5f7e40bf74d70",
   "execution_count": 2
  },
  {
   "cell_type": "code",
   "outputs": [
    {
     "data": {
      "text/plain": "'{\"location\":\"_G2K0qSioM74l_u3OaKR0mgLYdeTL7Xd\",\"state\":{\"sequence\":\"T\",\"type\":\"LiteralSequenceExpression\"},\"type\":\"Allele\"}'"
     },
     "execution_count": 3,
     "metadata": {},
     "output_type": "execute_result"
    }
   ],
   "source": [
    "a.model_dump_json()"
   ],
   "metadata": {
    "collapsed": false,
    "ExecuteTime": {
     "end_time": "2024-02-10T05:14:05.448917Z",
     "start_time": "2024-02-10T05:14:05.444715Z"
    }
   },
   "id": "c11e134c85f2dec9",
   "execution_count": 3
  },
  {
   "cell_type": "code",
   "outputs": [
    {
     "data": {
      "text/plain": "'{\"end\":55181320,\"sequenceReference\":{\"refgetAccession\":\"SQ.F-LrLMe1SRpfUZHkQmvkVKFEGaoDeHul\",\"type\":\"SequenceReference\"},\"start\":55181319,\"type\":\"SequenceLocation\"}'"
     },
     "execution_count": 4,
     "metadata": {},
     "output_type": "execute_result"
    }
   ],
   "source": [
    "a.location.model_dump_json()"
   ],
   "metadata": {
    "collapsed": false,
    "ExecuteTime": {
     "end_time": "2024-02-10T05:14:05.449813Z",
     "start_time": "2024-02-10T05:14:05.447808Z"
    }
   },
   "id": "4bfa27852c9b7a76",
   "execution_count": 4
  },
  {
   "cell_type": "code",
   "outputs": [
    {
     "data": {
      "text/plain": "'INEbVdrxv2YgfkREl0A1suBM6AL-3Fo3'"
     },
     "execution_count": 5,
     "metadata": {},
     "output_type": "execute_result"
    }
   ],
   "source": [
    "s = '{\"members\":[\"CvJUnTllC5zQ-M1Hbj9oj6BQitKw67J9\",\"QZGrlXd07EPr1mUVyhfaEN8mJVmN1PGF\"],\"type\":\"Haplotype\"}'\n",
    "sha512t24u(s.encode('utf-8'))"
   ],
   "metadata": {
    "collapsed": false,
    "ExecuteTime": {
     "end_time": "2024-02-10T05:14:05.456049Z",
     "start_time": "2024-02-10T05:14:05.451798Z"
    }
   },
   "id": "5f08dedc3934e14b",
   "execution_count": 5
  },
  {
   "cell_type": "code",
   "outputs": [
    {
     "data": {
      "text/plain": "'{\"members\":[\"Hy2XU_-rp4IMh6I_1NXNecBo8Qx8n0oE\",\"khD7xy2qdhEmCtv2mFnNfc6BGibim97K\"],\"type\":\"Haplotype\"}'"
     },
     "execution_count": 16,
     "metadata": {},
     "output_type": "execute_result"
    }
   ],
   "source": [
    "h_dict = {\"members\":set([\"ga4gh:VA.khD7xy2qdhEmCtv2mFnNfc6BGibim97K\",\"ga4gh:VA.Hy2XU_-rp4IMh6I_1NXNecBo8Qx8n0oE\"]),\"type\":\"Haplotype\"}\n",
    "h = models.Haplotype(**h_dict)\n",
    "h.model_dump_json()"
   ],
   "metadata": {
    "collapsed": false,
    "ExecuteTime": {
     "end_time": "2024-02-10T05:14:10.471817Z",
     "start_time": "2024-02-10T05:14:10.462834Z"
    }
   },
   "id": "c9c14a13621fb43d",
   "execution_count": 16
  },
  {
   "cell_type": "markdown",
   "source": [
    "## Schema testing"
   ],
   "metadata": {
    "collapsed": false
   },
   "id": "f9a767f43f069776"
  },
  {
   "cell_type": "code",
   "outputs": [],
   "source": [
    "from ga4gh.vrs import models"
   ],
   "metadata": {
    "collapsed": false,
    "ExecuteTime": {
     "end_time": "2024-02-10T05:14:05.459901Z",
     "start_time": "2024-02-10T05:14:05.457009Z"
    }
   },
   "id": "b9e5d4e04237c06a",
   "execution_count": 7
  },
  {
   "cell_type": "code",
   "outputs": [
    {
     "data": {
      "text/plain": "{'description',\n 'digest',\n 'end',\n 'extensions',\n 'id',\n 'label',\n 'sequenceReference',\n 'start',\n 'type'}"
     },
     "execution_count": 8,
     "metadata": {},
     "output_type": "execute_result"
    }
   ],
   "source": [
    "set(models.SequenceLocation.__fields__)"
   ],
   "metadata": {
    "collapsed": false,
    "ExecuteTime": {
     "end_time": "2024-02-10T05:14:05.484819Z",
     "start_time": "2024-02-10T05:14:05.459669Z"
    }
   },
   "id": "6510c36a000679d7",
   "execution_count": 8
  },
  {
   "cell_type": "markdown",
   "source": [],
   "metadata": {
    "collapsed": false
   },
   "id": "a2b1e02eacde4415"
  },
  {
   "cell_type": "code",
   "outputs": [
    {
     "data": {
      "text/plain": "ga4gh.vrs._internal.models.SequenceLocation"
     },
     "execution_count": 9,
     "metadata": {},
     "output_type": "execute_result"
    }
   ],
   "source": [
    "getattr(models, 'SequenceLocation', False)"
   ],
   "metadata": {
    "collapsed": false,
    "ExecuteTime": {
     "end_time": "2024-02-10T05:14:05.490345Z",
     "start_time": "2024-02-10T05:14:05.462996Z"
    }
   },
   "id": "e173a0f8790b12e4",
   "execution_count": 9
  },
  {
   "cell_type": "code",
   "outputs": [],
   "source": [
    "from pathlib import Path\n",
    "import os\n",
    "import yaml"
   ],
   "metadata": {
    "collapsed": false,
    "ExecuteTime": {
     "end_time": "2024-02-10T05:14:05.490997Z",
     "start_time": "2024-02-10T05:14:05.465469Z"
    }
   },
   "id": "5aa91c0c9c69658d",
   "execution_count": 10
  },
  {
   "cell_type": "code",
   "outputs": [],
   "source": [
    "ROOT_DIR = Path(os.getcwd()).parent\n",
    "VRS_SCHEMA_DIR = ROOT_DIR / 'submodules' / 'vrs' / 'schema'"
   ],
   "metadata": {
    "collapsed": false,
    "ExecuteTime": {
     "end_time": "2024-02-10T05:14:05.491192Z",
     "start_time": "2024-02-10T05:14:05.478278Z"
    }
   },
   "id": "bed8be3045afc562",
   "execution_count": 11
  },
  {
   "cell_type": "code",
   "outputs": [],
   "source": [
    "\n",
    "concrete_class_names = list()\n",
    "with open(VRS_SCHEMA_DIR / 'vrs.yaml') as vrs_yaml:\n",
    "    vrs_schema = yaml.safe_load(vrs_yaml)\n"
   ],
   "metadata": {
    "collapsed": false,
    "ExecuteTime": {
     "end_time": "2024-02-10T05:14:05.514866Z",
     "start_time": "2024-02-10T05:14:05.480990Z"
    }
   },
   "id": "33d925353737ae55",
   "execution_count": 12
  },
  {
   "cell_type": "code",
   "outputs": [],
   "source": [
    "for vrs_class in vrs_schema['$defs']:\n",
    "    if 'properties' in vrs_schema['$defs'][vrs_class].keys():\n",
    "        concrete_class_names.append(vrs_class)"
   ],
   "metadata": {
    "collapsed": false,
    "ExecuteTime": {
     "end_time": "2024-02-10T05:14:05.517966Z",
     "start_time": "2024-02-10T05:14:05.515341Z"
    }
   },
   "id": "32981ef7ab235120",
   "execution_count": 13
  },
  {
   "cell_type": "code",
   "outputs": [
    {
     "data": {
      "text/plain": "ga4gh.vrs._internal.models.Allele"
     },
     "execution_count": 14,
     "metadata": {},
     "output_type": "execute_result"
    }
   ],
   "source": [
    "getattr(models, 'Allele')"
   ],
   "metadata": {
    "collapsed": false,
    "ExecuteTime": {
     "end_time": "2024-02-10T05:14:05.526787Z",
     "start_time": "2024-02-10T05:14:05.520407Z"
    }
   },
   "id": "85434dae68309a1e",
   "execution_count": 14
  },
  {
   "cell_type": "code",
   "outputs": [],
   "source": [
    "p = getattr(models, 'LengthExpression')"
   ],
   "metadata": {
    "collapsed": false,
    "ExecuteTime": {
     "end_time": "2024-02-10T05:14:05.527185Z",
     "start_time": "2024-02-10T05:14:05.523224Z"
    }
   },
   "id": "a22bce22cb23ec2",
   "execution_count": 15
  }
 ],
 "metadata": {
  "kernelspec": {
   "display_name": "Python 3",
   "language": "python",
   "name": "python3"
  },
  "language_info": {
   "codemirror_mode": {
    "name": "ipython",
    "version": 2
   },
   "file_extension": ".py",
   "mimetype": "text/x-python",
   "name": "python",
   "nbconvert_exporter": "python",
   "pygments_lexer": "ipython2",
   "version": "2.7.6"
  }
 },
 "nbformat": 4,
 "nbformat_minor": 5
}
