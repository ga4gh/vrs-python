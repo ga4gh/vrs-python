{
 "cells": [
  {
   "cell_type": "code",
   "execution_count": 39,
   "id": "initial_id",
   "metadata": {
    "collapsed": true,
    "ExecuteTime": {
     "end_time": "2024-03-01T18:02:05.356281Z",
     "start_time": "2024-03-01T18:02:05.279360Z"
    }
   },
   "outputs": [],
   "source": [
    "import ga4gh.core\n",
    "from ga4gh.vrs import models\n",
    "from ga4gh.core import sha512t24u"
   ]
  },
  {
   "cell_type": "code",
   "outputs": [],
   "source": [
    "allele_dict = {\n",
    "    'location': {\n",
    "        'end': 55181320,\n",
    "        'start': 55181319,\n",
    "        'sequenceReference': {\n",
    "            'type': 'SequenceReference',\n",
    "            'refgetAccession': 'SQ.F-LrLMe1SRpfUZHkQmvkVKFEGaoDeHul'\n",
    "        },\n",
    "        'type': 'SequenceLocation'\n",
    "    },\n",
    "    'state': {\n",
    "        'sequence': 'T',\n",
    "        'type': 'LiteralSequenceExpression'\n",
    "    },\n",
    "    'type': 'Allele'\n",
    "}\n",
    "\n",
    "a = models.Allele(**allele_dict)"
   ],
   "metadata": {
    "collapsed": false,
    "ExecuteTime": {
     "end_time": "2024-03-01T18:02:05.368951Z",
     "start_time": "2024-03-01T18:02:05.358653Z"
    }
   },
   "id": "68f5f7e40bf74d70",
   "execution_count": 40
  },
  {
   "cell_type": "code",
   "outputs": [
    {
     "data": {
      "text/plain": "'{\"location\":\"_G2K0qSioM74l_u3OaKR0mgLYdeTL7Xd\",\"state\":{\"sequence\":\"T\",\"type\":\"LiteralSequenceExpression\"},\"type\":\"Allele\"}'"
     },
     "execution_count": 41,
     "metadata": {},
     "output_type": "execute_result"
    }
   ],
   "source": [
    "a.model_dump_json()"
   ],
   "metadata": {
    "collapsed": false,
    "ExecuteTime": {
     "end_time": "2024-03-01T18:02:05.369775Z",
     "start_time": "2024-03-01T18:02:05.362808Z"
    }
   },
   "id": "c11e134c85f2dec9",
   "execution_count": 41
  },
  {
   "cell_type": "code",
   "outputs": [
    {
     "data": {
      "text/plain": "'{\"end\":55181320,\"sequenceReference\":{\"refgetAccession\":\"SQ.F-LrLMe1SRpfUZHkQmvkVKFEGaoDeHul\",\"type\":\"SequenceReference\"},\"start\":55181319,\"type\":\"SequenceLocation\"}'"
     },
     "execution_count": 42,
     "metadata": {},
     "output_type": "execute_result"
    }
   ],
   "source": [
    "a.location.model_dump_json()"
   ],
   "metadata": {
    "collapsed": false,
    "ExecuteTime": {
     "end_time": "2024-03-01T18:02:05.375715Z",
     "start_time": "2024-03-01T18:02:05.371273Z"
    }
   },
   "id": "4bfa27852c9b7a76",
   "execution_count": 42
  },
  {
   "cell_type": "code",
   "outputs": [
    {
     "data": {
      "text/plain": "'INEbVdrxv2YgfkREl0A1suBM6AL-3Fo3'"
     },
     "execution_count": 43,
     "metadata": {},
     "output_type": "execute_result"
    }
   ],
   "source": [
    "s = '{\"members\":[\"CvJUnTllC5zQ-M1Hbj9oj6BQitKw67J9\",\"QZGrlXd07EPr1mUVyhfaEN8mJVmN1PGF\"],\"type\":\"Haplotype\"}'\n",
    "sha512t24u(s.encode('utf-8'))"
   ],
   "metadata": {
    "collapsed": false,
    "ExecuteTime": {
     "end_time": "2024-03-01T18:02:05.390684Z",
     "start_time": "2024-03-01T18:02:05.374387Z"
    }
   },
   "id": "5f08dedc3934e14b",
   "execution_count": 43
  },
  {
   "cell_type": "code",
   "outputs": [
    {
     "data": {
      "text/plain": "'\"Hy2XU_-rp4IMh6I_1NXNecBo8Qx8n0oE\"'"
     },
     "execution_count": 44,
     "metadata": {},
     "output_type": "execute_result"
    }
   ],
   "source": [
    "iri = models.IRI.model_construct(\"ga4gh:VA.Hy2XU_-rp4IMh6I_1NXNecBo8Qx8n0oE\")\n",
    "iri.model_dump_json()"
   ],
   "metadata": {
    "collapsed": false,
    "ExecuteTime": {
     "end_time": "2024-03-01T18:02:05.391962Z",
     "start_time": "2024-03-01T18:02:05.378512Z"
    }
   },
   "id": "8e67a4b8ae29e077",
   "execution_count": 44
  },
  {
   "cell_type": "code",
   "outputs": [],
   "source": [
    "from ga4gh.core import GA4GH_IR_REGEXP"
   ],
   "metadata": {
    "collapsed": false,
    "ExecuteTime": {
     "end_time": "2024-03-01T18:02:05.403Z",
     "start_time": "2024-03-01T18:02:05.392836Z"
    }
   },
   "id": "2a09ab2316876e02",
   "execution_count": 45
  },
  {
   "cell_type": "code",
   "outputs": [
    {
     "data": {
      "text/plain": "'Hy2XU_-rp4IMh6I_1NXNecBo8Qx8n0oE'"
     },
     "execution_count": 46,
     "metadata": {},
     "output_type": "execute_result"
    }
   ],
   "source": [
    "GA4GH_IR_REGEXP.match(iri.root)['digest']"
   ],
   "metadata": {
    "collapsed": false,
    "ExecuteTime": {
     "end_time": "2024-03-01T18:02:05.403689Z",
     "start_time": "2024-03-01T18:02:05.395601Z"
    }
   },
   "id": "b010f1faf5aa4c7c",
   "execution_count": 46
  },
  {
   "cell_type": "markdown",
   "source": [
    "## Schema testing"
   ],
   "metadata": {
    "collapsed": false
   },
   "id": "f9a767f43f069776"
  },
  {
   "cell_type": "code",
   "outputs": [],
   "source": [
    "from ga4gh.vrs import models"
   ],
   "metadata": {
    "collapsed": false,
    "ExecuteTime": {
     "end_time": "2024-03-01T18:02:05.412327Z",
     "start_time": "2024-03-01T18:02:05.405234Z"
    }
   },
   "id": "b9e5d4e04237c06a",
   "execution_count": 47
  },
  {
   "cell_type": "code",
   "outputs": [
    {
     "data": {
      "text/plain": "{'description',\n 'digest',\n 'end',\n 'extensions',\n 'id',\n 'label',\n 'sequenceReference',\n 'start',\n 'type'}"
     },
     "execution_count": 48,
     "metadata": {},
     "output_type": "execute_result"
    }
   ],
   "source": [
    "set(models.SequenceLocation.__fields__)"
   ],
   "metadata": {
    "collapsed": false,
    "ExecuteTime": {
     "end_time": "2024-03-01T18:02:05.443269Z",
     "start_time": "2024-03-01T18:02:05.412992Z"
    }
   },
   "id": "6510c36a000679d7",
   "execution_count": 48
  },
  {
   "cell_type": "markdown",
   "source": [],
   "metadata": {
    "collapsed": false
   },
   "id": "a2b1e02eacde4415"
  },
  {
   "cell_type": "code",
   "outputs": [
    {
     "data": {
      "text/plain": "ga4gh.vrs._internal.models.SequenceLocation"
     },
     "execution_count": 49,
     "metadata": {},
     "output_type": "execute_result"
    }
   ],
   "source": [
    "getattr(models, 'SequenceLocation', False)"
   ],
   "metadata": {
    "collapsed": false,
    "ExecuteTime": {
     "end_time": "2024-03-01T18:02:05.444022Z",
     "start_time": "2024-03-01T18:02:05.415956Z"
    }
   },
   "id": "e173a0f8790b12e4",
   "execution_count": 49
  },
  {
   "cell_type": "code",
   "outputs": [],
   "source": [
    "from pathlib import Path\n",
    "import os\n",
    "import yaml"
   ],
   "metadata": {
    "collapsed": false,
    "ExecuteTime": {
     "end_time": "2024-03-01T18:02:05.468873Z",
     "start_time": "2024-03-01T18:02:05.445425Z"
    }
   },
   "id": "5aa91c0c9c69658d",
   "execution_count": 50
  },
  {
   "cell_type": "code",
   "outputs": [],
   "source": [
    "ROOT_DIR = Path(os.getcwd()).parent\n",
    "VRS_SCHEMA_DIR = ROOT_DIR / 'submodules' / 'vrs' / 'schema'"
   ],
   "metadata": {
    "collapsed": false,
    "ExecuteTime": {
     "end_time": "2024-03-01T18:02:05.480808Z",
     "start_time": "2024-03-01T18:02:05.470012Z"
    }
   },
   "id": "bed8be3045afc562",
   "execution_count": 51
  },
  {
   "cell_type": "code",
   "outputs": [],
   "source": [
    "\n",
    "concrete_class_names = list()\n",
    "with open(VRS_SCHEMA_DIR / 'vrs.yaml') as vrs_yaml:\n",
    "    vrs_schema = yaml.safe_load(vrs_yaml)\n"
   ],
   "metadata": {
    "collapsed": false,
    "ExecuteTime": {
     "end_time": "2024-03-01T18:02:05.517424Z",
     "start_time": "2024-03-01T18:02:05.482154Z"
    }
   },
   "id": "33d925353737ae55",
   "execution_count": 52
  },
  {
   "cell_type": "code",
   "outputs": [],
   "source": [
    "for vrs_class in vrs_schema['$defs']:\n",
    "    if 'properties' in vrs_schema['$defs'][vrs_class].keys():\n",
    "        concrete_class_names.append(vrs_class)"
   ],
   "metadata": {
    "collapsed": false,
    "ExecuteTime": {
     "end_time": "2024-03-01T18:02:05.521752Z",
     "start_time": "2024-03-01T18:02:05.517419Z"
    }
   },
   "id": "32981ef7ab235120",
   "execution_count": 53
  },
  {
   "cell_type": "code",
   "outputs": [
    {
     "data": {
      "text/plain": "ga4gh.vrs._internal.models.Allele"
     },
     "execution_count": 54,
     "metadata": {},
     "output_type": "execute_result"
    }
   ],
   "source": [
    "getattr(models, 'Allele')"
   ],
   "metadata": {
    "collapsed": false,
    "ExecuteTime": {
     "end_time": "2024-03-01T18:02:05.529288Z",
     "start_time": "2024-03-01T18:02:05.520004Z"
    }
   },
   "id": "85434dae68309a1e",
   "execution_count": 54
  },
  {
   "cell_type": "code",
   "outputs": [],
   "source": [
    "p = getattr(models, 'LengthExpression')"
   ],
   "metadata": {
    "collapsed": false,
    "ExecuteTime": {
     "end_time": "2024-03-01T18:02:05.529955Z",
     "start_time": "2024-03-01T18:02:05.524049Z"
    }
   },
   "id": "a22bce22cb23ec2",
   "execution_count": 55
  },
  {
   "cell_type": "markdown",
   "source": [
    "## Enref and deref"
   ],
   "metadata": {
    "collapsed": false
   },
   "id": "b5774a0e183d5e45"
  },
  {
   "cell_type": "code",
   "outputs": [],
   "source": [
    "from ga4gh.vrs import vrs_enref, vrs_deref"
   ],
   "metadata": {
    "collapsed": false,
    "ExecuteTime": {
     "end_time": "2024-03-01T18:02:05.531058Z",
     "start_time": "2024-03-01T18:02:05.526351Z"
    }
   },
   "id": "897f943eee0cf054",
   "execution_count": 56
  },
  {
   "cell_type": "code",
   "outputs": [
    {
     "data": {
      "text/plain": "{'id': 'ga4gh:VA.Hy2XU_-rp4IMh6I_1NXNecBo8Qx8n0oE',\n 'type': 'Allele',\n 'digest': 'Hy2XU_-rp4IMh6I_1NXNecBo8Qx8n0oE',\n 'location': {'type': 'SequenceLocation',\n  'digest': '_G2K0qSioM74l_u3OaKR0mgLYdeTL7Xd',\n  'sequenceReference': {'type': 'SequenceReference',\n   'refgetAccession': 'SQ.F-LrLMe1SRpfUZHkQmvkVKFEGaoDeHul'},\n  'start': 55181319,\n  'end': 55181320},\n 'state': {'type': 'LiteralSequenceExpression', 'sequence': 'T'}}"
     },
     "execution_count": 57,
     "metadata": {},
     "output_type": "execute_result"
    }
   ],
   "source": [
    "obj_store = dict()\n",
    "a.get_or_create_ga4gh_identifier()\n",
    "a.model_dump(exclude_none=True)"
   ],
   "metadata": {
    "collapsed": false,
    "ExecuteTime": {
     "end_time": "2024-03-01T18:02:05.560771Z",
     "start_time": "2024-03-01T18:02:05.529403Z"
    }
   },
   "id": "7ed88eee2fd528a2",
   "execution_count": 57
  },
  {
   "cell_type": "code",
   "outputs": [],
   "source": [
    "a_enref = vrs_enref(a, obj_store)\n",
    "sl_enref = vrs_enref(a.location, obj_store)"
   ],
   "metadata": {
    "collapsed": false,
    "ExecuteTime": {
     "end_time": "2024-03-01T18:02:05.562943Z",
     "start_time": "2024-03-01T18:02:05.532228Z"
    }
   },
   "id": "c7c2b9ef81aaee80",
   "execution_count": 58
  },
  {
   "cell_type": "code",
   "outputs": [
    {
     "name": "stderr",
     "output_type": "stream",
     "text": [
      "/Users/ahw001/git/vrs-python/venv/lib/python3.10/site-packages/pydantic/main.py:314: UserWarning: Pydantic serializer warnings:\n",
      "  Expected `Union[definition-ref, plain_function[ga4gh_serialize]]` but got `str` - serialized value may not be as expected\n",
      "  return self.__pydantic_serializer__.to_python(\n"
     ]
    },
    {
     "data": {
      "text/plain": "{'id': 'ga4gh:VA.Hy2XU_-rp4IMh6I_1NXNecBo8Qx8n0oE',\n 'type': 'Allele',\n 'digest': 'Hy2XU_-rp4IMh6I_1NXNecBo8Qx8n0oE',\n 'location': 'ga4gh:SL._G2K0qSioM74l_u3OaKR0mgLYdeTL7Xd',\n 'state': {'type': 'LiteralSequenceExpression', 'sequence': 'T'}}"
     },
     "execution_count": 59,
     "metadata": {},
     "output_type": "execute_result"
    }
   ],
   "source": [
    "a_enref.model_dump(exclude_none=True)"
   ],
   "metadata": {
    "collapsed": false,
    "ExecuteTime": {
     "end_time": "2024-03-01T18:02:05.641916Z",
     "start_time": "2024-03-01T18:02:05.534875Z"
    }
   },
   "id": "2523640eaa70e64",
   "execution_count": 59
  },
  {
   "cell_type": "code",
   "outputs": [
    {
     "data": {
      "text/plain": "{'ga4gh:SL._G2K0qSioM74l_u3OaKR0mgLYdeTL7Xd': SequenceLocation(id='ga4gh:SL._G2K0qSioM74l_u3OaKR0mgLYdeTL7Xd', label=None, description=None, extensions=None, type='SequenceLocation', digest='_G2K0qSioM74l_u3OaKR0mgLYdeTL7Xd', sequenceReference=SequenceReference(id=None, label=None, description=None, extensions=None, type='SequenceReference', refgetAccession='SQ.F-LrLMe1SRpfUZHkQmvkVKFEGaoDeHul', residueAlphabet=None), start=55181319, end=55181320),\n 'ga4gh:VA.Hy2XU_-rp4IMh6I_1NXNecBo8Qx8n0oE': Allele(id='ga4gh:VA.Hy2XU_-rp4IMh6I_1NXNecBo8Qx8n0oE', label=None, description=None, extensions=None, type='Allele', digest='Hy2XU_-rp4IMh6I_1NXNecBo8Qx8n0oE', expressions=None, location='ga4gh:SL._G2K0qSioM74l_u3OaKR0mgLYdeTL7Xd', state=LiteralSequenceExpression(id=None, label=None, description=None, extensions=None, type='LiteralSequenceExpression', sequence=SequenceString(root='T')))}"
     },
     "execution_count": 60,
     "metadata": {},
     "output_type": "execute_result"
    }
   ],
   "source": [
    "obj_store"
   ],
   "metadata": {
    "collapsed": false,
    "ExecuteTime": {
     "end_time": "2024-03-01T18:02:05.642648Z",
     "start_time": "2024-03-01T18:02:05.537924Z"
    }
   },
   "id": "6de5225031da833d",
   "execution_count": 60
  },
  {
   "cell_type": "code",
   "outputs": [
    {
     "name": "stderr",
     "output_type": "stream",
     "text": [
      "SequenceLocation not in cra_map {'Allele': ['location'], 'Haplotype': ['members'], '_CopyNumber': ['location'], 'CopyNumberCount': ['location'], 'CopyNumberChange': ['location']}\n"
     ]
    }
   ],
   "source": [
    "a_deref = vrs_deref(a_enref, obj_store)"
   ],
   "metadata": {
    "collapsed": false,
    "ExecuteTime": {
     "end_time": "2024-03-01T18:02:05.643202Z",
     "start_time": "2024-03-01T18:02:05.542471Z"
    }
   },
   "id": "33007f8ca388eb43",
   "execution_count": 61
  },
  {
   "cell_type": "code",
   "outputs": [
    {
     "data": {
      "text/plain": "{'id': 'ga4gh:SL._G2K0qSioM74l_u3OaKR0mgLYdeTL7Xd',\n 'type': 'SequenceLocation',\n 'digest': '_G2K0qSioM74l_u3OaKR0mgLYdeTL7Xd',\n 'sequenceReference': {'type': 'SequenceReference',\n  'refgetAccession': 'SQ.F-LrLMe1SRpfUZHkQmvkVKFEGaoDeHul'},\n 'start': 55181319,\n 'end': 55181320}"
     },
     "execution_count": 62,
     "metadata": {},
     "output_type": "execute_result"
    }
   ],
   "source": [
    "a_deref.location.model_dump(exclude_none=True)"
   ],
   "metadata": {
    "collapsed": false,
    "ExecuteTime": {
     "end_time": "2024-03-01T18:02:05.648016Z",
     "start_time": "2024-03-01T18:02:05.546077Z"
    }
   },
   "id": "2af4482462c39408",
   "execution_count": 62
  },
  {
   "cell_type": "markdown",
   "source": [
    "## Dups"
   ],
   "metadata": {
    "collapsed": false
   },
   "id": "187d2599d24e532a"
  },
  {
   "cell_type": "code",
   "outputs": [],
   "source": [
    "from ga4gh.vrs.dataproxy import SeqRepoDataProxy\n",
    "from biocommons.seqrepo import SeqRepo\n",
    "from ga4gh.vrs.extras.translator import Translator\n",
    "from ga4gh.vrs import models\n",
    "\n",
    "data_proxy = SeqRepoDataProxy(SeqRepo(\"/usr/local/share/seqrepo/2021-01-29\"))\n",
    "translator = Translator(data_proxy=data_proxy)"
   ],
   "metadata": {
    "collapsed": false,
    "ExecuteTime": {
     "end_time": "2024-03-01T18:02:05.648779Z",
     "start_time": "2024-03-01T18:02:05.549377Z"
    }
   },
   "id": "3b0262df913b741",
   "execution_count": 63
  },
  {
   "cell_type": "code",
   "outputs": [],
   "source": [
    "from ga4gh.vrs import normalize\n",
    "a = {\n",
    "    'location': {\n",
    "        'end': 289464,\n",
    "        'start': 289464,\n",
    "        'sequenceReference': {\n",
    "            'type': 'SequenceReference',\n",
    "            'refgetAccession': 'SQ.IIB53T8CNeJJdUqzn9V_JnRtQadwWCbl'\n",
    "        },\n",
    "        'type': 'SequenceLocation'\n",
    "    },\n",
    "    'state': {\n",
    "        'sequence': 'CAGCAG',\n",
    "        'type': 'LiteralSequenceExpression'\n",
    "    },\n",
    "    'type': 'Allele'\n",
    "}\n",
    "small_dup = models.Allele(**a)"
   ],
   "metadata": {
    "collapsed": false,
    "ExecuteTime": {
     "end_time": "2024-03-01T18:02:05.684614Z",
     "start_time": "2024-03-01T18:02:05.554025Z"
    }
   },
   "id": "864cc1f21bfc357e",
   "execution_count": 64
  },
  {
   "cell_type": "code",
   "outputs": [
    {
     "data": {
      "text/plain": "{'type': 'Allele',\n 'location': {'type': 'SequenceLocation',\n  'sequenceReference': {'type': 'SequenceReference',\n   'refgetAccession': 'SQ.IIB53T8CNeJJdUqzn9V_JnRtQadwWCbl'},\n  'start': 289464,\n  'end': 289469},\n 'state': {'type': 'ReferenceLengthExpression',\n  'length': 11,\n  'sequence': 'CAGCAGCAGCA',\n  'repeatSubunitLength': 3}}"
     },
     "execution_count": 65,
     "metadata": {},
     "output_type": "execute_result"
    }
   ],
   "source": [
    "# Expecting an RLE with RSL=3\n",
    "a2 = normalize(small_dup, data_proxy=data_proxy)\n",
    "a2.model_dump(exclude_none=True)"
   ],
   "metadata": {
    "collapsed": false,
    "ExecuteTime": {
     "end_time": "2024-03-01T18:02:05.688700Z",
     "start_time": "2024-03-01T18:02:05.556274Z"
    }
   },
   "id": "edf2040e69305b63",
   "execution_count": 65
  },
  {
   "cell_type": "code",
   "outputs": [],
   "source": [
    "b = {\n",
    "    'location': {\n",
    "        'end': 289464,\n",
    "        'start': 289464,\n",
    "        'sequenceReference': {\n",
    "            'type': 'SequenceReference',\n",
    "            'refgetAccession': 'SQ.IIB53T8CNeJJdUqzn9V_JnRtQadwWCbl'\n",
    "        },\n",
    "        'type': 'SequenceLocation'\n",
    "    },\n",
    "    'state': {\n",
    "        'sequence': 'CACA',\n",
    "        'type': 'LiteralSequenceExpression'\n",
    "    },\n",
    "    'type': 'Allele'\n",
    "}\n",
    "small_dup2 = models.Allele(**b)"
   ],
   "metadata": {
    "collapsed": false,
    "ExecuteTime": {
     "end_time": "2024-03-01T18:02:05.689224Z",
     "start_time": "2024-03-01T18:02:05.632514Z"
    }
   },
   "id": "1de4d8b75d466e4a",
   "execution_count": 66
  },
  {
   "cell_type": "code",
   "outputs": [
    {
     "data": {
      "text/plain": "Allele(id=None, label=None, description=None, extensions=None, type='Allele', digest=None, expressions=None, location=SequenceLocation(id=None, label=None, description=None, extensions=None, type='SequenceLocation', digest=None, sequenceReference=SequenceReference(id=None, label=None, description=None, extensions=None, type='SequenceReference', refgetAccession='SQ.IIB53T8CNeJJdUqzn9V_JnRtQadwWCbl', residueAlphabet=None), start=289464, end=289466), state=ReferenceLengthExpression(id=None, label=None, description=None, extensions=None, type='ReferenceLengthExpression', length=6, sequence=SequenceString(root='CACACA'), repeatSubunitLength=2))"
     },
     "execution_count": 67,
     "metadata": {},
     "output_type": "execute_result"
    }
   ],
   "source": [
    "# Expecting an RLE with RSL=2\n",
    "normalize(small_dup2, data_proxy=data_proxy)"
   ],
   "metadata": {
    "collapsed": false,
    "ExecuteTime": {
     "end_time": "2024-03-01T18:02:05.747588Z",
     "start_time": "2024-03-01T18:02:05.691884Z"
    }
   },
   "id": "82dc8a42d5e3385f",
   "execution_count": 67
  },
  {
   "cell_type": "code",
   "outputs": [],
   "source": [
    "c = {'digest': 'swY2caCgv1kP6YqKyPlcEzJqTvou15vC',\n",
    " 'id': 'ga4gh:VA.swY2caCgv1kP6YqKyPlcEzJqTvou15vC',\n",
    " 'location': {'digest': 'ikECYncPpE1xh6f_LiComrFGevocjDHQ',\n",
    "              'end': 32331094,\n",
    "              'id': 'ga4gh:SL.ikECYncPpE1xh6f_LiComrFGevocjDHQ',\n",
    "              'sequenceReference': {'refgetAccession': 'SQ._0wi-qoDrvram155UmcSC-zA5ZK4fpLT',\n",
    "                                    'type': 'SequenceReference'},\n",
    "              'start': 32331082,\n",
    "              'type': 'SequenceLocation'},\n",
    " 'state': {'length': 14,\n",
    "           'repeatSubunitLength': 2,\n",
    "           'sequence': 'TTTTTTTTTTTTTT',\n",
    "           'type': 'ReferenceLengthExpression'},\n",
    " 'type': 'Allele'}\n",
    "multi_repeat_rle = models.Allele(**c)"
   ],
   "metadata": {
    "collapsed": false,
    "ExecuteTime": {
     "end_time": "2024-03-01T18:02:05.758979Z",
     "start_time": "2024-03-01T18:02:05.715785Z"
    }
   },
   "id": "95b31f331ad36ffa",
   "execution_count": 68
  },
  {
   "cell_type": "code",
   "outputs": [],
   "source": [
    "d = {\n",
    "    'location': {\n",
    "        'end': 32331094,\n",
    "        'start': 32331082,\n",
    "        'sequenceReference': {\n",
    "            'type': 'SequenceReference',\n",
    "            'refgetAccession': 'SQ._0wi-qoDrvram155UmcSC-zA5ZK4fpLT'\n",
    "        },\n",
    "        'type': 'SequenceLocation'\n",
    "    },\n",
    "    'state': {\n",
    "        'sequence': 'TTTTTTTTTTTTTT',\n",
    "        'type': 'LiteralSequenceExpression'\n",
    "    },\n",
    "    'type': 'Allele'\n",
    "}\n",
    "multi_repeat_lse = models.Allele(**d)"
   ],
   "metadata": {
    "collapsed": false,
    "ExecuteTime": {
     "end_time": "2024-03-01T18:02:05.772979Z",
     "start_time": "2024-03-01T18:02:05.761224Z"
    }
   },
   "id": "ab66e7da87ab1f4f",
   "execution_count": 69
  },
  {
   "cell_type": "code",
   "outputs": [
    {
     "data": {
      "text/plain": "Allele(id=None, label=None, description=None, extensions=None, type='Allele', digest=None, expressions=None, location=SequenceLocation(id=None, label=None, description=None, extensions=None, type='SequenceLocation', digest=None, sequenceReference=SequenceReference(id=None, label=None, description=None, extensions=None, type='SequenceReference', refgetAccession='SQ._0wi-qoDrvram155UmcSC-zA5ZK4fpLT', residueAlphabet=None), start=32331082, end=32331094), state=ReferenceLengthExpression(id=None, label=None, description=None, extensions=None, type='ReferenceLengthExpression', length=14, sequence=SequenceString(root='TTTTTTTTTTTTTT'), repeatSubunitLength=2))"
     },
     "execution_count": 70,
     "metadata": {},
     "output_type": "execute_result"
    }
   ],
   "source": [
    "normalize(multi_repeat_lse, data_proxy=data_proxy)"
   ],
   "metadata": {
    "collapsed": false,
    "ExecuteTime": {
     "end_time": "2024-03-01T18:02:05.792204Z",
     "start_time": "2024-03-01T18:02:05.774325Z"
    }
   },
   "id": "5cf99af76d2ef3ff",
   "execution_count": 70
  },
  {
   "cell_type": "code",
   "outputs": [
    {
     "data": {
      "text/plain": "{'id': 'ga4gh:VA.SZIS2ua7AL-0YgUTAqyBsFPYK3vE8h_d',\n 'type': 'Allele',\n 'digest': 'SZIS2ua7AL-0YgUTAqyBsFPYK3vE8h_d',\n 'location': {'type': 'SequenceLocation',\n  'sequenceReference': {'type': 'SequenceReference',\n   'refgetAccession': 'SQ.KEO-4XBcm1cxeo_DIQ8_ofqGUkp4iZhI'},\n  'start': 128325834,\n  'end': 128325835},\n 'state': {'type': 'LiteralSequenceExpression', 'sequence': 'T'}}"
     },
     "execution_count": 76,
     "metadata": {},
     "output_type": "execute_result"
    }
   ],
   "source": [
    "a = {\n",
    "    \"type\": \"Allele\",\n",
    "    \"digest\": \"SZIS2ua7AL-0YgUTAqyBsFPYK3vE8h_d\",\n",
    "    \"id\": \"ga4gh:VA.SZIS2ua7AL-0YgUTAqyBsFPYK3vE8h_d\",\n",
    "    \"location\": {\n",
    "        \"type\": \"SequenceLocation\",\n",
    "        \"sequenceReference\": {\n",
    "            \"type\": \"SequenceReference\",\n",
    "            \"refgetAccession\": \"SQ.KEO-4XBcm1cxeo_DIQ8_ofqGUkp4iZhI\"\n",
    "        },\n",
    "        \"start\": 128325834,\n",
    "        \"end\": 128325835\n",
    "    },\n",
    "    \"state\": {\n",
    "        \"type\": \"LiteralSequenceExpression\",\n",
    "        \"sequence\": \"T\"\n",
    "    }\n",
    "}\n",
    "a_norm = normalize(models.Allele(**a), data_proxy=data_proxy)\n",
    "a_norm.model_dump(exclude_none=True)"
   ],
   "metadata": {
    "collapsed": false,
    "ExecuteTime": {
     "end_time": "2024-03-01T19:01:33.923118Z",
     "start_time": "2024-03-01T19:01:33.919747Z"
    }
   },
   "id": "8b804bd93ce7ca16",
   "execution_count": 76
  },
  {
   "cell_type": "code",
   "outputs": [
    {
     "data": {
      "text/plain": "'ga4gh:VA.SZIS2ua7AL-0YgUTAqyBsFPYK3vE8h_d'"
     },
     "execution_count": 74,
     "metadata": {},
     "output_type": "execute_result"
    }
   ],
   "source": [
    "a_norm.compute_ga4gh_identifier(recompute=True)"
   ],
   "metadata": {
    "collapsed": false,
    "ExecuteTime": {
     "end_time": "2024-03-01T18:06:37.594029Z",
     "start_time": "2024-03-01T18:06:37.590145Z"
    }
   },
   "id": "33529c8535a276fa",
   "execution_count": 74
  },
  {
   "cell_type": "code",
   "outputs": [
    {
     "data": {
      "text/plain": "'ga4gh:SL.TaoXEhpHvA6SdilBUO-AX00YDARv9Uoe'"
     },
     "execution_count": 75,
     "metadata": {},
     "output_type": "execute_result"
    }
   ],
   "source": [
    "a_norm.location.compute_ga4gh_identifier(recompute=True)"
   ],
   "metadata": {
    "collapsed": false,
    "ExecuteTime": {
     "end_time": "2024-03-01T18:13:37.731197Z",
     "start_time": "2024-03-01T18:13:37.727252Z"
    }
   },
   "id": "b832ec24faa02582",
   "execution_count": 75
  },
  {
   "cell_type": "code",
   "outputs": [],
   "source": [],
   "metadata": {
    "collapsed": false
   },
   "id": "1c8b4129da47a0cb"
  }
 ],
 "metadata": {
  "kernelspec": {
   "display_name": "Python 3",
   "language": "python",
   "name": "python3"
  },
  "language_info": {
   "codemirror_mode": {
    "name": "ipython",
    "version": 2
   },
   "file_extension": ".py",
   "mimetype": "text/x-python",
   "name": "python",
   "nbconvert_exporter": "python",
   "pygments_lexer": "ipython2",
   "version": "2.7.6"
  }
 },
 "nbformat": 4,
 "nbformat_minor": 5
}
