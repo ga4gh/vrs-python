{
 "cells": [
  {
   "cell_type": "code",
   "execution_count": 1,
   "id": "initial_id",
   "metadata": {
    "collapsed": true,
    "ExecuteTime": {
     "end_time": "2024-02-10T15:38:14.078655Z",
     "start_time": "2024-02-10T15:38:13.857632Z"
    }
   },
   "outputs": [],
   "source": [
    "import ga4gh.core\n",
    "from ga4gh.vrs import models\n",
    "from ga4gh.core import sha512t24u"
   ]
  },
  {
   "cell_type": "code",
   "outputs": [],
   "source": [
    "allele_dict = {\n",
    "    'location': {\n",
    "        'end': 55181320,\n",
    "        'start': 55181319,\n",
    "        'sequenceReference': {\n",
    "            'type': 'SequenceReference',\n",
    "            'refgetAccession': 'SQ.F-LrLMe1SRpfUZHkQmvkVKFEGaoDeHul'\n",
    "        },\n",
    "        'type': 'SequenceLocation'\n",
    "    },\n",
    "    'state': {\n",
    "        'sequence': 'T',\n",
    "        'type': 'LiteralSequenceExpression'\n",
    "    },\n",
    "    'type': 'Allele'\n",
    "}\n",
    "\n",
    "a = models.Allele(**allele_dict)"
   ],
   "metadata": {
    "collapsed": false,
    "ExecuteTime": {
     "end_time": "2024-02-10T15:38:14.082117Z",
     "start_time": "2024-02-10T15:38:14.080117Z"
    }
   },
   "id": "68f5f7e40bf74d70",
   "execution_count": 2
  },
  {
   "cell_type": "code",
   "outputs": [
    {
     "data": {
      "text/plain": "'{\"location\":\"_G2K0qSioM74l_u3OaKR0mgLYdeTL7Xd\",\"state\":{\"sequence\":\"T\",\"type\":\"LiteralSequenceExpression\"},\"type\":\"Allele\"}'"
     },
     "execution_count": 3,
     "metadata": {},
     "output_type": "execute_result"
    }
   ],
   "source": [
    "a.model_dump_json()"
   ],
   "metadata": {
    "collapsed": false,
    "ExecuteTime": {
     "end_time": "2024-02-10T15:38:14.087793Z",
     "start_time": "2024-02-10T15:38:14.083968Z"
    }
   },
   "id": "c11e134c85f2dec9",
   "execution_count": 3
  },
  {
   "cell_type": "code",
   "outputs": [
    {
     "data": {
      "text/plain": "'{\"end\":55181320,\"sequenceReference\":{\"refgetAccession\":\"SQ.F-LrLMe1SRpfUZHkQmvkVKFEGaoDeHul\",\"type\":\"SequenceReference\"},\"start\":55181319,\"type\":\"SequenceLocation\"}'"
     },
     "execution_count": 4,
     "metadata": {},
     "output_type": "execute_result"
    }
   ],
   "source": [
    "a.location.model_dump_json()"
   ],
   "metadata": {
    "collapsed": false,
    "ExecuteTime": {
     "end_time": "2024-02-10T15:38:14.091376Z",
     "start_time": "2024-02-10T15:38:14.086540Z"
    }
   },
   "id": "4bfa27852c9b7a76",
   "execution_count": 4
  },
  {
   "cell_type": "code",
   "outputs": [
    {
     "data": {
      "text/plain": "'INEbVdrxv2YgfkREl0A1suBM6AL-3Fo3'"
     },
     "execution_count": 5,
     "metadata": {},
     "output_type": "execute_result"
    }
   ],
   "source": [
    "s = '{\"members\":[\"CvJUnTllC5zQ-M1Hbj9oj6BQitKw67J9\",\"QZGrlXd07EPr1mUVyhfaEN8mJVmN1PGF\"],\"type\":\"Haplotype\"}'\n",
    "sha512t24u(s.encode('utf-8'))"
   ],
   "metadata": {
    "collapsed": false,
    "ExecuteTime": {
     "end_time": "2024-02-10T15:38:14.094883Z",
     "start_time": "2024-02-10T15:38:14.090731Z"
    }
   },
   "id": "5f08dedc3934e14b",
   "execution_count": 5
  },
  {
   "cell_type": "code",
   "outputs": [
    {
     "data": {
      "text/plain": "'\"Hy2XU_-rp4IMh6I_1NXNecBo8Qx8n0oE\"'"
     },
     "execution_count": 6,
     "metadata": {},
     "output_type": "execute_result"
    }
   ],
   "source": [
    "iri = models.IRI.model_construct(\"ga4gh:VA.Hy2XU_-rp4IMh6I_1NXNecBo8Qx8n0oE\")\n",
    "iri.model_dump_json()"
   ],
   "metadata": {
    "collapsed": false,
    "ExecuteTime": {
     "end_time": "2024-02-10T15:38:14.096044Z",
     "start_time": "2024-02-10T15:38:14.094071Z"
    }
   },
   "id": "8e67a4b8ae29e077",
   "execution_count": 6
  },
  {
   "cell_type": "code",
   "outputs": [],
   "source": [
    "from ga4gh.core import GA4GH_IR_REGEXP"
   ],
   "metadata": {
    "collapsed": false,
    "ExecuteTime": {
     "end_time": "2024-02-10T15:38:14.099116Z",
     "start_time": "2024-02-10T15:38:14.096777Z"
    }
   },
   "id": "2a09ab2316876e02",
   "execution_count": 7
  },
  {
   "cell_type": "code",
   "outputs": [
    {
     "data": {
      "text/plain": "'Hy2XU_-rp4IMh6I_1NXNecBo8Qx8n0oE'"
     },
     "execution_count": 8,
     "metadata": {},
     "output_type": "execute_result"
    }
   ],
   "source": [
    "GA4GH_IR_REGEXP.match(iri.root)['digest']"
   ],
   "metadata": {
    "collapsed": false,
    "ExecuteTime": {
     "end_time": "2024-02-10T15:38:14.102084Z",
     "start_time": "2024-02-10T15:38:14.099058Z"
    }
   },
   "id": "b010f1faf5aa4c7c",
   "execution_count": 8
  },
  {
   "cell_type": "markdown",
   "source": [
    "## Schema testing"
   ],
   "metadata": {
    "collapsed": false
   },
   "id": "f9a767f43f069776"
  },
  {
   "cell_type": "code",
   "outputs": [],
   "source": [
    "from ga4gh.vrs import models"
   ],
   "metadata": {
    "collapsed": false,
    "ExecuteTime": {
     "end_time": "2024-02-10T15:38:14.133735Z",
     "start_time": "2024-02-10T15:38:14.102404Z"
    }
   },
   "id": "b9e5d4e04237c06a",
   "execution_count": 9
  },
  {
   "cell_type": "code",
   "outputs": [
    {
     "data": {
      "text/plain": "{'description',\n 'digest',\n 'end',\n 'extensions',\n 'id',\n 'label',\n 'sequenceReference',\n 'start',\n 'type'}"
     },
     "execution_count": 10,
     "metadata": {},
     "output_type": "execute_result"
    }
   ],
   "source": [
    "set(models.SequenceLocation.__fields__)"
   ],
   "metadata": {
    "collapsed": false,
    "ExecuteTime": {
     "end_time": "2024-02-10T15:38:14.134333Z",
     "start_time": "2024-02-10T15:38:14.106609Z"
    }
   },
   "id": "6510c36a000679d7",
   "execution_count": 10
  },
  {
   "cell_type": "markdown",
   "source": [],
   "metadata": {
    "collapsed": false
   },
   "id": "a2b1e02eacde4415"
  },
  {
   "cell_type": "code",
   "outputs": [
    {
     "data": {
      "text/plain": "ga4gh.vrs._internal.models.SequenceLocation"
     },
     "execution_count": 11,
     "metadata": {},
     "output_type": "execute_result"
    }
   ],
   "source": [
    "getattr(models, 'SequenceLocation', False)"
   ],
   "metadata": {
    "collapsed": false,
    "ExecuteTime": {
     "end_time": "2024-02-10T15:38:14.134880Z",
     "start_time": "2024-02-10T15:38:14.108443Z"
    }
   },
   "id": "e173a0f8790b12e4",
   "execution_count": 11
  },
  {
   "cell_type": "code",
   "outputs": [],
   "source": [
    "from pathlib import Path\n",
    "import os\n",
    "import yaml"
   ],
   "metadata": {
    "collapsed": false,
    "ExecuteTime": {
     "end_time": "2024-02-10T15:38:14.135378Z",
     "start_time": "2024-02-10T15:38:14.111664Z"
    }
   },
   "id": "5aa91c0c9c69658d",
   "execution_count": 12
  },
  {
   "cell_type": "code",
   "outputs": [],
   "source": [
    "ROOT_DIR = Path(os.getcwd()).parent\n",
    "VRS_SCHEMA_DIR = ROOT_DIR / 'submodules' / 'vrs' / 'schema'"
   ],
   "metadata": {
    "collapsed": false,
    "ExecuteTime": {
     "end_time": "2024-02-10T15:38:14.155710Z",
     "start_time": "2024-02-10T15:38:14.126605Z"
    }
   },
   "id": "bed8be3045afc562",
   "execution_count": 13
  },
  {
   "cell_type": "code",
   "outputs": [],
   "source": [
    "\n",
    "concrete_class_names = list()\n",
    "with open(VRS_SCHEMA_DIR / 'vrs.yaml') as vrs_yaml:\n",
    "    vrs_schema = yaml.safe_load(vrs_yaml)\n"
   ],
   "metadata": {
    "collapsed": false,
    "ExecuteTime": {
     "end_time": "2024-02-10T15:38:14.169077Z",
     "start_time": "2024-02-10T15:38:14.129514Z"
    }
   },
   "id": "33d925353737ae55",
   "execution_count": 14
  },
  {
   "cell_type": "code",
   "outputs": [],
   "source": [
    "for vrs_class in vrs_schema['$defs']:\n",
    "    if 'properties' in vrs_schema['$defs'][vrs_class].keys():\n",
    "        concrete_class_names.append(vrs_class)"
   ],
   "metadata": {
    "collapsed": false,
    "ExecuteTime": {
     "end_time": "2024-02-10T15:38:14.169489Z",
     "start_time": "2024-02-10T15:38:14.166113Z"
    }
   },
   "id": "32981ef7ab235120",
   "execution_count": 15
  },
  {
   "cell_type": "code",
   "outputs": [
    {
     "data": {
      "text/plain": "ga4gh.vrs._internal.models.Allele"
     },
     "execution_count": 16,
     "metadata": {},
     "output_type": "execute_result"
    }
   ],
   "source": [
    "getattr(models, 'Allele')"
   ],
   "metadata": {
    "collapsed": false,
    "ExecuteTime": {
     "end_time": "2024-02-10T15:38:14.170943Z",
     "start_time": "2024-02-10T15:38:14.168939Z"
    }
   },
   "id": "85434dae68309a1e",
   "execution_count": 16
  },
  {
   "cell_type": "code",
   "outputs": [],
   "source": [
    "p = getattr(models, 'LengthExpression')"
   ],
   "metadata": {
    "collapsed": false,
    "ExecuteTime": {
     "end_time": "2024-02-10T15:38:14.175393Z",
     "start_time": "2024-02-10T15:38:14.171070Z"
    }
   },
   "id": "a22bce22cb23ec2",
   "execution_count": 17
  },
  {
   "cell_type": "markdown",
   "source": [
    "## Enref and deref"
   ],
   "metadata": {
    "collapsed": false
   },
   "id": "b5774a0e183d5e45"
  },
  {
   "cell_type": "code",
   "outputs": [],
   "source": [
    "from ga4gh.vrs import vrs_enref, vrs_deref"
   ],
   "metadata": {
    "collapsed": false,
    "ExecuteTime": {
     "end_time": "2024-02-10T15:38:14.190052Z",
     "start_time": "2024-02-10T15:38:14.175313Z"
    }
   },
   "id": "897f943eee0cf054",
   "execution_count": 18
  },
  {
   "cell_type": "code",
   "outputs": [
    {
     "data": {
      "text/plain": "{'id': 'ga4gh:VA.Hy2XU_-rp4IMh6I_1NXNecBo8Qx8n0oE',\n 'type': 'Allele',\n 'digest': 'Hy2XU_-rp4IMh6I_1NXNecBo8Qx8n0oE',\n 'location': {'type': 'SequenceLocation',\n  'digest': '_G2K0qSioM74l_u3OaKR0mgLYdeTL7Xd',\n  'sequenceReference': {'type': 'SequenceReference',\n   'refgetAccession': 'SQ.F-LrLMe1SRpfUZHkQmvkVKFEGaoDeHul'},\n  'start': 55181319,\n  'end': 55181320},\n 'state': {'type': 'LiteralSequenceExpression', 'sequence': 'T'}}"
     },
     "execution_count": 19,
     "metadata": {},
     "output_type": "execute_result"
    }
   ],
   "source": [
    "obj_store = dict()\n",
    "a.get_or_create_ga4gh_identifier()\n",
    "a.model_dump(exclude_none=True)"
   ],
   "metadata": {
    "collapsed": false,
    "ExecuteTime": {
     "end_time": "2024-02-10T15:38:14.190897Z",
     "start_time": "2024-02-10T15:38:14.177572Z"
    }
   },
   "id": "7ed88eee2fd528a2",
   "execution_count": 19
  },
  {
   "cell_type": "code",
   "outputs": [],
   "source": [
    "a_enref = vrs_enref(a, obj_store)\n",
    "sl_enref = vrs_enref(a.location, obj_store)"
   ],
   "metadata": {
    "collapsed": false,
    "ExecuteTime": {
     "end_time": "2024-02-10T15:42:02.625043Z",
     "start_time": "2024-02-10T15:42:02.619571Z"
    }
   },
   "id": "c7c2b9ef81aaee80",
   "execution_count": 24
  },
  {
   "cell_type": "code",
   "outputs": [
    {
     "data": {
      "text/plain": "{'id': 'ga4gh:VA.Hy2XU_-rp4IMh6I_1NXNecBo8Qx8n0oE',\n 'type': 'Allele',\n 'digest': 'Hy2XU_-rp4IMh6I_1NXNecBo8Qx8n0oE',\n 'location': 'ga4gh:SL._G2K0qSioM74l_u3OaKR0mgLYdeTL7Xd',\n 'state': {'type': 'LiteralSequenceExpression', 'sequence': 'T'}}"
     },
     "execution_count": 25,
     "metadata": {},
     "output_type": "execute_result"
    }
   ],
   "source": [
    "a_enref.model_dump(exclude_none=True)"
   ],
   "metadata": {
    "collapsed": false,
    "ExecuteTime": {
     "end_time": "2024-02-10T15:42:07.073679Z",
     "start_time": "2024-02-10T15:42:07.069400Z"
    }
   },
   "id": "2523640eaa70e64",
   "execution_count": 25
  },
  {
   "cell_type": "code",
   "outputs": [
    {
     "name": "stderr",
     "output_type": "stream",
     "text": [
      "SequenceLocation not in cra_map {'Allele': ['location'], 'Haplotype': ['members'], '_CopyNumber': ['location'], 'CopyNumberCount': ['location'], 'CopyNumberChange': ['location']}\n"
     ]
    }
   ],
   "source": [
    "a_deref = vrs_deref(a_enref, obj_store)"
   ],
   "metadata": {
    "collapsed": false,
    "ExecuteTime": {
     "end_time": "2024-02-10T15:42:08.761026Z",
     "start_time": "2024-02-10T15:42:08.755629Z"
    }
   },
   "id": "33007f8ca388eb43",
   "execution_count": 26
  },
  {
   "cell_type": "code",
   "outputs": [],
   "source": [],
   "metadata": {
    "collapsed": false
   },
   "id": "864cc1f21bfc357e"
  }
 ],
 "metadata": {
  "kernelspec": {
   "display_name": "Python 3",
   "language": "python",
   "name": "python3"
  },
  "language_info": {
   "codemirror_mode": {
    "name": "ipython",
    "version": 2
   },
   "file_extension": ".py",
   "mimetype": "text/x-python",
   "name": "python",
   "nbconvert_exporter": "python",
   "pygments_lexer": "ipython2",
   "version": "2.7.6"
  }
 },
 "nbformat": 4,
 "nbformat_minor": 5
}
