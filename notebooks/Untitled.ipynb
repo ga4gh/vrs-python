{
 "cells": [
  {
   "cell_type": "code",
   "execution_count": 1,
   "id": "7f0bef2e",
   "metadata": {},
   "outputs": [
    {
     "name": "stderr",
     "output_type": "stream",
     "text": [
      "Removing allOf attribute from CopyNumber to avoid python-jsonschema-objects error.\n",
      "Removing allOf attribute from SequenceInterval to avoid python-jsonschema-objects error.\n",
      "Removing allOf attribute from RepeatedSequenceExpression to avoid python-jsonschema-objects error.\n",
      "/Users/kxk102/Documents/genomic_med_lab/vrs-python/venv/3.9/lib/python3.9/site-packages/python_jsonschema_objects/__init__.py:50: UserWarning: Schema version http://json-schema.org/draft-07/schema not recognized. Some keywords and features may not be supported.\n",
      "  warnings.warn(\n"
     ]
    }
   ],
   "source": [
    "from ga4gh.vrs import normalize, models\n",
    "from ga4gh.vrs.dataproxy import SeqRepoDataProxy\n",
    "from biocommons.seqrepo import SeqRepo\n",
    "# from ga4gh.vrs._internal.models import _load_vrs_models\n",
    "# models = _load_vrs_models()"
   ]
  },
  {
   "cell_type": "code",
   "execution_count": 2,
   "id": "85c7c1ff",
   "metadata": {},
   "outputs": [],
   "source": [
    "dp = SeqRepoDataProxy(SeqRepo(\"/usr/local/share/seqrepo/latest\"))"
   ]
  },
  {
   "cell_type": "code",
   "execution_count": 3,
   "id": "ba3b6615",
   "metadata": {},
   "outputs": [
    {
     "data": {
      "text/plain": [
       "{'type': 'Allele',\n",
       " 'location': {'type': 'SequenceLocation',\n",
       "  'sequence_id': 'refseq:NP_004324.2',\n",
       "  'interval': {'type': 'SimpleInterval', 'start': 599, 'end': 600}},\n",
       " 'state': {'type': 'SequenceState', 'sequence': ''}}"
      ]
     },
     "execution_count": 3,
     "metadata": {},
     "output_type": "execute_result"
    }
   ],
   "source": [
    "a =  {\n",
    "      \"location\": {\n",
    "        \"interval\": {\n",
    "          \"start\": 599,\n",
    "          \"end\": 600,\n",
    "          \"type\": \"SimpleInterval\"\n",
    "        },\n",
    "        \"sequence_id\": \"refseq:NP_004324.2\",\n",
    "        \"type\": \"SequenceLocation\"\n",
    "      },\n",
    "      \"state\": {\n",
    "        \"sequence\": \"\",\n",
    "        \"type\": \"SequenceState\"\n",
    "      },\n",
    "      \"type\": \"Allele\"\n",
    "    }\n",
    "allele = models.Allele(**a)\n",
    "normalize(allele, dp).as_dict()"
   ]
  },
  {
   "cell_type": "code",
   "execution_count": 4,
   "id": "db1cd55c",
   "metadata": {},
   "outputs": [
    {
     "data": {
      "text/plain": [
       "{'type': 'Allele',\n",
       " 'location': {'type': 'SequenceLocation',\n",
       "  'sequence_id': 'refseq:NC_000019.10',\n",
       "  'interval': {'type': 'SequenceInterval',\n",
       "   'start': {'type': 'IndefiniteRange', 'value': 14154962, 'comparator': '<='},\n",
       "   'end': {'type': 'IndefiniteRange', 'value': 16914313, 'comparator': '>='}}},\n",
       " 'state': {'type': 'LiteralSequenceExpression', 'sequence': ''}}"
      ]
     },
     "execution_count": 4,
     "metadata": {},
     "output_type": "execute_result"
    }
   ],
   "source": [
    "uncertain_del_allele = {\n",
    "    \"type\": \"Allele\",\n",
    "    \"location\": {\n",
    "        \"type\": \"SequenceLocation\",\n",
    "        \"sequence_id\": \"refseq:NC_000019.10\",\n",
    "        \"interval\": {\n",
    "            \"type\": \"SequenceInterval\",\n",
    "            \"start\": {\n",
    "                \"type\": \"IndefiniteRange\",\n",
    "                \"comparator\": \"<=\",\n",
    "                \"value\": 14154962\n",
    "            },\n",
    "            \"end\": {\n",
    "                \"type\": \"IndefiniteRange\",\n",
    "                \"comparator\": \">=\",\n",
    "                \"value\": 16914313\n",
    "            }\n",
    "        }\n",
    "    },\n",
    "    \"state\": {\n",
    "        \"sequence\": \"\",\n",
    "        \"type\": \"LiteralSequenceExpression\"\n",
    "    }\n",
    "}\n",
    "allele = models.Allele(**uncertain_del_allele)\n",
    "allele.as_dict()"
   ]
  },
  {
   "cell_type": "code",
   "execution_count": 5,
   "id": "4f3008ab",
   "metadata": {},
   "outputs": [
    {
     "data": {
      "text/plain": [
       "{'type': 'Allele',\n",
       " 'location': {'type': 'SequenceLocation',\n",
       "  'sequence_id': 'refseq:NC_000019.10',\n",
       "  'interval': {'type': 'SequenceInterval',\n",
       "   'start': {'type': 'IndefiniteRange', 'value': 14154961, 'comparator': '<='},\n",
       "   'end': {'type': 'IndefiniteRange', 'value': 16914314, 'comparator': '>='}}},\n",
       " 'state': {'type': 'LiteralSequenceExpression', 'sequence': 'AG'}}"
      ]
     },
     "execution_count": 5,
     "metadata": {},
     "output_type": "execute_result"
    }
   ],
   "source": [
    "normalize(allele, dp).as_dict()"
   ]
  },
  {
   "cell_type": "code",
   "execution_count": 6,
   "id": "9979b7d7",
   "metadata": {},
   "outputs": [
    {
     "data": {
      "text/plain": [
       "{'type': 'Allele',\n",
       " 'location': {'type': 'SequenceLocation',\n",
       "  'sequence_id': 'refseq:NC_000019.10',\n",
       "  'interval': {'type': 'SequenceInterval',\n",
       "   'start': {'type': 'IndefiniteRange',\n",
       "    'value': 155980375,\n",
       "    'comparator': '<='},\n",
       "   'end': {'type': 'IndefiniteRange',\n",
       "    'value': 156013167,\n",
       "    'comparator': '>='}}},\n",
       " 'state': {'type': 'RepeatedSequenceExpression',\n",
       "  'seq_expr': {'type': 'DerivedSequenceExpression',\n",
       "   'location': {'type': 'SequenceLocation',\n",
       "    'sequence_id': 'refseq:NC_000019.10',\n",
       "    'interval': {'type': 'SequenceInterval',\n",
       "     'start': {'type': 'IndefiniteRange',\n",
       "      'value': 155980375,\n",
       "      'comparator': '<='},\n",
       "     'end': {'type': 'IndefiniteRange',\n",
       "      'value': 156013167,\n",
       "      'comparator': '>='}}},\n",
       "   'reverse_complement': False},\n",
       "  'count': {'type': 'Number', 'value': 2}}}"
      ]
     },
     "execution_count": 6,
     "metadata": {},
     "output_type": "execute_result"
    }
   ],
   "source": [
    "dup_allele = {\n",
    "    \"type\": \"Allele\",\n",
    "    \"location\": {\n",
    "        \"type\": \"SequenceLocation\",\n",
    "        \"sequence_id\": \"refseq:NC_000019.10\",\n",
    "        \"interval\": {\n",
    "            \"type\": \"SequenceInterval\",\n",
    "            \"start\": {\n",
    "                \"type\": \"IndefiniteRange\",\n",
    "                \"comparator\": \"<=\",\n",
    "                \"value\": 155980375\n",
    "            },\n",
    "            \"end\": {\n",
    "                \"type\": \"IndefiniteRange\",\n",
    "                \"comparator\": \">=\",\n",
    "                \"value\": 156013167\n",
    "            }\n",
    "        }\n",
    "    },\n",
    "    \"state\": {\n",
    "        \"type\": \"RepeatedSequenceExpression\",\n",
    "        \"seq_expr\": {\n",
    "            \"location\": {\n",
    "                \"type\": \"SequenceLocation\",\n",
    "                \"sequence_id\": \"refseq:NC_000019.10\",\n",
    "                \"interval\": {\n",
    "                    \"type\": \"SequenceInterval\",\n",
    "                    \"start\": {\n",
    "                        \"type\": \"IndefiniteRange\",\n",
    "                        \"comparator\": \"<=\",\n",
    "                        \"value\": 155980375\n",
    "                    },\n",
    "                    \"end\": {\n",
    "                        \"type\": \"IndefiniteRange\",\n",
    "                        \"comparator\": \">=\",\n",
    "                        \"value\": 156013167\n",
    "                    }\n",
    "                }\n",
    "            },\n",
    "            \"reverse_complement\": False,\n",
    "            \"type\": \"DerivedSequenceExpression\"\n",
    "        },\n",
    "        \"count\": {\n",
    "            \"type\": \"Number\",\n",
    "            \"value\": 2\n",
    "        }\n",
    "    }\n",
    "}\n",
    "allele = models.Allele(**dup_allele)\n",
    "allele.as_dict()"
   ]
  },
  {
   "cell_type": "code",
   "execution_count": 7,
   "id": "fb24004f",
   "metadata": {},
   "outputs": [
    {
     "data": {
      "text/plain": [
       "{'type': 'Allele',\n",
       " 'location': {'type': 'SequenceLocation',\n",
       "  'sequence_id': 'refseq:NC_000019.10',\n",
       "  'interval': {'type': 'SequenceInterval',\n",
       "   'start': {'type': 'IndefiniteRange',\n",
       "    'value': 155980375,\n",
       "    'comparator': '<='},\n",
       "   'end': {'type': 'IndefiniteRange',\n",
       "    'value': 156013167,\n",
       "    'comparator': '>='}}},\n",
       " 'state': {'type': 'RepeatedSequenceExpression',\n",
       "  'seq_expr': {'type': 'DerivedSequenceExpression',\n",
       "   'location': {'type': 'SequenceLocation',\n",
       "    'sequence_id': 'refseq:NC_000019.10',\n",
       "    'interval': {'type': 'SequenceInterval',\n",
       "     'start': {'type': 'IndefiniteRange',\n",
       "      'value': 155980375,\n",
       "      'comparator': '<='},\n",
       "     'end': {'type': 'IndefiniteRange',\n",
       "      'value': 156013167,\n",
       "      'comparator': '>='}}},\n",
       "   'reverse_complement': False},\n",
       "  'count': {'type': 'Number', 'value': 2}}}"
      ]
     },
     "execution_count": 7,
     "metadata": {},
     "output_type": "execute_result"
    }
   ],
   "source": [
    "normalize(allele, dp).as_dict()"
   ]
  },
  {
   "cell_type": "code",
   "execution_count": 5,
   "id": "a40d2949",
   "metadata": {},
   "outputs": [],
   "source": [
    "import requests"
   ]
  },
  {
   "cell_type": "code",
   "execution_count": 7,
   "id": "6ec8410b",
   "metadata": {},
   "outputs": [
    {
     "data": {
      "text/plain": [
       "'{\\n  \"added\": \"2016-08-24T08:22:40Z\",\\n  \"aliases\": [\\n    \"Ensembl:4\",\\n    \"ensembl:4\",\\n    \"GRCh38:4\",\\n    \"GRCh38:chr4\",\\n    \"GRCh38.p1:4\",\\n    \"GRCh38.p1:chr4\",\\n    \"GRCh38.p10:4\",\\n    \"GRCh38.p10:chr4\",\\n    \"GRCh38.p11:4\",\\n    \"GRCh38.p11:chr4\",\\n    \"GRCh38.p12:4\",\\n    \"GRCh38.p12:chr4\",\\n    \"GRCh38.p2:4\",\\n    \"GRCh38.p2:chr4\",\\n    \"GRCh38.p3:4\",\\n    \"GRCh38.p3:chr4\",\\n    \"GRCh38.p4:4\",\\n    \"GRCh38.p4:chr4\",\\n    \"GRCh38.p5:4\",\\n    \"GRCh38.p5:chr4\",\\n    \"GRCh38.p6:4\",\\n    \"GRCh38.p6:chr4\",\\n    \"GRCh38.p7:4\",\\n    \"GRCh38.p7:chr4\",\\n    \"GRCh38.p8:4\",\\n    \"GRCh38.p8:chr4\",\\n    \"GRCh38.p9:4\",\\n    \"GRCh38.p9:chr4\",\\n    \"MD5:3210fecf1eb92d5489da4346b3fddc6e\",\\n    \"NCBI:NC_000004.12\",\\n    \"refseq:NC_000004.12\",\\n    \"SEGUID:2FjAWtDnRGNSvYyBzOPjkrst/y0\",\\n    \"SHA1:d858c05ad0e7446352bd8c81cce3e392bb2dff2d\",\\n    \"VMC:GS_HxuclGHh0XCDuF8x6yQrpHUBL7ZntAHc\",\\n    \"sha512t24u:HxuclGHh0XCDuF8x6yQrpHUBL7ZntAHc\",\\n    \"ga4gh:GS.HxuclGHh0XCDuF8x6yQrpHUBL7ZntAHc\"\\n  ],\\n  \"alphabet\": \"ACGNT\",\\n  \"length\": 190214555\\n}\\n'"
      ]
     },
     "execution_count": 7,
     "metadata": {},
     "output_type": "execute_result"
    }
   ],
   "source": [
    "r = requests.get('http://localhost:5000/seqrepo/1/metadata/refseq:NC_000004.12')\n",
    "r.text"
   ]
  },
  {
   "cell_type": "code",
   "execution_count": 5,
   "id": "d89b964b",
   "metadata": {},
   "outputs": [
    {
     "ename": "NameError",
     "evalue": "name 'text' is not defined",
     "output_type": "error",
     "traceback": [
      "\u001b[0;31m---------------------------------------------------------------------------\u001b[0m",
      "\u001b[0;31mNameError\u001b[0m                                 Traceback (most recent call last)",
      "\u001b[0;32m/var/folders/lf/5g499lhn423dlt_l3y1ctkv0drnwj5/T/ipykernel_91543/3880403177.py\u001b[0m in \u001b[0;36m<module>\u001b[0;34m\u001b[0m\n\u001b[0;32m----> 1\u001b[0;31m \u001b[0mtext\u001b[0m\u001b[0;34m(\u001b[0m\u001b[0;34m\"2016-08-27T23:57:18Z\"\u001b[0m\u001b[0;34m)\u001b[0m\u001b[0;34m\u001b[0m\u001b[0;34m\u001b[0m\u001b[0m\n\u001b[0m",
      "\u001b[0;31mNameError\u001b[0m: name 'text' is not defined"
     ]
    }
   ],
   "source": [
    "text(\"2016-08-27T23:57:18Z\")"
   ]
  },
  {
   "cell_type": "code",
   "execution_count": 17,
   "id": "b43835b4",
   "metadata": {},
   "outputs": [
    {
     "data": {
      "text/plain": [
       "244988601"
      ]
     },
     "execution_count": 17,
     "metadata": {},
     "output_type": "execute_result"
    }
   ],
   "source": [
    "244988599 + 2"
   ]
  },
  {
   "cell_type": "code",
   "execution_count": 11,
   "id": "5b0d6283",
   "metadata": {},
   "outputs": [
    {
     "data": {
      "text/plain": [
       "10"
      ]
     },
     "execution_count": 11,
     "metadata": {},
     "output_type": "execute_result"
    }
   ],
   "source": [
    "len('GCTTATATCT')"
   ]
  },
  {
   "cell_type": "code",
   "execution_count": 3,
   "id": "f3cec9aa",
   "metadata": {},
   "outputs": [
    {
     "data": {
      "text/plain": [
       "<SequenceState sequence=<Literal<str> T> type=<Literal<str> SequenceState>>"
      ]
     },
     "execution_count": 3,
     "metadata": {},
     "output_type": "execute_result"
    }
   ],
   "source": [
    "models.SequenceState(sequence='T')"
   ]
  },
  {
   "cell_type": "code",
   "execution_count": 4,
   "id": "2a21d731",
   "metadata": {},
   "outputs": [
    {
     "data": {
      "text/plain": [
       "'C'"
      ]
     },
     "execution_count": 4,
     "metadata": {},
     "output_type": "execute_result"
    }
   ],
   "source": [
    "deprecated_allele_dict = {\n",
    "    'location': {\n",
    "        'interval': {\n",
    "            'end': 44908822,\n",
    "            'start': 44908821,\n",
    "            'type': 'SimpleInterval'\n",
    "        },\n",
    "        'sequence_id': 'refseq:NC_000019.10',\n",
    "        'type': 'SequenceLocation'\n",
    "    },\n",
    "    'state': {\n",
    "        \"type\": \"RepeatedSequenceExpression\",\n",
    "        \"seq_expr\": {\n",
    "            \"sequence\": 'C',\n",
    "            \"type\": \"LiteralSequenceExpression\",\n",
    "        },\n",
    "        \"count\": {\n",
    "            \"type\": \"Number\",\n",
    "            \"value\": 2\n",
    "        }\n",
    "    },\n",
    "    'type': 'Allele'\n",
    "}\n",
    "allele = models.Allele(**deprecated_allele_dict)\n",
    "allele.state.seq_expr.sequence._value\n"
   ]
  },
  {
   "cell_type": "code",
   "execution_count": 3,
   "id": "8219b009",
   "metadata": {},
   "outputs": [
    {
     "ename": "AttributeError",
     "evalue": "_value is not a valid property of IndefiniteRange",
     "output_type": "error",
     "traceback": [
      "\u001b[0;31m---------------------------------------------------------------------------\u001b[0m",
      "\u001b[0;31mAttributeError\u001b[0m                            Traceback (most recent call last)",
      "\u001b[0;32m/var/folders/lf/5g499lhn423dlt_l3y1ctkv0drnwj5/T/ipykernel_16319/2742066547.py\u001b[0m in \u001b[0;36m<module>\u001b[0;34m\u001b[0m\n\u001b[1;32m      6\u001b[0m    'end': {'type': 'IndefiniteRange', 'value': 33339477, 'comparator': '>='}}},\n\u001b[1;32m      7\u001b[0m  'state': {'type': 'LiteralSequenceExpression', 'sequence': ''}}\n\u001b[0;32m----> 8\u001b[0;31m \u001b[0mnormalize\u001b[0m\u001b[0;34m(\u001b[0m\u001b[0mmodels\u001b[0m\u001b[0;34m.\u001b[0m\u001b[0mAllele\u001b[0m\u001b[0;34m(\u001b[0m\u001b[0;34m**\u001b[0m\u001b[0mallele\u001b[0m\u001b[0;34m)\u001b[0m\u001b[0;34m,\u001b[0m \u001b[0mdp\u001b[0m\u001b[0;34m)\u001b[0m\u001b[0;34m\u001b[0m\u001b[0;34m\u001b[0m\u001b[0m\n\u001b[0m",
      "\u001b[0;32m~/Documents/genomic_med_lab/vrs-python/src/ga4gh/vrs/normalize.py\u001b[0m in \u001b[0;36mnormalize\u001b[0;34m(vo, data_proxy)\u001b[0m\n\u001b[1;32m     65\u001b[0m     \u001b[0;32mif\u001b[0m \u001b[0mvo_type\u001b[0m \u001b[0;32min\u001b[0m \u001b[0mhandlers\u001b[0m\u001b[0;34m:\u001b[0m\u001b[0;34m\u001b[0m\u001b[0;34m\u001b[0m\u001b[0m\n\u001b[1;32m     66\u001b[0m         \u001b[0mhandler\u001b[0m \u001b[0;34m=\u001b[0m \u001b[0mhandlers\u001b[0m\u001b[0;34m[\u001b[0m\u001b[0mvo_type\u001b[0m\u001b[0;34m]\u001b[0m\u001b[0;34m\u001b[0m\u001b[0;34m\u001b[0m\u001b[0m\n\u001b[0;32m---> 67\u001b[0;31m         \u001b[0;32mreturn\u001b[0m \u001b[0mhandler\u001b[0m\u001b[0;34m(\u001b[0m\u001b[0mvo\u001b[0m\u001b[0;34m,\u001b[0m \u001b[0mdata_proxy\u001b[0m\u001b[0;34m)\u001b[0m\u001b[0;34m\u001b[0m\u001b[0;34m\u001b[0m\u001b[0m\n\u001b[0m\u001b[1;32m     68\u001b[0m \u001b[0;34m\u001b[0m\u001b[0m\n\u001b[1;32m     69\u001b[0m     \u001b[0;31m# No handler for vo_type; pass-through unchanged\u001b[0m\u001b[0;34m\u001b[0m\u001b[0;34m\u001b[0m\u001b[0;34m\u001b[0m\u001b[0m\n",
      "\u001b[0;32m~/Documents/genomic_med_lab/vrs-python/src/ga4gh/vrs/normalize.py\u001b[0m in \u001b[0;36m_normalize_allele\u001b[0;34m(allele, data_proxy)\u001b[0m\n\u001b[1;32m     21\u001b[0m \u001b[0;32mdef\u001b[0m \u001b[0m_normalize_allele\u001b[0m\u001b[0;34m(\u001b[0m\u001b[0mallele\u001b[0m\u001b[0;34m,\u001b[0m \u001b[0mdata_proxy\u001b[0m\u001b[0;34m)\u001b[0m\u001b[0;34m:\u001b[0m\u001b[0;34m\u001b[0m\u001b[0;34m\u001b[0m\u001b[0m\n\u001b[1;32m     22\u001b[0m     \u001b[0msequence\u001b[0m \u001b[0;34m=\u001b[0m \u001b[0mSequenceProxy\u001b[0m\u001b[0;34m(\u001b[0m\u001b[0mdata_proxy\u001b[0m\u001b[0;34m,\u001b[0m \u001b[0mallele\u001b[0m\u001b[0;34m.\u001b[0m\u001b[0mlocation\u001b[0m\u001b[0;34m.\u001b[0m\u001b[0msequence_id\u001b[0m\u001b[0;34m.\u001b[0m\u001b[0m_value\u001b[0m\u001b[0;34m)\u001b[0m\u001b[0;34m\u001b[0m\u001b[0;34m\u001b[0m\u001b[0m\n\u001b[0;32m---> 23\u001b[0;31m     \u001b[0mival\u001b[0m \u001b[0;34m=\u001b[0m \u001b[0;34m(\u001b[0m\u001b[0mallele\u001b[0m\u001b[0;34m.\u001b[0m\u001b[0mlocation\u001b[0m\u001b[0;34m.\u001b[0m\u001b[0minterval\u001b[0m\u001b[0;34m.\u001b[0m\u001b[0mstart\u001b[0m\u001b[0;34m.\u001b[0m\u001b[0m_value\u001b[0m\u001b[0;34m,\u001b[0m \u001b[0mallele\u001b[0m\u001b[0;34m.\u001b[0m\u001b[0mlocation\u001b[0m\u001b[0;34m.\u001b[0m\u001b[0minterval\u001b[0m\u001b[0;34m.\u001b[0m\u001b[0mend\u001b[0m\u001b[0;34m.\u001b[0m\u001b[0m_value\u001b[0m\u001b[0;34m)\u001b[0m\u001b[0;34m\u001b[0m\u001b[0;34m\u001b[0m\u001b[0m\n\u001b[0m\u001b[1;32m     24\u001b[0m     \u001b[0malleles\u001b[0m \u001b[0;34m=\u001b[0m \u001b[0;34m(\u001b[0m\u001b[0;32mNone\u001b[0m\u001b[0;34m,\u001b[0m \u001b[0mallele\u001b[0m\u001b[0;34m.\u001b[0m\u001b[0mstate\u001b[0m\u001b[0;34m.\u001b[0m\u001b[0msequence\u001b[0m\u001b[0;34m.\u001b[0m\u001b[0m_value\u001b[0m\u001b[0;34m)\u001b[0m\u001b[0;34m\u001b[0m\u001b[0;34m\u001b[0m\u001b[0m\n\u001b[1;32m     25\u001b[0m \u001b[0;34m\u001b[0m\u001b[0m\n",
      "\u001b[0;32m~/Documents/genomic_med_lab/vrs-python/venv/3.9/lib/python3.9/site-packages/python_jsonschema_objects/classbuilder.py\u001b[0m in \u001b[0;36m__getattr__\u001b[0;34m(self, name)\u001b[0m\n\u001b[1;32m    263\u001b[0m         \u001b[0;32mif\u001b[0m \u001b[0mname\u001b[0m \u001b[0;32min\u001b[0m \u001b[0mself\u001b[0m\u001b[0;34m.\u001b[0m\u001b[0m_extended_properties\u001b[0m\u001b[0;34m:\u001b[0m\u001b[0;34m\u001b[0m\u001b[0;34m\u001b[0m\u001b[0m\n\u001b[1;32m    264\u001b[0m             \u001b[0;32mreturn\u001b[0m \u001b[0mself\u001b[0m\u001b[0;34m.\u001b[0m\u001b[0m_extended_properties\u001b[0m\u001b[0;34m[\u001b[0m\u001b[0mname\u001b[0m\u001b[0;34m]\u001b[0m\u001b[0;34m\u001b[0m\u001b[0;34m\u001b[0m\u001b[0m\n\u001b[0;32m--> 265\u001b[0;31m         raise AttributeError(\n\u001b[0m\u001b[1;32m    266\u001b[0m             \u001b[0;34m\"{0} is not a valid property of {1}\"\u001b[0m\u001b[0;34m.\u001b[0m\u001b[0mformat\u001b[0m\u001b[0;34m(\u001b[0m\u001b[0mname\u001b[0m\u001b[0;34m,\u001b[0m \u001b[0mself\u001b[0m\u001b[0;34m.\u001b[0m\u001b[0m__class__\u001b[0m\u001b[0;34m.\u001b[0m\u001b[0m__name__\u001b[0m\u001b[0;34m)\u001b[0m\u001b[0;34m\u001b[0m\u001b[0;34m\u001b[0m\u001b[0m\n\u001b[1;32m    267\u001b[0m         )\n",
      "\u001b[0;31mAttributeError\u001b[0m: _value is not a valid property of IndefiniteRange"
     ]
    }
   ],
   "source": [
    "allele = {'type': 'Allele',\n",
    "'location': {'type': 'SequenceLocation',\n",
    "  'sequence_id': 'refseq:NC_000023.11',\n",
    "  'interval': {'type': 'SequenceInterval',\n",
    "   'start': {'type': 'IndefiniteRange', 'value': 31120496, 'comparator': '<='},\n",
    "   'end': {'type': 'IndefiniteRange', 'value': 33339477, 'comparator': '>='}}},\n",
    " 'state': {'type': 'LiteralSequenceExpression', 'sequence': ''}}\n",
    "normalize(models.Allele(**allele), dp)"
   ]
  },
  {
   "cell_type": "code",
   "execution_count": null,
   "id": "3d51d85e",
   "metadata": {},
   "outputs": [],
   "source": []
  }
 ],
 "metadata": {
  "kernelspec": {
   "display_name": "3.9",
   "language": "python",
   "name": "3.9"
  },
  "language_info": {
   "codemirror_mode": {
    "name": "ipython",
    "version": 3
   },
   "file_extension": ".py",
   "mimetype": "text/x-python",
   "name": "python",
   "nbconvert_exporter": "python",
   "pygments_lexer": "ipython3",
   "version": "3.9.5"
  }
 },
 "nbformat": 4,
 "nbformat_minor": 5
}
