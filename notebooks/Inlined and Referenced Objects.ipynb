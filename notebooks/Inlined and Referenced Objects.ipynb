{
 "cells": [
  {
   "cell_type": "markdown",
   "metadata": {},
   "source": [
    "**NOTE:** A dynamic, web-based version of VRS-Python may be loaded through [mybinder.org](https://mybinder.org/v2/gh/ga4gh/vrs-python/pgxhttps://mybinder.org/v2/gh/ga4gh/vrs-python/pgx) where this notebook may be run without any local installation. Steps:\n",
    "1. Navigate to the [VRS-Python mybinder.org build](https://mybinder.org/v2/gh/ga4gh/vrs-python/pgx)\n",
    "2. Once the Binder build is completed, navigate to `notebooks/Inlined and Referenced Objects.ipynb`\n",
    "3. Under kernel, select `VRS_kernel`"
   ]
  },
  {
   "cell_type": "markdown",
   "metadata": {},
   "source": [
    "# Inlined and Referenced Objects\n",
    "\n",
    "## Replacing Identifiable Objects with their Identifiers\n",
    "\n",
    "As an example, `Allele` contains a `location`, which must be `oneOf` 1) a subclass of `Location`, or 2) a `CURIE`.\n",
    "\n",
    "Attributes that may be either objects or object identifiers are called _referable attributes_. When a referable attribute contains an object, the object is said to be _inlined_ ; when it is an identifier, it said to be _referenced_. \n",
    "\n",
    "`vr-python` provides code to convert referable attributes between their inlined and referenced forms. Replacing an inlined object with a referenced form is provided by `ga4gh_enref`, and replacing references with their inlined form is provided by `ga4gh_deref`.\n",
    "\n",
    "Dereferencing an object requires having an _object store_ that converts GA4GH identifiers into GA4GH VR objects. In the simplest case, this may be a Python dictionary.  The `vr-python` implementation includes a Redis-backed object store that provides high-performance object retrieval.\n",
    "\n",
    "![graphic](https://i.imgur.com/vBY3Pu8.png)"
   ]
  },
  {
   "cell_type": "code",
   "execution_count": 1,
   "metadata": {},
   "outputs": [
    {
     "name": "stderr",
     "output_type": "stream",
     "text": [
      "Removing allOf attribute from CopyNumber to avoid python-jsonschema-objects error.\n",
      "Removing allOf attribute from SequenceInterval to avoid python-jsonschema-objects error.\n",
      "Removing allOf attribute from RepeatedSequenceExpression to avoid python-jsonschema-objects error.\n",
      "/Users/kxk102/Documents/ga4gh/vrs-python/venv/3.10/lib/python3.10/site-packages/python_jsonschema_objects/__init__.py:49: UserWarning: Schema version http://json-schema.org/draft-07/schema not recognized. Some keywords and features may not be supported.\n",
      "  warnings.warn(\n"
     ]
    }
   ],
   "source": [
    "from ga4gh.core import ga4gh_identify\n",
    "from ga4gh.vrs import models, vrs_deref, vrs_enref\n",
    "\n",
    "import json\n",
    "def ppo(o):\n",
    "    \"\"\"pretty print object as json\"\"\"\n",
    "    print(json.dumps(o.as_dict(), indent=2))"
   ]
  },
  {
   "cell_type": "code",
   "execution_count": 2,
   "metadata": {},
   "outputs": [],
   "source": [
    "# A sample Allele\n",
    "allele_dict = {\n",
    "    'location': {\n",
    "        'interval': {\n",
    "            'end': 32936732,\n",
    "            'start': 32936731,\n",
    "            'type': 'SimpleInterval'},\n",
    "        'sequence_id': 'ga4gh:SQ._0wi-qoDrvram155UmcSC-zA5ZK4fpLT',\n",
    "        'type': 'SequenceLocation'},\n",
    "    'state': {\n",
    "        'sequence': 'A',\n",
    "        'type': 'SequenceState'},\n",
    "    'type': 'Allele'}"
   ]
  },
  {
   "cell_type": "code",
   "execution_count": 3,
   "metadata": {},
   "outputs": [
    {
     "name": "stdout",
     "output_type": "stream",
     "text": [
      "{\n",
      "  \"_id\": \"ga4gh:VA.mpIbo0Vv4HT-Oh3g5SWcuzAR2mue3yL-\",\n",
      "  \"type\": \"Allele\",\n",
      "  \"location\": {\n",
      "    \"_id\": \"ga4gh:VSL.v9K0mcjQVugxTDIcdi7GBJ_R6fZ1lsYq\",\n",
      "    \"type\": \"SequenceLocation\",\n",
      "    \"sequence_id\": \"ga4gh:SQ._0wi-qoDrvram155UmcSC-zA5ZK4fpLT\",\n",
      "    \"interval\": {\n",
      "      \"type\": \"SimpleInterval\",\n",
      "      \"start\": 32936731,\n",
      "      \"end\": 32936732\n",
      "    }\n",
      "  },\n",
      "  \"state\": {\n",
      "    \"type\": \"SequenceState\",\n",
      "    \"sequence\": \"A\"\n",
      "  }\n",
      "}\n"
     ]
    }
   ],
   "source": [
    "allele = models.Allele(**allele_dict)\n",
    "allele._id = ga4gh_identify(allele)\n",
    "allele.location._id = ga4gh_identify(allele.location)\n",
    "ppo(allele)"
   ]
  },
  {
   "cell_type": "markdown",
   "metadata": {},
   "source": [
    "## ga4gh_enref and ga4gh_deref using a Python dictionary"
   ]
  },
  {
   "cell_type": "code",
   "execution_count": 4,
   "metadata": {},
   "outputs": [],
   "source": [
    "object_store = {}"
   ]
  },
  {
   "cell_type": "code",
   "execution_count": 5,
   "metadata": {},
   "outputs": [
    {
     "name": "stdout",
     "output_type": "stream",
     "text": [
      "{\n",
      "  \"_id\": \"ga4gh:VA.mpIbo0Vv4HT-Oh3g5SWcuzAR2mue3yL-\",\n",
      "  \"type\": \"Allele\",\n",
      "  \"location\": \"ga4gh:VSL.v9K0mcjQVugxTDIcdi7GBJ_R6fZ1lsYq\",\n",
      "  \"state\": {\n",
      "    \"type\": \"SequenceState\",\n",
      "    \"sequence\": \"A\"\n",
      "  }\n",
      "}\n"
     ]
    }
   ],
   "source": [
    "allele_refd = vrs_enref(allele, object_store=object_store)\n",
    "ppo(allele_refd)"
   ]
  },
  {
   "cell_type": "code",
   "execution_count": 6,
   "metadata": {},
   "outputs": [
    {
     "data": {
      "text/plain": [
       "dict_keys(['ga4gh:VSL.v9K0mcjQVugxTDIcdi7GBJ_R6fZ1lsYq', 'ga4gh:VA.mpIbo0Vv4HT-Oh3g5SWcuzAR2mue3yL-'])"
      ]
     },
     "execution_count": 6,
     "metadata": {},
     "output_type": "execute_result"
    }
   ],
   "source": [
    "object_store.keys()"
   ]
  },
  {
   "cell_type": "code",
   "execution_count": 7,
   "metadata": {},
   "outputs": [
    {
     "name": "stdout",
     "output_type": "stream",
     "text": [
      "{\n",
      "  \"_id\": \"ga4gh:VSL.v9K0mcjQVugxTDIcdi7GBJ_R6fZ1lsYq\",\n",
      "  \"type\": \"SequenceLocation\",\n",
      "  \"sequence_id\": \"ga4gh:SQ._0wi-qoDrvram155UmcSC-zA5ZK4fpLT\",\n",
      "  \"interval\": {\n",
      "    \"type\": \"SimpleInterval\",\n",
      "    \"start\": 32936731,\n",
      "    \"end\": 32936732\n",
      "  }\n",
      "}\n"
     ]
    }
   ],
   "source": [
    "ppo(object_store[\"ga4gh:VSL.v9K0mcjQVugxTDIcdi7GBJ_R6fZ1lsYq\"])"
   ]
  },
  {
   "cell_type": "code",
   "execution_count": 8,
   "metadata": {},
   "outputs": [
    {
     "name": "stdout",
     "output_type": "stream",
     "text": [
      "{\n",
      "  \"_id\": \"ga4gh:VA.mpIbo0Vv4HT-Oh3g5SWcuzAR2mue3yL-\",\n",
      "  \"type\": \"Allele\",\n",
      "  \"location\": {\n",
      "    \"_id\": \"ga4gh:VSL.v9K0mcjQVugxTDIcdi7GBJ_R6fZ1lsYq\",\n",
      "    \"type\": \"SequenceLocation\",\n",
      "    \"sequence_id\": \"ga4gh:SQ._0wi-qoDrvram155UmcSC-zA5ZK4fpLT\",\n",
      "    \"interval\": {\n",
      "      \"type\": \"SimpleInterval\",\n",
      "      \"start\": 32936731,\n",
      "      \"end\": 32936732\n",
      "    }\n",
      "  },\n",
      "  \"state\": {\n",
      "    \"type\": \"SequenceState\",\n",
      "    \"sequence\": \"A\"\n",
      "  }\n",
      "}\n"
     ]
    }
   ],
   "source": [
    "allele_inld = vrs_deref(allele_refd, object_store=object_store)\n",
    "ppo(allele_inld)"
   ]
  }
 ],
 "metadata": {
  "kernelspec": {
   "display_name": "vrs-python",
   "language": "python",
   "name": "vrs-python"
  },
  "language_info": {
   "codemirror_mode": {
    "name": "ipython",
    "version": 3
   },
   "file_extension": ".py",
   "mimetype": "text/x-python",
   "name": "python",
   "nbconvert_exporter": "python",
   "pygments_lexer": "ipython3",
   "version": "3.10.8"
  }
 },
 "nbformat": 4,
 "nbformat_minor": 4
}
