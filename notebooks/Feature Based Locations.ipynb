{
 "cells": [
  {
   "cell_type": "markdown",
   "metadata": {},
   "source": [
    "# Feature-Based Locations\n",
    "\n",
    "Feature-based locations are VRS Locations that are defined by reference to certain landmarks or features. The currently supported Feature-Based Locations are ChromosomeLocation and GeneLocation classes."
   ]
  },
  {
   "cell_type": "code",
   "execution_count": 1,
   "metadata": {},
   "outputs": [
    {
     "name": "stderr",
     "output_type": "stream",
     "text": [
      "Removing allOf attribute from CopyNumber to avoid python-jsonschema-objects error.\n",
      "Removing allOf attribute from SequenceInterval to avoid python-jsonschema-objects error.\n",
      "Removing allOf attribute from RepeatedSequenceExpression to avoid python-jsonschema-objects error.\n",
      "/Users/kxk102/Documents/ga4gh/vrs-python/venv/3.10/lib/python3.10/site-packages/python_jsonschema_objects/__init__.py:49: UserWarning: Schema version http://json-schema.org/draft-07/schema not recognized. Some keywords and features may not be supported.\n",
      "  warnings.warn(\n"
     ]
    }
   ],
   "source": [
    "from ga4gh.vrs import models\n",
    "from ga4gh.core import ga4gh_identify, ga4gh_serialize"
   ]
  },
  {
   "cell_type": "markdown",
   "metadata": {},
   "source": [
    "## ChromosomeLocation"
   ]
  },
  {
   "cell_type": "code",
   "execution_count": 2,
   "metadata": {},
   "outputs": [
    {
     "data": {
      "text/plain": [
       "{'type': 'ChromosomeLocation',\n",
       " 'species_id': 'taxonomy:9606',\n",
       " 'chr': '11',\n",
       " 'interval': {'type': 'CytobandInterval', 'start': 'q22.2', 'end': 'q22.3'}}"
      ]
     },
     "execution_count": 2,
     "metadata": {},
     "output_type": "execute_result"
    }
   ],
   "source": [
    "cbl1 = models.ChromosomeLocation(species_id=\"taxonomy:9606\", \n",
    "                                 chr=\"11\", \n",
    "                                 interval=models.CytobandInterval(start=\"q22.2\", end=\"q22.3\", type=\"CytobandInterval\"),\n",
    "                                 type=\"ChromosomeLocation\"\n",
    "                                )\n",
    "cbl1.as_dict()"
   ]
  },
  {
   "cell_type": "markdown",
   "metadata": {},
   "source": [
    "## Serialization and Identification"
   ]
  },
  {
   "cell_type": "code",
   "execution_count": 3,
   "metadata": {},
   "outputs": [
    {
     "data": {
      "text/plain": [
       "b'{\"chr\":\"11\",\"interval\":{\"end\":\"q22.3\",\"start\":\"q22.2\",\"type\":\"CytobandInterval\"},\"species_id\":\"taxonomy:9606\",\"type\":\"ChromosomeLocation\"}'"
      ]
     },
     "execution_count": 3,
     "metadata": {},
     "output_type": "execute_result"
    }
   ],
   "source": [
    "ga4gh_serialize(cbl1)"
   ]
  },
  {
   "cell_type": "code",
   "execution_count": 4,
   "metadata": {},
   "outputs": [
    {
     "data": {
      "text/plain": [
       "'ga4gh:VCL.eLG0pS7t_p8cqfm_SG4xLFDCPbkyGt0t'"
      ]
     },
     "execution_count": 4,
     "metadata": {},
     "output_type": "execute_result"
    }
   ],
   "source": [
    "ga4gh_identify(cbl1)"
   ]
  },
  {
   "cell_type": "code",
   "execution_count": 5,
   "metadata": {},
   "outputs": [],
   "source": [
    "## Localization\n",
    "from ga4gh.vrs.extras.localizer import Localizer\n",
    "lr = Localizer()"
   ]
  },
  {
   "cell_type": "code",
   "execution_count": 6,
   "metadata": {},
   "outputs": [
    {
     "data": {
      "text/plain": [
       "{'type': 'SequenceLocation',\n",
       " 'sequence_id': 'refseq:NC_000011.9',\n",
       " 'interval': {'type': 'SequenceInterval',\n",
       "  'start': {'type': 'Number', 'value': 102100000},\n",
       "  'end': {'type': 'Number', 'value': 110400000}}}"
      ]
     },
     "execution_count": 6,
     "metadata": {},
     "output_type": "execute_result"
    }
   ],
   "source": [
    "cbl1sl37 = lr.localize_named_feature(cbl1, \"GRCh37\")\n",
    "cbl1sl37.as_dict()"
   ]
  },
  {
   "cell_type": "code",
   "execution_count": 7,
   "metadata": {},
   "outputs": [
    {
     "data": {
      "text/plain": [
       "{'type': 'SequenceLocation',\n",
       " 'sequence_id': 'refseq:NC_000011.10',\n",
       " 'interval': {'type': 'SequenceInterval',\n",
       "  'start': {'type': 'Number', 'value': 102300000},\n",
       "  'end': {'type': 'Number', 'value': 110600000}}}"
      ]
     },
     "execution_count": 7,
     "metadata": {},
     "output_type": "execute_result"
    }
   ],
   "source": [
    "cbl1sl38 = lr.localize_named_feature(cbl1, \"GRCh38\")\n",
    "cbl1sl38.as_dict()"
   ]
  },
  {
   "cell_type": "code",
   "execution_count": null,
   "metadata": {},
   "outputs": [],
   "source": []
  }
 ],
 "metadata": {
  "kernelspec": {
   "display_name": "3.10",
   "language": "python",
   "name": "python3"
  },
  "language_info": {
   "codemirror_mode": {
    "name": "ipython",
    "version": 3
   },
   "file_extension": ".py",
   "mimetype": "text/x-python",
   "name": "python",
   "nbconvert_exporter": "python",
   "pygments_lexer": "ipython3",
   "version": "3.10.8"
  },
  "vscode": {
   "interpreter": {
    "hash": "dbb74c070b5b31d3f95db5d50c295a2fecef2776518713f5a38b1637c900302e"
   }
  }
 },
 "nbformat": 4,
 "nbformat_minor": 4
}
