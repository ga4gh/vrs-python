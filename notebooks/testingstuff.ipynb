{
 "cells": [
  {
   "cell_type": "code",
   "execution_count": 1,
   "metadata": {},
   "outputs": [],
   "source": [
    "import ga4gh.vrs._internal.models\n",
    "import importlib\n",
    "importlib.reload(ga4gh.vrs._internal.models)\n",
    "from ga4gh.vrs._internal.models import (\n",
    "    Allele,\n",
    "    SystemicVariation,\n",
    "    flatten_type,\n",
    "    class_refatt_map\n",
    ")\n",
    "from ga4gh.vrs import models\n"
   ]
  },
  {
   "attachments": {},
   "cell_type": "markdown",
   "metadata": {},
   "source": [
    "TODO\n",
    "\n",
    "- Update pydantic.py helper functions to work for classes in models.py (if those functions are needed)\n",
    "- Update Translator _from* functions to work for the simple Allele in test_vrs.py (also below in allele_dict)\n",
    "- Update the ga4gh_serialize and ga4gh_digest functions to work with Pydantic classes and the ga4ghDigest field in VRS 2.0\n",
    "- Update test in test_vrs.py to work for new serialize and digest functions, for update expected values for VRS 2.model\n",
    "- location start/end validation in Pydantic class\n",
    "- IRI validation in Pydantic class (curie, compacted identifier, or fully qualified IRI according to RFCs)\n"
   ]
  },
  {
   "cell_type": "code",
   "execution_count": 2,
   "metadata": {},
   "outputs": [],
   "source": [
    "\n",
    "allele_dict = {\n",
    "    'location': {\n",
    "        'end': 55181320,\n",
    "        'start': 55181319,\n",
    "        'sequence': {\n",
    "            'type': 'SequenceReference',\n",
    "            'refgetAccession': 'SQ.F-LrLMe1SRpfUZHkQmvkVKFEGaoDeHul'\n",
    "        },\n",
    "        # 'sequence_id': 'ga4gh:SQ.F-LrLMe1SRpfUZHkQmvkVKFEGaoDeHul',\n",
    "        'type': 'SequenceLocation'\n",
    "    },\n",
    "    'state': {\n",
    "        'sequence': 'T',\n",
    "        'type': 'LiteralSequenceExpression'\n",
    "    },\n",
    "    'type': 'Allele'\n",
    "}\n",
    "\n",
    "allele = Allele(**allele_dict)"
   ]
  },
  {
   "cell_type": "code",
   "execution_count": 3,
   "metadata": {},
   "outputs": [],
   "source": [
    "# test pydantic_copy\n",
    "from ga4gh.core._internal.pydantic import pydantic_copy\n",
    "actual = pydantic_copy(allele).dict()\n",
    "expected = allele.dict()\n",
    "assert actual == expected # they have the same value\n",
    "actual[\"foo\"] = \"bar\"\n",
    "assert actual != expected # they are not the same object"
   ]
  },
  {
   "cell_type": "code",
   "execution_count": 4,
   "metadata": {},
   "outputs": [
    {
     "data": {
      "text/plain": [
       "{'SequenceLocation': ['sequence'],\n",
       " 'Allele': ['location'],\n",
       " 'Haplotype': ['members'],\n",
       " 'CopyNumberCount': ['subject'],\n",
       " 'CopyNumberChange': ['subject'],\n",
       " 'GenotypeMember': ['variation']}"
      ]
     },
     "execution_count": 4,
     "metadata": {},
     "output_type": "execute_result"
    }
   ],
   "source": [
    "class_refatt_map"
   ]
  },
  {
   "cell_type": "code",
   "execution_count": 9,
   "metadata": {},
   "outputs": [
    {
     "data": {
      "text/plain": [
       "b'{}'"
      ]
     },
     "execution_count": 9,
     "metadata": {},
     "output_type": "execute_result"
    }
   ],
   "source": [
    "import ga4gh.core._internal.identifiers\n",
    "importlib.reload(ga4gh.core._internal.identifiers)\n",
    "from ga4gh.core._internal.identifiers import (\n",
    "    ga4gh_serialize,\n",
    "    ga4gh_roll_up_refs\n",
    ")\n",
    "\n",
    "# ga4gh_roll_up_refs(allele.dict(), class_refatt_map)\n",
    "ga4gh_serialize(allele)"
   ]
  },
  {
   "cell_type": "code",
   "execution_count": null,
   "metadata": {},
   "outputs": [
    {
     "data": {
      "text/plain": [
       "typing.Literal['Allele']"
      ]
     },
     "execution_count": 4,
     "metadata": {},
     "output_type": "execute_result"
    }
   ],
   "source": [
    "t = ga4gh.vrs._internal.models.Allele.__fields__[\"type\"].type_\n",
    "t"
   ]
  },
  {
   "cell_type": "code",
   "execution_count": null,
   "metadata": {},
   "outputs": [],
   "source": [
    "str.split()"
   ]
  },
  {
   "cell_type": "code",
   "execution_count": 11,
   "metadata": {},
   "outputs": [],
   "source": [
    "from ga4gh.vrs.extras.translator import Translator\n",
    "from ga4gh.vrs.dataproxy import SeqRepoDataProxy\n",
    "from biocommons.seqrepo import SeqRepo\n",
    "data_proxy = SeqRepoDataProxy(SeqRepo(\"/Users/kferrite/dev/biocommons.seqrepo/seqrepo/2021-01-29\"))\n",
    "translator = Translator(data_proxy=data_proxy)\n",
    "# translator._from_beacon(\"13 : 32936732 G > C\")"
   ]
  },
  {
   "cell_type": "code",
   "execution_count": 12,
   "metadata": {},
   "outputs": [
    {
     "data": {
      "text/plain": [
       "{'length': 114364328,\n",
       " 'alphabet': 'ACGKNTY',\n",
       " 'added': '2016-08-27T23:50:14Z',\n",
       " 'aliases': ['GRCh38:13',\n",
       "  'GRCh38:chr13',\n",
       "  'GRCh38.p1:13',\n",
       "  'GRCh38.p1:chr13',\n",
       "  'GRCh38.p10:13',\n",
       "  'GRCh38.p10:chr13',\n",
       "  'GRCh38.p11:13',\n",
       "  'GRCh38.p11:chr13',\n",
       "  'GRCh38.p12:13',\n",
       "  'GRCh38.p12:chr13',\n",
       "  'GRCh38.p2:13',\n",
       "  'GRCh38.p2:chr13',\n",
       "  'GRCh38.p3:13',\n",
       "  'GRCh38.p3:chr13',\n",
       "  'GRCh38.p4:13',\n",
       "  'GRCh38.p4:chr13',\n",
       "  'GRCh38.p5:13',\n",
       "  'GRCh38.p5:chr13',\n",
       "  'GRCh38.p6:13',\n",
       "  'GRCh38.p6:chr13',\n",
       "  'GRCh38.p7:13',\n",
       "  'GRCh38.p7:chr13',\n",
       "  'GRCh38.p8:13',\n",
       "  'GRCh38.p8:chr13',\n",
       "  'GRCh38.p9:13',\n",
       "  'GRCh38.p9:chr13',\n",
       "  'MD5:a5437debe2ef9c9ef8f3ea2874ae1d82',\n",
       "  'NCBI:NC_000013.11',\n",
       "  'refseq:NC_000013.11',\n",
       "  'SEGUID:2oDBty0yKV9wHo7gg+Bt+fPgi5o',\n",
       "  'SHA1:da80c1b72d32295f701e8ee083e06df9f3e08b9a',\n",
       "  'VMC:GS__0wi-qoDrvram155UmcSC-zA5ZK4fpLT',\n",
       "  'sha512t24u:_0wi-qoDrvram155UmcSC-zA5ZK4fpLT',\n",
       "  'ga4gh:SQ._0wi-qoDrvram155UmcSC-zA5ZK4fpLT']}"
      ]
     },
     "execution_count": 12,
     "metadata": {},
     "output_type": "execute_result"
    }
   ],
   "source": [
    "data_proxy.get_metadata('GRCh38:13')"
   ]
  },
  {
   "cell_type": "code",
   "execution_count": null,
   "metadata": {},
   "outputs": [],
   "source": [
    "#vars(ga4gh.vrs.models)"
   ]
  },
  {
   "cell_type": "code",
   "execution_count": 17,
   "metadata": {},
   "outputs": [
    {
     "data": {
      "text/plain": [
       "<re.Match object; span=(0, 10), match='ga4gh:asdf'>"
      ]
     },
     "execution_count": 17,
     "metadata": {},
     "output_type": "execute_result"
    }
   ],
   "source": [
    "import re\n",
    "re.match(r'[a-zA-Z0-9.]+:\\S+', \"ga4gh:asdf\")"
   ]
  },
  {
   "cell_type": "code",
   "execution_count": 41,
   "metadata": {},
   "outputs": [
    {
     "data": {
      "text/plain": [
       "{'__root__': 'asdf'}"
      ]
     },
     "execution_count": 41,
     "metadata": {},
     "output_type": "execute_result"
    }
   ],
   "source": [
    "from ga4gh.vrs import models\n",
    "import pydantic\n",
    "\n",
    "models.IRI(__root__=\"asdf\").dict()\n",
    "\n"
   ]
  },
  {
   "cell_type": "code",
   "execution_count": null,
   "metadata": {},
   "outputs": [],
   "source": []
  }
 ],
 "metadata": {
  "kernelspec": {
   "display_name": "venv",
   "language": "python",
   "name": "python3"
  },
  "language_info": {
   "codemirror_mode": {
    "name": "ipython",
    "version": 3
   },
   "file_extension": ".py",
   "mimetype": "text/x-python",
   "name": "python",
   "nbconvert_exporter": "python",
   "pygments_lexer": "ipython3",
   "version": "3.11.3"
  },
  "orig_nbformat": 4
 },
 "nbformat": 4,
 "nbformat_minor": 2
}
