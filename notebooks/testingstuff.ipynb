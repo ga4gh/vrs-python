{
 "cells": [
  {
   "cell_type": "code",
   "execution_count": 16,
   "metadata": {
    "ExecuteTime": {
     "end_time": "2024-01-30T20:29:18.773384Z",
     "start_time": "2024-01-30T20:29:18.701011Z"
    }
   },
   "outputs": [],
   "source": [
    "import json\n",
    "from timeit import default_timer as timer\n",
    "\n",
    "import ga4gh.vrs._internal.models\n",
    "import ga4gh.core._internal.identifiers\n",
    "import ga4gh.core._internal.pydantic \n",
    "import importlib\n",
    "importlib.reload(ga4gh.vrs._internal.models)\n",
    "importlib.reload(ga4gh.core._internal.identifiers)\n",
    "importlib.reload(ga4gh.core._internal.pydantic)\n",
    "\n",
    "from ga4gh.vrs._internal.models import (\n",
    "    Allele,\n",
    "    Haplotype,\n",
    "    Genotype,\n",
    "    GenotypeMember\n",
    ")\n",
    "from ga4gh.core._internal.identifiers import (\n",
    "    ga4gh_serialize,\n",
    "    ga4gh_identify,\n",
    "    ga4gh_digest,\n",
    "    sha512t24u,\n",
    "    identify_all,\n",
    "    collapse_identifiable_values,\n",
    "    replace_with_digest\n",
    ")\n",
    "def pretty_print(d: dict):\n",
    "    print(json.dumps(d, indent=2))\n",
    "def pydantic_dict(o):\n",
    "    return o.dict(exclude_none=True)"
   ]
  },
  {
   "attachments": {},
   "cell_type": "markdown",
   "metadata": {},
   "source": [
    "TODO\n",
    "\n",
    "- Update pydantic.py helper functions to work for classes in models.py (if those functions are needed)\n",
    "- Update Translator _from* functions to work for the simple Allele in test_vrs.py (also below in allele_dict)\n",
    "- Update the ga4gh_serialize and ga4gh_digest functions to work with Pydantic classes and the ga4ghDigest field in VRS 2.0\n",
    "- Update test in test_vrs.py to work for new serialize and digest functions, for update expected values for VRS 2.model\n",
    "- location start/end validation in Pydantic class\n",
    "- IRI validation in Pydantic class (curie, compacted identifier, or fully qualified IRI according to RFCs)\n",
    "\n",
    "\n",
    "VRS 2.0 merge issues with pydantic classes\n",
    "ga4gh.vrs.extras.localizer. Line 56, refers to _value. Line 49 refers to _id\n"
   ]
  },
  {
   "cell_type": "code",
   "execution_count": null,
   "metadata": {},
   "outputs": [],
   "source": [
    "allele_dict = {\n",
    "    'location': {\n",
    "        'end': 55181320,\n",
    "        'start': 55181319,\n",
    "        'sequence': {\n",
    "            'type': 'SequenceReference',\n",
    "            'refgetAccession': 'SQ.F-LrLMe1SRpfUZHkQmvkVKFEGaoDeHul'\n",
    "        },\n",
    "        # 'sequence_id': 'ga4gh:SQ.F-LrLMe1SRpfUZHkQmvkVKFEGaoDeHul',\n",
    "        'type': 'SequenceLocation'\n",
    "    },\n",
    "    'state': {\n",
    "        'sequence': 'T',\n",
    "        'type': 'LiteralSequenceExpression'\n",
    "    },\n",
    "    'type': 'Allele'\n",
    "}\n",
    "allele_dict2 = {\n",
    "    'location': {\n",
    "        'end': 55181320,\n",
    "        'start': 55181319,\n",
    "        'sequence': 'SQ.F-LrLMe1SRpfUZHkQmvkVKFEGaoDeHul',\n",
    "        'type': 'SequenceLocation'\n",
    "    },\n",
    "    'state': {\n",
    "        'sequence': 'T',\n",
    "        'type': 'LiteralSequenceExpression'\n",
    "    },\n",
    "    'type': 'Allele'\n",
    "}\n",
    "allele = Allele(**allele_dict)\n",
    "allele2 = Allele(**allele_dict2)\n",
    "#print(allele2.model_dump(exclude_none=True))\n",
    "print(allele2)"
   ]
  },
  {
   "cell_type": "code",
   "execution_count": null,
   "metadata": {},
   "outputs": [],
   "source": [
    "allele_identified = identify_all(allele)\n",
    "pretty_print(allele_identified)"
   ]
  },
  {
   "cell_type": "code",
   "execution_count": null,
   "metadata": {},
   "outputs": [],
   "source": [
    "location_serialized = ga4gh_serialize(allele.location)\n",
    "print(\"Location serialized: \" + str(location_serialized))\n",
    "print(\"Location digest: \" + str(sha512t24u(location_serialized)))\n",
    "print(\"Location digest: \" + str(ga4gh_digest(allele.location)))\n",
    "\n",
    "allele_serialized = ga4gh_serialize(allele)\n",
    "print(\"Allele serialized: \" + str(allele_serialized))\n",
    "print(\"Allele digest: \" + str(sha512t24u(allele_serialized)))\n",
    "print(\"Allele digest: \" + str(ga4gh_digest(allele)))"
   ]
  },
  {
   "cell_type": "code",
   "execution_count": null,
   "metadata": {},
   "outputs": [],
   "source": [
    "ct = 100\n",
    "start = timer()\n",
    "for i in range(ct):\n",
    "    digest = ga4gh_digest(allele)\n",
    "end = timer()\n",
    "print(\"Average duration: \" + str((end - start) / ct))"
   ]
  },
  {
   "cell_type": "code",
   "execution_count": null,
   "metadata": {},
   "outputs": [],
   "source": [
    "# genotype \n",
    "# https://www.ncbi.nlm.nih.gov/clinvar/variation/431013/\n",
    "#   haplotype\n",
    "#   https://www.ncbi.nlm.nih.gov/clinvar/variation/431012/\n",
    "#     allele\n",
    "#     https://www.ncbi.nlm.nih.gov/clinvar/variation/383650/\n",
    "#     https://www.ncbi.nlm.nih.gov/clinvar/variation/417816/\n",
    "# TODO other simple allele in genotype\n",
    "\n",
    "# NC_000009.12:g.128325835C>T\n",
    "allele_383650_dict = {\n",
    "    \"type\": \"Allele\",\n",
    "    \"location\": {\n",
    "        \"type\": \"SequenceLocation\",\n",
    "        \"sequence\": {\n",
    "            \"type\": \"SequenceReference\",\n",
    "            \"refgetAccession\": \"ga4gh:SQ.KEO-4XBcm1cxeo_DIQ8_ofqGUkp4iZhI\"\n",
    "        },\n",
    "        \"start\": 128325834,\n",
    "        \"end\": 128325835\n",
    "    },\n",
    "    \"state\": {\n",
    "        \"type\": \"LiteralSequenceExpression\",\n",
    "        \"sequence\": \"T\"\n",
    "    }\n",
    "}\n",
    "allele_417816_dict = {\n",
    "    \"type\": \"Allele\",\n",
    "    \"location\": {\n",
    "        \"type\": \"SequenceLocation\",\n",
    "        \"sequence\": {\n",
    "            \"type\": \"SequenceReference\",\n",
    "            \"refgetAccession\": \"ga4gh:SQ.KEO-4XBcm1cxeo_DIQ8_ofqGUkp4iZhI\"\n",
    "        },\n",
    "        \"start\": 128325809,\n",
    "        \"end\": 128325810\n",
    "    },\n",
    "    \"state\": {\n",
    "        \"type\": \"LiteralSequenceExpression\",\n",
    "        \"sequence\": \"T\"\n",
    "    }\n",
    "}\n",
    "allele_280320_dict = {\n",
    "      \"type\": \"Allele\",\n",
    "      \"location\": {\n",
    "        \"type\": \"SequenceLocation\",\n",
    "        \"sequence\": {\n",
    "            \"type\": \"SequenceReference\",\n",
    "            \"refgetAccession\": \"ga4gh:SQ.KEO-4XBcm1cxeo_DIQ8_ofqGUkp4iZhI\"\n",
    "        },\n",
    "        \"start\": 128322879,\n",
    "        \"end\": 128322891\n",
    "      },\n",
    "      \"state\": {\n",
    "        \"type\": \"LiteralSequenceExpression\",\n",
    "        \"sequence\": \"G\"\n",
    "      }\n",
    "    }\n",
    "allele_383650 = Allele(**allele_383650_dict)\n",
    "allele_417816 = Allele(**allele_417816_dict)\n",
    "allele_280320 = Allele(**allele_280320_dict)\n",
    "\n",
    "haplotype_431012_dict = {\n",
    "    \"members\": [allele_383650_dict, allele_417816_dict]\n",
    "}\n",
    "haplotype_431012 = Haplotype(**haplotype_431012_dict)\n",
    "#pretty_print(haplotype_431012.model_dump(exclude_none=True))\n",
    "haplotype_431012_serialized = ga4gh_serialize(haplotype_431012)\n",
    "#print(f\"Haplotype serialized: {haplotype_431012_serialized}\")\n",
    "#print(f\"Haplotype digest: {ga4gh_digest(haplotype_431012)}\")\n",
    "\n",
    "\n",
    "start = timer()\n",
    "for i in range(ct):\n",
    "    digest = ga4gh_digest(haplotype_431012)\n",
    "end = timer()\n",
    "print(\"Average duration: \" + str((end - start) / ct))"
   ]
  },
  {
   "cell_type": "code",
   "execution_count": null,
   "metadata": {},
   "outputs": [],
   "source": [
    "genotype_431013_dict = {\n",
    "    \"type\": \"Genotype\",\n",
    "    \"count\": 1,\n",
    "    \"members\": [\n",
    "        {\n",
    "            \"type\": \"GenotypeMember\",\n",
    "            \"variation\": haplotype_431012_dict,\n",
    "            \"count\": 1\n",
    "        },\n",
    "        {\n",
    "            \"type\": \"GenotypeMember\",\n",
    "            \"variation\": allele_280320_dict,\n",
    "            \"count\": 1\n",
    "        }\n",
    "    ]\n",
    "}\n",
    "genotype_431013 = Genotype(**genotype_431013_dict)\n",
    "\n",
    "# pretty_print(genotype_431013.model_dump(exclude_none=True))\n",
    "genotype_431013_serialized = ga4gh_serialize(genotype_431013)\n",
    "#print(f\"Genotype serialized: {genotype_431013_serialized}\")\n",
    "#print(f\"Genotype digest: {ga4gh_digest(genotype_431013)}\")\n",
    "\n",
    "start = timer()\n",
    "for i in range(ct):\n",
    "    digest = ga4gh_digest(genotype_431013)\n",
    "end = timer()\n",
    "print(\"Average duration: \" + str((end - start) / ct))\n"
   ]
  },
  {
   "cell_type": "code",
   "execution_count": 20,
   "metadata": {
    "ExecuteTime": {
     "end_time": "2024-01-30T20:43:49.779214Z",
     "start_time": "2024-01-30T20:43:49.768585Z"
    }
   },
   "outputs": [],
   "source": [
    "import ga4gh.vrs.extras.translator\n",
    "import ga4gh.vrs.dataproxy\n",
    "import ga4gh.vrs\n",
    "importlib.reload(ga4gh.vrs.extras.translator)\n",
    "importlib.reload(ga4gh.vrs.dataproxy)\n",
    "importlib.reload(ga4gh.vrs)\n",
    "\n",
    "from ga4gh.vrs import models\n",
    "\n",
    "from ga4gh.vrs.extras.translator import Translator\n",
    "from ga4gh.vrs.dataproxy import SeqRepoDataProxy\n",
    "from biocommons.seqrepo import SeqRepo\n",
    "\n",
    "\n",
    "data_proxy = SeqRepoDataProxy(SeqRepo(\"/usr/local/share/seqrepo/2021-01-29\"))\n",
    "translator = Translator(data_proxy=data_proxy)\n"
   ]
  },
  {
   "cell_type": "code",
   "execution_count": 22,
   "metadata": {
    "ExecuteTime": {
     "end_time": "2024-01-30T20:43:55.919392Z",
     "start_time": "2024-01-30T20:43:55.916606Z"
    }
   },
   "outputs": [],
   "source": [
    "expansion_allele = models.Allele(\n",
    "    expressions=[\n",
    "        models.Expression(\n",
    "            syntax='spdi',\n",
    "            value='NC_000001.11:40819438:CTCCTCCT:CTCCTCCTCCT'\n",
    "        )\n",
    "    ],\n",
    "    location=models.SequenceLocation(\n",
    "        sequenceReference=models.SequenceReference(\n",
    "            refgetAccession='SQ.Ya6Rs7DHhDeg7YaOSg1EoNi3U_nQ9SvO',\n",
    "            residueAlphabet='na',\n",
    "            id='NC_000001.11:',\n",
    "        ),\n",
    "        start=40819438,\n",
    "        end=40819438),\n",
    "    state=models.LiteralSequenceExpression(\n",
    "        sequence='CTC'\n",
    "    )\n",
    ")"
   ]
  },
  {
   "cell_type": "code",
   "outputs": [
    {
     "ename": "AttributeError",
     "evalue": "'NoneType' object has no attribute 'get_metadata'",
     "output_type": "error",
     "traceback": [
      "\u001B[0;31m---------------------------------------------------------------------------\u001B[0m",
      "\u001B[0;31mAttributeError\u001B[0m                            Traceback (most recent call last)",
      "Cell \u001B[0;32mIn[28], line 1\u001B[0m\n\u001B[0;32m----> 1\u001B[0m \u001B[43mga4gh\u001B[49m\u001B[38;5;241;43m.\u001B[39;49m\u001B[43mvrs\u001B[49m\u001B[38;5;241;43m.\u001B[39;49m\u001B[43mnormalize\u001B[49m\u001B[43m(\u001B[49m\u001B[43mexpansion_allele\u001B[49m\u001B[43m)\u001B[49m\n",
      "File \u001B[0;32m~/git/vrs-python/src/ga4gh/vrs/normalize.py:230\u001B[0m, in \u001B[0;36mnormalize\u001B[0;34m(vo, data_proxy, **kwargs)\u001B[0m\n\u001B[1;32m    228\u001B[0m \u001B[38;5;28;01mif\u001B[39;00m vo_type \u001B[38;5;129;01min\u001B[39;00m handlers:\n\u001B[1;32m    229\u001B[0m     handler \u001B[38;5;241m=\u001B[39m handlers[vo_type]\n\u001B[0;32m--> 230\u001B[0m     \u001B[38;5;28;01mreturn\u001B[39;00m \u001B[43mhandler\u001B[49m\u001B[43m(\u001B[49m\u001B[43mvo\u001B[49m\u001B[43m,\u001B[49m\u001B[43m \u001B[49m\u001B[43mdata_proxy\u001B[49m\u001B[43m,\u001B[49m\u001B[43m \u001B[49m\u001B[38;5;241;43m*\u001B[39;49m\u001B[38;5;241;43m*\u001B[39;49m\u001B[43mkwargs\u001B[49m\u001B[43m)\u001B[49m\n\u001B[1;32m    232\u001B[0m \u001B[38;5;66;03m# No handler for vo_type; pass-through unchanged\u001B[39;00m\n\u001B[1;32m    233\u001B[0m \u001B[38;5;28;01mreturn\u001B[39;00m vo\n",
      "File \u001B[0;32m~/git/vrs-python/src/ga4gh/vrs/normalize.py:116\u001B[0m, in \u001B[0;36m_normalize_allele\u001B[0;34m(input_allele, data_proxy, rle_seq_limit)\u001B[0m\n\u001B[1;32m    113\u001B[0m     \u001B[38;5;28;01mreturn\u001B[39;00m input_allele\n\u001B[1;32m    115\u001B[0m \u001B[38;5;66;03m# Get reference sequence and interval\u001B[39;00m\n\u001B[0;32m--> 116\u001B[0m ref_seq \u001B[38;5;241m=\u001B[39m \u001B[43mSequenceProxy\u001B[49m\u001B[43m(\u001B[49m\u001B[43mdata_proxy\u001B[49m\u001B[43m,\u001B[49m\u001B[43m \u001B[49m\u001B[43malias\u001B[49m\u001B[43m)\u001B[49m\n\u001B[1;32m    117\u001B[0m start \u001B[38;5;241m=\u001B[39m _get_allele_location_pos(input_allele, use_start\u001B[38;5;241m=\u001B[39m\u001B[38;5;28;01mTrue\u001B[39;00m)\n\u001B[1;32m    118\u001B[0m \u001B[38;5;28;01mif\u001B[39;00m start \u001B[38;5;129;01mis\u001B[39;00m \u001B[38;5;28;01mNone\u001B[39;00m:\n",
      "File \u001B[0;32m~/git/vrs-python/src/ga4gh/vrs/dataproxy.py:184\u001B[0m, in \u001B[0;36mSequenceProxy.__init__\u001B[0;34m(self, dp, alias)\u001B[0m\n\u001B[1;32m    182\u001B[0m \u001B[38;5;28mself\u001B[39m\u001B[38;5;241m.\u001B[39mdp \u001B[38;5;241m=\u001B[39m dp\n\u001B[1;32m    183\u001B[0m \u001B[38;5;28mself\u001B[39m\u001B[38;5;241m.\u001B[39malias \u001B[38;5;241m=\u001B[39m alias\n\u001B[0;32m--> 184\u001B[0m \u001B[38;5;28mself\u001B[39m\u001B[38;5;241m.\u001B[39m_md \u001B[38;5;241m=\u001B[39m \u001B[38;5;28;43mself\u001B[39;49m\u001B[38;5;241;43m.\u001B[39;49m\u001B[43mdp\u001B[49m\u001B[38;5;241;43m.\u001B[39;49m\u001B[43mget_metadata\u001B[49m(\u001B[38;5;28mself\u001B[39m\u001B[38;5;241m.\u001B[39malias)\n",
      "\u001B[0;31mAttributeError\u001B[0m: 'NoneType' object has no attribute 'get_metadata'"
     ]
    }
   ],
   "source": [
    "# This is expected to normalize to a fully-justified allele with a ReferenceLengthExpression\n",
    "ga4gh.vrs.normalize(expansion_allele)"
   ],
   "metadata": {
    "collapsed": false,
    "ExecuteTime": {
     "end_time": "2024-01-30T20:46:21.532794Z",
     "start_time": "2024-01-30T20:46:21.530010Z"
    }
   },
   "execution_count": 28
  },
  {
   "cell_type": "code",
   "outputs": [],
   "source": [],
   "metadata": {
    "collapsed": false
   }
  }
 ],
 "metadata": {
  "kernelspec": {
   "display_name": "venv",
   "language": "python",
   "name": "python3"
  },
  "language_info": {
   "codemirror_mode": {
    "name": "ipython",
    "version": 3
   },
   "file_extension": ".py",
   "mimetype": "text/x-python",
   "name": "python",
   "nbconvert_exporter": "python",
   "pygments_lexer": "ipython3",
   "version": "3.11.3"
  },
  "orig_nbformat": 4
 },
 "nbformat": 4,
 "nbformat_minor": 2
}
