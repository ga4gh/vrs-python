{
 "cells": [
  {
   "cell_type": "code",
   "execution_count": 13,
   "metadata": {},
   "outputs": [],
   "source": [
    "import json\n",
    "from timeit import default_timer as timer\n",
    "\n",
    "import ga4gh.vrs._internal.models\n",
    "import ga4gh.core._internal.identifiers\n",
    "import ga4gh.core._internal.pydantic \n",
    "import importlib\n",
    "importlib.reload(ga4gh.vrs._internal.models)\n",
    "importlib.reload(ga4gh.core._internal.identifiers)\n",
    "importlib.reload(ga4gh.core._internal.pydantic)\n",
    "\n",
    "from ga4gh.vrs._internal.models import (\n",
    "    Allele,\n",
    "    Haplotype,\n",
    "    Genotype,\n",
    "    GenotypeMember\n",
    ")\n",
    "from ga4gh.core._internal.identifiers import (\n",
    "    ga4gh_serialize,\n",
    "    ga4gh_identify,\n",
    "    ga4gh_digest,\n",
    "    sha512t24u,\n",
    "    identify_all,\n",
    "    collapse_identifiable_values,\n",
    "    replace_with_digest\n",
    ")\n",
    "def pretty_print(d: dict):\n",
    "    print(json.dumps(d, indent=2))"
   ]
  },
  {
   "attachments": {},
   "cell_type": "markdown",
   "metadata": {},
   "source": [
    "TODO\n",
    "\n",
    "- Update pydantic.py helper functions to work for classes in models.py (if those functions are needed)\n",
    "- Update Translator _from* functions to work for the simple Allele in test_vrs.py (also below in allele_dict)\n",
    "- Update the ga4gh_serialize and ga4gh_digest functions to work with Pydantic classes and the ga4ghDigest field in VRS 2.0\n",
    "- Update test in test_vrs.py to work for new serialize and digest functions, for update expected values for VRS 2.model\n",
    "- location start/end validation in Pydantic class\n",
    "- IRI validation in Pydantic class (curie, compacted identifier, or fully qualified IRI according to RFCs)\n",
    "\n",
    "\n",
    "VRS 2.0 merge issues with pydantic classes\n",
    "ga4gh.vrs.extras.localizer. Line 56, refers to _value. Line 49 refers to _id\n"
   ]
  },
  {
   "cell_type": "code",
   "execution_count": 14,
   "metadata": {},
   "outputs": [
    {
     "name": "stdout",
     "output_type": "stream",
     "text": [
      "id=None label=None extensions=None type='Allele' digest=None location=SequenceLocation(id=None, label=None, extensions=None, type='SequenceLocation', digest=None, sequence=IRI(root='SQ.F-LrLMe1SRpfUZHkQmvkVKFEGaoDeHul'), start=55181319, end=55181320) state=LiteralSequenceExpression(id=None, label=None, extensions=None, type='LiteralSequenceExpression', sequence=SequenceString(root='T'))\n"
     ]
    }
   ],
   "source": [
    "allele_dict = {\n",
    "    'location': {\n",
    "        'end': 55181320,\n",
    "        'start': 55181319,\n",
    "        'sequence': {\n",
    "            'type': 'SequenceReference',\n",
    "            'refgetAccession': 'SQ.F-LrLMe1SRpfUZHkQmvkVKFEGaoDeHul'\n",
    "        },\n",
    "        # 'sequence_id': 'ga4gh:SQ.F-LrLMe1SRpfUZHkQmvkVKFEGaoDeHul',\n",
    "        'type': 'SequenceLocation'\n",
    "    },\n",
    "    'state': {\n",
    "        'sequence': 'T',\n",
    "        'type': 'LiteralSequenceExpression'\n",
    "    },\n",
    "    'type': 'Allele'\n",
    "}\n",
    "allele_dict2 = {\n",
    "    'location': {\n",
    "        'end': 55181320,\n",
    "        'start': 55181319,\n",
    "        'sequence': 'SQ.F-LrLMe1SRpfUZHkQmvkVKFEGaoDeHul',\n",
    "        'type': 'SequenceLocation'\n",
    "    },\n",
    "    'state': {\n",
    "        'sequence': 'T',\n",
    "        'type': 'LiteralSequenceExpression'\n",
    "    },\n",
    "    'type': 'Allele'\n",
    "}\n",
    "allele = Allele(**allele_dict)\n",
    "allele2 = Allele(**allele_dict2)\n",
    "#print(allele2.model_dump(exclude_none=True))\n",
    "print(allele2)"
   ]
  },
  {
   "cell_type": "code",
   "execution_count": 15,
   "metadata": {},
   "outputs": [
    {
     "name": "stdout",
     "output_type": "stream",
     "text": [
      "{\n",
      "  \"location\": {\n",
      "    \"type\": \"SequenceLocation\",\n",
      "    \"start\": 55181319,\n",
      "    \"end\": 55181320,\n",
      "    \"sequence\": {\n",
      "      \"refgetAccession\": \"SQ.F-LrLMe1SRpfUZHkQmvkVKFEGaoDeHul\",\n",
      "      \"type\": \"SequenceReference\",\n",
      "      \"digest\": \"OFEyBMeo55q3QRrxAY5FiDqnkdyf0GTV\"\n",
      "    },\n",
      "    \"digest\": \"X0qrF7RfZxGIVIOddTYooZ_23D9mw6p6\"\n",
      "  },\n",
      "  \"state\": {\n",
      "    \"type\": \"LiteralSequenceExpression\",\n",
      "    \"sequence\": \"T\"\n",
      "  },\n",
      "  \"type\": \"Allele\",\n",
      "  \"digest\": \"oFiLzDh37SoecjP7dceRaUfVlh32NnCg\"\n",
      "}\n"
     ]
    }
   ],
   "source": [
    "allele_identified = identify_all(allele)\n",
    "pretty_print(allele_identified)"
   ]
  },
  {
   "cell_type": "code",
   "execution_count": 16,
   "metadata": {},
   "outputs": [
    {
     "name": "stdout",
     "output_type": "stream",
     "text": [
      "Location serialized: b'{\"end\":55181320,\"sequence\":\"OFEyBMeo55q3QRrxAY5FiDqnkdyf0GTV\",\"start\":55181319,\"type\":\"SequenceLocation\"}'\n",
      "Location digest: X0qrF7RfZxGIVIOddTYooZ_23D9mw6p6\n",
      "Location digest: X0qrF7RfZxGIVIOddTYooZ_23D9mw6p6\n",
      "Allele serialized: b'{\"location\":\"X0qrF7RfZxGIVIOddTYooZ_23D9mw6p6\",\"state\":{\"sequence\":\"T\",\"type\":\"LiteralSequenceExpression\"},\"type\":\"Allele\"}'\n",
      "Allele digest: oFiLzDh37SoecjP7dceRaUfVlh32NnCg\n",
      "Allele digest: oFiLzDh37SoecjP7dceRaUfVlh32NnCg\n"
     ]
    }
   ],
   "source": [
    "location_serialized = ga4gh_serialize(allele.location)\n",
    "print(\"Location serialized: \" + str(location_serialized))\n",
    "print(\"Location digest: \" + str(sha512t24u(location_serialized)))\n",
    "print(\"Location digest: \" + str(ga4gh_digest(allele.location)))\n",
    "\n",
    "allele_serialized = ga4gh_serialize(allele)\n",
    "print(\"Allele serialized: \" + str(allele_serialized))\n",
    "print(\"Allele digest: \" + str(sha512t24u(allele_serialized)))\n",
    "print(\"Allele digest: \" + str(ga4gh_digest(allele)))"
   ]
  },
  {
   "cell_type": "code",
   "execution_count": 17,
   "metadata": {},
   "outputs": [
    {
     "name": "stdout",
     "output_type": "stream",
     "text": [
      "Average duration: 0.00015168126003118232\n"
     ]
    }
   ],
   "source": [
    "ct = 100\n",
    "start = timer()\n",
    "for i in range(ct):\n",
    "    digest = ga4gh_digest(allele)\n",
    "end = timer()\n",
    "print(\"Average duration: \" + str((end - start) / ct))"
   ]
  },
  {
   "cell_type": "code",
   "execution_count": 18,
   "metadata": {},
   "outputs": [
    {
     "name": "stdout",
     "output_type": "stream",
     "text": [
      "Average duration: 0.0003508283200790174\n"
     ]
    }
   ],
   "source": [
    "# genotype \n",
    "# https://www.ncbi.nlm.nih.gov/clinvar/variation/431013/\n",
    "#   haplotype\n",
    "#   https://www.ncbi.nlm.nih.gov/clinvar/variation/431012/\n",
    "#     allele\n",
    "#     https://www.ncbi.nlm.nih.gov/clinvar/variation/383650/\n",
    "#     https://www.ncbi.nlm.nih.gov/clinvar/variation/417816/\n",
    "# TODO other simple allele in genotype\n",
    "\n",
    "# NC_000009.12:g.128325835C>T\n",
    "allele_383650_dict = {\n",
    "    \"type\": \"Allele\",\n",
    "    \"location\": {\n",
    "        \"type\": \"SequenceLocation\",\n",
    "        \"sequence\": {\n",
    "            \"type\": \"SequenceReference\",\n",
    "            \"refgetAccession\": \"ga4gh:SQ.KEO-4XBcm1cxeo_DIQ8_ofqGUkp4iZhI\"\n",
    "        },\n",
    "        \"start\": 128325834,\n",
    "        \"end\": 128325835\n",
    "    },\n",
    "    \"state\": {\n",
    "        \"type\": \"LiteralSequenceExpression\",\n",
    "        \"sequence\": \"T\"\n",
    "    }\n",
    "}\n",
    "allele_417816_dict = {\n",
    "    \"type\": \"Allele\",\n",
    "    \"location\": {\n",
    "        \"type\": \"SequenceLocation\",\n",
    "        \"sequence\": {\n",
    "            \"type\": \"SequenceReference\",\n",
    "            \"refgetAccession\": \"ga4gh:SQ.KEO-4XBcm1cxeo_DIQ8_ofqGUkp4iZhI\"\n",
    "        },\n",
    "        \"start\": 128325809,\n",
    "        \"end\": 128325810\n",
    "    },\n",
    "    \"state\": {\n",
    "        \"type\": \"LiteralSequenceExpression\",\n",
    "        \"sequence\": \"T\"\n",
    "    }\n",
    "}\n",
    "allele_280320_dict = {\n",
    "      \"type\": \"Allele\",\n",
    "      \"location\": {\n",
    "        \"type\": \"SequenceLocation\",\n",
    "        \"sequence\": {\n",
    "            \"type\": \"SequenceReference\",\n",
    "            \"refgetAccession\": \"ga4gh:SQ.KEO-4XBcm1cxeo_DIQ8_ofqGUkp4iZhI\"\n",
    "        },\n",
    "        \"start\": 128322879,\n",
    "        \"end\": 128322891\n",
    "      },\n",
    "      \"state\": {\n",
    "        \"type\": \"LiteralSequenceExpression\",\n",
    "        \"sequence\": \"G\"\n",
    "      }\n",
    "    }\n",
    "allele_383650 = Allele(**allele_383650_dict)\n",
    "allele_417816 = Allele(**allele_417816_dict)\n",
    "allele_280320 = Allele(**allele_280320_dict)\n",
    "\n",
    "haplotype_431012_dict = {\n",
    "    \"members\": [allele_383650_dict, allele_417816_dict]\n",
    "}\n",
    "haplotype_431012 = Haplotype(**haplotype_431012_dict)\n",
    "#pretty_print(haplotype_431012.model_dump(exclude_none=True))\n",
    "haplotype_431012_serialized = ga4gh_serialize(haplotype_431012)\n",
    "#print(f\"Haplotype serialized: {haplotype_431012_serialized}\")\n",
    "#print(f\"Haplotype digest: {ga4gh_digest(haplotype_431012)}\")\n",
    "\n",
    "\n",
    "start = timer()\n",
    "for i in range(ct):\n",
    "    digest = ga4gh_digest(haplotype_431012)\n",
    "end = timer()\n",
    "print(\"Average duration: \" + str((end - start) / ct))"
   ]
  },
  {
   "cell_type": "code",
   "execution_count": 19,
   "metadata": {},
   "outputs": [
    {
     "name": "stdout",
     "output_type": "stream",
     "text": [
      "Average duration: 0.0007112802198389546\n"
     ]
    }
   ],
   "source": [
    "genotype_431013_dict = {\n",
    "    \"type\": \"Genotype\",\n",
    "    \"count\": 1,\n",
    "    \"members\": [\n",
    "        {\n",
    "            \"type\": \"GenotypeMember\",\n",
    "            \"variation\": haplotype_431012_dict,\n",
    "            \"count\": 1\n",
    "        },\n",
    "        {\n",
    "            \"type\": \"GenotypeMember\",\n",
    "            \"variation\": allele_280320_dict,\n",
    "            \"count\": 1\n",
    "        }\n",
    "    ]\n",
    "}\n",
    "genotype_431013 = Genotype(**genotype_431013_dict)\n",
    "\n",
    "# pretty_print(genotype_431013.model_dump(exclude_none=True))\n",
    "genotype_431013_serialized = ga4gh_serialize(genotype_431013)\n",
    "#print(f\"Genotype serialized: {genotype_431013_serialized}\")\n",
    "#print(f\"Genotype digest: {ga4gh_digest(genotype_431013)}\")\n",
    "\n",
    "start = timer()\n",
    "for i in range(ct):\n",
    "    digest = ga4gh_digest(genotype_431013)\n",
    "end = timer()\n",
    "print(\"Average duration: \" + str((end - start) / ct))\n"
   ]
  },
  {
   "cell_type": "code",
   "execution_count": 20,
   "metadata": {},
   "outputs": [
    {
     "name": "stderr",
     "output_type": "stream",
     "text": [
      "/Users/kferrite/dev/vrs-python/venv/lib/python3.11/site-packages/pydantic/main.py:301: UserWarning: Pydantic serializer warnings:\n",
      "  Expected `Union[definition-ref, SequenceLocation]` but got `SequenceLocation` - serialized value may not be as expected\n",
      "  Expected `Union[IRI, SequenceReference]` but got `str` - serialized value may not be as expected\n",
      "  return self.__pydantic_serializer__.to_python(\n"
     ]
    },
    {
     "data": {
      "text/plain": [
       "Allele(id='ga4gh:VA.UcWOtAQ-g2vFcpXWj1iS_vZJmRf8S2a2', label=None, extensions=None, type='Allele', digest=None, location=SequenceLocation(id='ga4gh:SL.50MiHlbmBi89q-SdWLoAzo4QvMeFhJSr', label=None, extensions=None, type='SequenceLocation', digest=None, sequence=IRI(root='ga4gh:SQ.KEO-4XBcm1cxeo_DIQ8_ofqGUkp4iZhI'), start=128325834, end=128325835), state=LiteralSequenceExpression(id=None, label=None, extensions=None, type='LiteralSequenceExpression', sequence=SequenceString(root='T')))"
      ]
     },
     "execution_count": 20,
     "metadata": {},
     "output_type": "execute_result"
    }
   ],
   "source": [
    "import ga4gh.vrs.extras.translator\n",
    "import ga4gh.vrs.dataproxy\n",
    "import ga4gh.vrs\n",
    "importlib.reload(ga4gh.vrs.extras.translator)\n",
    "importlib.reload(ga4gh.vrs.dataproxy)\n",
    "importlib.reload(ga4gh.vrs)\n",
    "\n",
    "from ga4gh.vrs.extras.translator import Translator\n",
    "from ga4gh.vrs.dataproxy import SeqRepoDataProxy\n",
    "from biocommons.seqrepo import SeqRepo\n",
    "\n",
    "\n",
    "data_proxy = SeqRepoDataProxy(SeqRepo(\"/Users/kferrite/dev/biocommons.seqrepo/seqrepo/2021-01-29\"))\n",
    "translator = Translator(data_proxy=data_proxy)\n",
    "# translator._from_beacon(\"13 : 32936732 G > C\")\n",
    "# data_proxy.get_metadata('GRCh38:13')\n",
    "spdi_383650 = 'NC_000009.12:128325834:C:T'\n",
    "translator._from_spdi(spdi_383650)"
   ]
  },
  {
   "cell_type": "code",
   "execution_count": 21,
   "metadata": {},
   "outputs": [
    {
     "name": "stdout",
     "output_type": "stream",
     "text": [
      "{\n",
      "  \"type\": \"Allele\",\n",
      "  \"location\": {\n",
      "    \"type\": \"SequenceLocation\",\n",
      "    \"sequence\": {\n",
      "      \"type\": \"SequenceReference\",\n",
      "      \"refgetAccession\": \"ga4gh:SQ.KEO-4XBcm1cxeo_DIQ8_ofqGUkp4iZhI\"\n",
      "    },\n",
      "    \"start\": 128322879,\n",
      "    \"end\": 128322891\n",
      "  },\n",
      "  \"state\": {\n",
      "    \"type\": \"LiteralSequenceExpression\",\n",
      "    \"sequence\": \"G\"\n",
      "  }\n",
      "}\n"
     ]
    },
    {
     "data": {
      "text/plain": [
       "Allele(id=None, label=None, extensions=None, type='Allele', digest=None, location=SequenceLocation(id=None, label=None, extensions=None, type='SequenceLocation', digest=None, sequence=SequenceReference(id=None, label=None, extensions=None, type='SequenceReference', digest=None, refgetAccession='ga4gh:SQ.KEO-4XBcm1cxeo_DIQ8_ofqGUkp4iZhI', residueAlphabet=None), start=128322879, end=128322891), state=LiteralSequenceExpression(id=None, label=None, extensions=None, type='LiteralSequenceExpression', sequence=SequenceString(root='G')))"
      ]
     },
     "execution_count": 21,
     "metadata": {},
     "output_type": "execute_result"
    }
   ],
   "source": [
    "pretty_print(allele_280320.model_dump(exclude_none=True))\n",
    "ga4gh.vrs.normalize(allele_280320, data_proxy=data_proxy)"
   ]
  },
  {
   "cell_type": "code",
   "execution_count": null,
   "metadata": {},
   "outputs": [],
   "source": []
  }
 ],
 "metadata": {
  "kernelspec": {
   "display_name": "venv",
   "language": "python",
   "name": "python3"
  },
  "language_info": {
   "codemirror_mode": {
    "name": "ipython",
    "version": 3
   },
   "file_extension": ".py",
   "mimetype": "text/x-python",
   "name": "python",
   "nbconvert_exporter": "python",
   "pygments_lexer": "ipython3",
   "version": "3.11.3"
  },
  "orig_nbformat": 4
 },
 "nbformat": 4,
 "nbformat_minor": 2
}
