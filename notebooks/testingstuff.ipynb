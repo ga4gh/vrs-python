{
 "cells": [
  {
   "cell_type": "code",
   "execution_count": 13,
   "metadata": {},
   "outputs": [],
   "source": [
    "import ga4gh.vrs._internal.models\n",
    "import importlib\n",
    "# importlib.reload(ga4gh.vrs._internal.models)\n",
    "from ga4gh.vrs._internal.models import (\n",
    "    Allele,\n",
    "    SystemicVariation,\n",
    "    flatten_type\n",
    "    # pydantic_class_refatt_map\n",
    ")\n",
    "from ga4gh.vrs import models\n"
   ]
  },
  {
   "attachments": {},
   "cell_type": "markdown",
   "metadata": {},
   "source": [
    "TODO\n",
    "\n",
    "- Update pydantic.py helper functions to work for classes in models.py (if those functions are needed)\n",
    "- Update Translator _from* functions to work for the simple Allele in test_vrs.py (also below in allele_dict)\n",
    "- Update the ga4gh_serialize and ga4gh_digest functions to work with Pydantic classes and the ga4ghDigest field in VRS 2.0\n",
    "- Update test in test_vrs.py to work for new serialize and digest functions, for update expected values for VRS 2.model\n"
   ]
  },
  {
   "cell_type": "code",
   "execution_count": 2,
   "metadata": {},
   "outputs": [],
   "source": [
    "\n",
    "allele_dict = {\n",
    "    'location': {\n",
    "        'end': 55181320,\n",
    "        'start': 55181319,\n",
    "        'sequence': {\n",
    "            'type': 'SequenceReference',\n",
    "            'refgetAccession': 'SQ.F-LrLMe1SRpfUZHkQmvkVKFEGaoDeHul'\n",
    "        },\n",
    "        # 'sequence_id': 'ga4gh:SQ.F-LrLMe1SRpfUZHkQmvkVKFEGaoDeHul',\n",
    "        'type': 'SequenceLocation'\n",
    "    },\n",
    "    'state': {\n",
    "        'sequence': 'T',\n",
    "        'type': 'LiteralSequenceExpression'\n",
    "    },\n",
    "    'type': 'Allele'\n",
    "}\n",
    "\n",
    "allele = Allele(**allele_dict)"
   ]
  },
  {
   "cell_type": "code",
   "execution_count": 3,
   "metadata": {},
   "outputs": [
    {
     "ename": "AttributeError",
     "evalue": "module 'ga4gh.vrs._internal.models' has no attribute 'models'",
     "output_type": "error",
     "traceback": [
      "\u001b[0;31m---------------------------------------------------------------------------\u001b[0m",
      "\u001b[0;31mAttributeError\u001b[0m                            Traceback (most recent call last)",
      "Cell \u001b[0;32mIn[3], line 2\u001b[0m\n\u001b[1;32m      1\u001b[0m \u001b[39m# models.Allele\u001b[39;00m\n\u001b[0;32m----> 2\u001b[0m ga4gh\u001b[39m.\u001b[39;49mvrs\u001b[39m.\u001b[39;49m_internal\u001b[39m.\u001b[39;49mmodels\u001b[39m.\u001b[39;49mmodels\n",
      "\u001b[0;31mAttributeError\u001b[0m: module 'ga4gh.vrs._internal.models' has no attribute 'models'"
     ]
    }
   ],
   "source": [
    "# models.Allele\n",
    "ga4gh.vrs._internal.models.models\n"
   ]
  },
  {
   "cell_type": "code",
   "execution_count": null,
   "metadata": {},
   "outputs": [],
   "source": [
    "import ga4gh.core._internal.identifiers\n",
    "from ga4gh.core._internal.identifiers import (\n",
    "    ga4gh_serialize\n",
    ")\n",
    "# ga4gh_serialize(allele)"
   ]
  },
  {
   "cell_type": "code",
   "execution_count": null,
   "metadata": {},
   "outputs": [
    {
     "data": {
      "text/plain": [
       "typing.Literal['Allele']"
      ]
     },
     "execution_count": 5,
     "metadata": {},
     "output_type": "execute_result"
    }
   ],
   "source": [
    "t = ga4gh.vrs._internal.models.Allele.__fields__[\"type\"].type_\n",
    "t"
   ]
  },
  {
   "cell_type": "code",
   "execution_count": null,
   "metadata": {},
   "outputs": [
    {
     "data": {
      "text/plain": [
       "ga4gh.vrs._internal.models.Allele"
      ]
     },
     "execution_count": 6,
     "metadata": {},
     "output_type": "execute_result"
    }
   ],
   "source": [
    "\n",
    "ga4gh.vrs._internal.models.get_model_struct().Allele"
   ]
  },
  {
   "cell_type": "code",
   "execution_count": 8,
   "metadata": {},
   "outputs": [
    {
     "ename": "ValidationError",
     "evalue": "1 validation error for SequenceReference\nrefgetAccession\n  string does not match regex \"SQ.[0-9A-Za-z_\\-]{32}\" (type=value_error.str.regex; pattern=SQ.[0-9A-Za-z_\\-]{32})",
     "output_type": "error",
     "traceback": [
      "\u001b[0;31m---------------------------------------------------------------------------\u001b[0m",
      "\u001b[0;31mValidationError\u001b[0m                           Traceback (most recent call last)",
      "Cell \u001b[0;32mIn[8], line 6\u001b[0m\n\u001b[1;32m      4\u001b[0m data_proxy \u001b[39m=\u001b[39m SeqRepoDataProxy(SeqRepo(\u001b[39m\"\u001b[39m\u001b[39m/Users/kferrite/dev/biocommons.seqrepo/seqrepo/2021-01-29\u001b[39m\u001b[39m\"\u001b[39m))\n\u001b[1;32m      5\u001b[0m translator \u001b[39m=\u001b[39m Translator(data_proxy\u001b[39m=\u001b[39mdata_proxy)\n\u001b[0;32m----> 6\u001b[0m translator\u001b[39m.\u001b[39;49m_from_beacon(\u001b[39m\"\u001b[39;49m\u001b[39m13 : 32936732 G > C\u001b[39;49m\u001b[39m\"\u001b[39;49m)\n",
      "File \u001b[0;32m~/dev/vrs-python/src/ga4gh/vrs/extras/translator.py:128\u001b[0m, in \u001b[0;36mTranslator._from_beacon\u001b[0;34m(self, beacon_expr, assembly_name)\u001b[0m\n\u001b[1;32m    122\u001b[0m ins_seq \u001b[39m=\u001b[39m alt\n\u001b[1;32m    124\u001b[0m \u001b[39m# location = models.SequenceLocation(sequence_id=sequence_id,\u001b[39;00m\n\u001b[1;32m    125\u001b[0m \u001b[39m#                                    start=models.Number(value=start),\u001b[39;00m\n\u001b[1;32m    126\u001b[0m \u001b[39m#                                    end=models.Number(value=end))\u001b[39;00m\n\u001b[1;32m    127\u001b[0m location \u001b[39m=\u001b[39m models\u001b[39m.\u001b[39mSequenceLocation(\n\u001b[0;32m--> 128\u001b[0m     sequence\u001b[39m=\u001b[39mmodels\u001b[39m.\u001b[39;49mSequenceReference(\n\u001b[1;32m    129\u001b[0m         refgetAccession\u001b[39m=\u001b[39;49msequence_id),\n\u001b[1;32m    130\u001b[0m     start\u001b[39m=\u001b[39mstart,\n\u001b[1;32m    131\u001b[0m     end\u001b[39m=\u001b[39mend)\n\u001b[1;32m    132\u001b[0m state \u001b[39m=\u001b[39m models\u001b[39m.\u001b[39mLiteralSequenceExpression(sequence\u001b[39m=\u001b[39mins_seq)\n\u001b[1;32m    133\u001b[0m allele \u001b[39m=\u001b[39m models\u001b[39m.\u001b[39mAllele(location\u001b[39m=\u001b[39mlocation, state\u001b[39m=\u001b[39mstate)\n",
      "File \u001b[0;32m~/dev/vrs-python/venv/lib/python3.11/site-packages/pydantic/main.py:341\u001b[0m, in \u001b[0;36mpydantic.main.BaseModel.__init__\u001b[0;34m()\u001b[0m\n",
      "\u001b[0;31mValidationError\u001b[0m: 1 validation error for SequenceReference\nrefgetAccession\n  string does not match regex \"SQ.[0-9A-Za-z_\\-]{32}\" (type=value_error.str.regex; pattern=SQ.[0-9A-Za-z_\\-]{32})"
     ]
    }
   ],
   "source": [
    "from ga4gh.vrs.extras.translator import Translator\n",
    "from ga4gh.vrs.dataproxy import SeqRepoDataProxy\n",
    "from biocommons.seqrepo import SeqRepo\n",
    "data_proxy = SeqRepoDataProxy(SeqRepo(\"/Users/kferrite/dev/biocommons.seqrepo/seqrepo/2021-01-29\"))\n",
    "translator = Translator(data_proxy=data_proxy)\n",
    "translator._from_beacon(\"13 : 32936732 G > C\")"
   ]
  },
  {
   "cell_type": "code",
   "execution_count": 9,
   "metadata": {},
   "outputs": [
    {
     "data": {
      "text/plain": [
       "{'length': 114364328,\n",
       " 'alphabet': 'ACGKNTY',\n",
       " 'added': '2016-08-27T23:50:14Z',\n",
       " 'aliases': ['GRCh38:13',\n",
       "  'GRCh38:chr13',\n",
       "  'GRCh38.p1:13',\n",
       "  'GRCh38.p1:chr13',\n",
       "  'GRCh38.p10:13',\n",
       "  'GRCh38.p10:chr13',\n",
       "  'GRCh38.p11:13',\n",
       "  'GRCh38.p11:chr13',\n",
       "  'GRCh38.p12:13',\n",
       "  'GRCh38.p12:chr13',\n",
       "  'GRCh38.p2:13',\n",
       "  'GRCh38.p2:chr13',\n",
       "  'GRCh38.p3:13',\n",
       "  'GRCh38.p3:chr13',\n",
       "  'GRCh38.p4:13',\n",
       "  'GRCh38.p4:chr13',\n",
       "  'GRCh38.p5:13',\n",
       "  'GRCh38.p5:chr13',\n",
       "  'GRCh38.p6:13',\n",
       "  'GRCh38.p6:chr13',\n",
       "  'GRCh38.p7:13',\n",
       "  'GRCh38.p7:chr13',\n",
       "  'GRCh38.p8:13',\n",
       "  'GRCh38.p8:chr13',\n",
       "  'GRCh38.p9:13',\n",
       "  'GRCh38.p9:chr13',\n",
       "  'MD5:a5437debe2ef9c9ef8f3ea2874ae1d82',\n",
       "  'NCBI:NC_000013.11',\n",
       "  'refseq:NC_000013.11',\n",
       "  'SEGUID:2oDBty0yKV9wHo7gg+Bt+fPgi5o',\n",
       "  'SHA1:da80c1b72d32295f701e8ee083e06df9f3e08b9a',\n",
       "  'VMC:GS__0wi-qoDrvram155UmcSC-zA5ZK4fpLT',\n",
       "  'sha512t24u:_0wi-qoDrvram155UmcSC-zA5ZK4fpLT',\n",
       "  'ga4gh:SQ._0wi-qoDrvram155UmcSC-zA5ZK4fpLT']}"
      ]
     },
     "execution_count": 9,
     "metadata": {},
     "output_type": "execute_result"
    }
   ],
   "source": [
    "data_proxy.get_metadata('GRCh38:13')"
   ]
  },
  {
   "cell_type": "code",
   "execution_count": 14,
   "metadata": {},
   "outputs": [],
   "source": [
    "#vars(ga4gh.vrs.models)"
   ]
  },
  {
   "cell_type": "code",
   "execution_count": null,
   "metadata": {},
   "outputs": [],
   "source": []
  }
 ],
 "metadata": {
  "kernelspec": {
   "display_name": "venv",
   "language": "python",
   "name": "python3"
  },
  "language_info": {
   "codemirror_mode": {
    "name": "ipython",
    "version": 3
   },
   "file_extension": ".py",
   "mimetype": "text/x-python",
   "name": "python",
   "nbconvert_exporter": "python",
   "pygments_lexer": "ipython3",
   "version": "3.11.3"
  },
  "orig_nbformat": 4
 },
 "nbformat": 4,
 "nbformat_minor": 2
}
