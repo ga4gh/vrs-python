{
 "cells": [
  {
   "cell_type": "code",
   "execution_count": 2,
   "metadata": {
    "ExecuteTime": {
     "end_time": "2024-01-30T20:55:12.659786Z",
     "start_time": "2024-01-30T20:55:12.375781Z"
    }
   },
   "outputs": [],
   "source": [
    "import json\n",
    "from timeit import default_timer as timer\n",
    "\n",
    "import ga4gh.vrs._internal.models\n",
    "import ga4gh.core._internal.identifiers\n",
    "import ga4gh.core._internal.pydantic \n",
    "import importlib\n",
    "importlib.reload(ga4gh.vrs._internal.models)\n",
    "importlib.reload(ga4gh.core._internal.identifiers)\n",
    "importlib.reload(ga4gh.core._internal.pydantic)\n",
    "\n",
    "from ga4gh.vrs._internal.models import (\n",
    "    Allele,\n",
    "    Haplotype,\n",
    "    Genotype,\n",
    "    GenotypeMember\n",
    ")\n",
    "from ga4gh.core._internal.identifiers import (\n",
    "    ga4gh_serialize,\n",
    "    ga4gh_identify,\n",
    "    ga4gh_digest,\n",
    "    sha512t24u,\n",
    "    identify_all,\n",
    "    collapse_identifiable_values,\n",
    "    replace_with_digest\n",
    ")\n",
    "def pretty_print(d: dict):\n",
    "    print(json.dumps(d, indent=2))\n",
    "def pydantic_dict(o):\n",
    "    return o.dict(exclude_none=True)"
   ]
  },
  {
   "attachments": {},
   "cell_type": "markdown",
   "metadata": {},
   "source": [
    "TODO\n",
    "\n",
    "- Update pydantic.py helper functions to work for classes in models.py (if those functions are needed)\n",
    "- Update Translator _from* functions to work for the simple Allele in test_vrs.py (also below in allele_dict)\n",
    "- Update the ga4gh_serialize and ga4gh_digest functions to work with Pydantic classes and the ga4ghDigest field in VRS 2.0\n",
    "- Update test in test_vrs.py to work for new serialize and digest functions, for update expected values for VRS 2.model\n",
    "- location start/end validation in Pydantic class\n",
    "- IRI validation in Pydantic class (curie, compacted identifier, or fully qualified IRI according to RFCs)\n",
    "\n",
    "\n",
    "VRS 2.0 merge issues with pydantic classes\n",
    "ga4gh.vrs.extras.localizer. Line 56, refers to _value. Line 49 refers to _id\n"
   ]
  },
  {
   "cell_type": "code",
   "execution_count": 3,
   "metadata": {
    "ExecuteTime": {
     "end_time": "2024-01-30T20:55:12.664116Z",
     "start_time": "2024-01-30T20:55:12.662083Z"
    }
   },
   "outputs": [
    {
     "name": "stdout",
     "output_type": "stream",
     "text": [
      "id=None label=None description=None extensions=None digest=None type='Allele' expressions=None location=SequenceLocation(id=None, label=None, description=None, extensions=None, digest=None, type='SequenceLocation', sequenceReference=None, start=55181319, end=55181320) state=LiteralSequenceExpression(id=None, label=None, description=None, extensions=None, digest=None, type='LiteralSequenceExpression', sequence=SequenceString(root='T'))\n"
     ]
    }
   ],
   "source": [
    "allele_dict = {\n",
    "    'location': {\n",
    "        'end': 55181320,\n",
    "        'start': 55181319,\n",
    "        'sequence': {\n",
    "            'type': 'SequenceReference',\n",
    "            'refgetAccession': 'SQ.F-LrLMe1SRpfUZHkQmvkVKFEGaoDeHul'\n",
    "        },\n",
    "        # 'sequence_id': 'ga4gh:SQ.F-LrLMe1SRpfUZHkQmvkVKFEGaoDeHul',\n",
    "        'type': 'SequenceLocation'\n",
    "    },\n",
    "    'state': {\n",
    "        'sequence': 'T',\n",
    "        'type': 'LiteralSequenceExpression'\n",
    "    },\n",
    "    'type': 'Allele'\n",
    "}\n",
    "allele_dict2 = {\n",
    "    'location': {\n",
    "        'end': 55181320,\n",
    "        'start': 55181319,\n",
    "        'sequence': 'SQ.F-LrLMe1SRpfUZHkQmvkVKFEGaoDeHul',\n",
    "        'type': 'SequenceLocation'\n",
    "    },\n",
    "    'state': {\n",
    "        'sequence': 'T',\n",
    "        'type': 'LiteralSequenceExpression'\n",
    "    },\n",
    "    'type': 'Allele'\n",
    "}\n",
    "allele = Allele(**allele_dict)\n",
    "allele2 = Allele(**allele_dict2)\n",
    "#print(allele2.model_dump(exclude_none=True))\n",
    "print(allele2)"
   ]
  },
  {
   "cell_type": "code",
   "execution_count": 4,
   "metadata": {
    "ExecuteTime": {
     "end_time": "2024-01-30T20:55:12.669479Z",
     "start_time": "2024-01-30T20:55:12.664423Z"
    }
   },
   "outputs": [
    {
     "name": "stdout",
     "output_type": "stream",
     "text": [
      "{\n",
      "  \"location\": {\n",
      "    \"type\": \"SequenceLocation\",\n",
      "    \"start\": 55181319,\n",
      "    \"end\": 55181320,\n",
      "    \"sequenceReference\": null,\n",
      "    \"digest\": \"5mvu29n_A07DBCqsGyrjk2NUknOhkVZS\"\n",
      "  },\n",
      "  \"state\": {\n",
      "    \"type\": \"LiteralSequenceExpression\",\n",
      "    \"sequence\": \"T\"\n",
      "  },\n",
      "  \"type\": \"Allele\",\n",
      "  \"digest\": \"eahJQ_NsonA4qMlGbBrFEJBlIMUenRLI\"\n",
      "}\n"
     ]
    }
   ],
   "source": [
    "allele_identified = identify_all(allele)\n",
    "pretty_print(allele_identified)"
   ]
  },
  {
   "cell_type": "code",
   "execution_count": 5,
   "metadata": {
    "ExecuteTime": {
     "end_time": "2024-01-30T20:55:12.684277Z",
     "start_time": "2024-01-30T20:55:12.672225Z"
    }
   },
   "outputs": [
    {
     "name": "stdout",
     "output_type": "stream",
     "text": [
      "Location serialized: b'{\"end\":55181320,\"sequenceReference\":null,\"start\":55181319,\"type\":\"SequenceLocation\"}'\n",
      "Location digest: 5mvu29n_A07DBCqsGyrjk2NUknOhkVZS\n",
      "Location digest: 5mvu29n_A07DBCqsGyrjk2NUknOhkVZS\n",
      "Allele serialized: b'{\"location\":\"5mvu29n_A07DBCqsGyrjk2NUknOhkVZS\",\"state\":{\"sequence\":\"T\",\"type\":\"LiteralSequenceExpression\"},\"type\":\"Allele\"}'\n",
      "Allele digest: eahJQ_NsonA4qMlGbBrFEJBlIMUenRLI\n",
      "Allele digest: eahJQ_NsonA4qMlGbBrFEJBlIMUenRLI\n"
     ]
    }
   ],
   "source": [
    "location_serialized = ga4gh_serialize(allele.location)\n",
    "print(\"Location serialized: \" + str(location_serialized))\n",
    "print(\"Location digest: \" + str(sha512t24u(location_serialized)))\n",
    "print(\"Location digest: \" + str(ga4gh_digest(allele.location)))\n",
    "\n",
    "allele_serialized = ga4gh_serialize(allele)\n",
    "print(\"Allele serialized: \" + str(allele_serialized))\n",
    "print(\"Allele digest: \" + str(sha512t24u(allele_serialized)))\n",
    "print(\"Allele digest: \" + str(ga4gh_digest(allele)))"
   ]
  },
  {
   "cell_type": "code",
   "execution_count": 6,
   "metadata": {
    "ExecuteTime": {
     "end_time": "2024-01-30T20:55:12.709066Z",
     "start_time": "2024-01-30T20:55:12.675406Z"
    }
   },
   "outputs": [
    {
     "name": "stdout",
     "output_type": "stream",
     "text": [
      "Average duration: 7.207540911622346e-05\n"
     ]
    }
   ],
   "source": [
    "ct = 100\n",
    "start = timer()\n",
    "for i in range(ct):\n",
    "    digest = ga4gh_digest(allele)\n",
    "end = timer()\n",
    "print(\"Average duration: \" + str((end - start) / ct))"
   ]
  },
  {
   "cell_type": "code",
   "execution_count": 7,
   "metadata": {
    "ExecuteTime": {
     "end_time": "2024-01-30T20:55:12.710289Z",
     "start_time": "2024-01-30T20:55:12.703490Z"
    }
   },
   "outputs": [
    {
     "name": "stdout",
     "output_type": "stream",
     "text": [
      "Average duration: 0.00015179874957539142\n"
     ]
    }
   ],
   "source": [
    "# genotype \n",
    "# https://www.ncbi.nlm.nih.gov/clinvar/variation/431013/\n",
    "#   haplotype\n",
    "#   https://www.ncbi.nlm.nih.gov/clinvar/variation/431012/\n",
    "#     allele\n",
    "#     https://www.ncbi.nlm.nih.gov/clinvar/variation/383650/\n",
    "#     https://www.ncbi.nlm.nih.gov/clinvar/variation/417816/\n",
    "# TODO other simple allele in genotype\n",
    "\n",
    "# NC_000009.12:g.128325835C>T\n",
    "allele_383650_dict = {\n",
    "    \"type\": \"Allele\",\n",
    "    \"location\": {\n",
    "        \"type\": \"SequenceLocation\",\n",
    "        \"sequence\": {\n",
    "            \"type\": \"SequenceReference\",\n",
    "            \"refgetAccession\": \"ga4gh:SQ.KEO-4XBcm1cxeo_DIQ8_ofqGUkp4iZhI\"\n",
    "        },\n",
    "        \"start\": 128325834,\n",
    "        \"end\": 128325835\n",
    "    },\n",
    "    \"state\": {\n",
    "        \"type\": \"LiteralSequenceExpression\",\n",
    "        \"sequence\": \"T\"\n",
    "    }\n",
    "}\n",
    "allele_417816_dict = {\n",
    "    \"type\": \"Allele\",\n",
    "    \"location\": {\n",
    "        \"type\": \"SequenceLocation\",\n",
    "        \"sequence\": {\n",
    "            \"type\": \"SequenceReference\",\n",
    "            \"refgetAccession\": \"ga4gh:SQ.KEO-4XBcm1cxeo_DIQ8_ofqGUkp4iZhI\"\n",
    "        },\n",
    "        \"start\": 128325809,\n",
    "        \"end\": 128325810\n",
    "    },\n",
    "    \"state\": {\n",
    "        \"type\": \"LiteralSequenceExpression\",\n",
    "        \"sequence\": \"T\"\n",
    "    }\n",
    "}\n",
    "allele_280320_dict = {\n",
    "      \"type\": \"Allele\",\n",
    "      \"location\": {\n",
    "        \"type\": \"SequenceLocation\",\n",
    "        \"sequence\": {\n",
    "            \"type\": \"SequenceReference\",\n",
    "            \"refgetAccession\": \"ga4gh:SQ.KEO-4XBcm1cxeo_DIQ8_ofqGUkp4iZhI\"\n",
    "        },\n",
    "        \"start\": 128322879,\n",
    "        \"end\": 128322891\n",
    "      },\n",
    "      \"state\": {\n",
    "        \"type\": \"LiteralSequenceExpression\",\n",
    "        \"sequence\": \"G\"\n",
    "      }\n",
    "    }\n",
    "allele_383650 = Allele(**allele_383650_dict)\n",
    "allele_417816 = Allele(**allele_417816_dict)\n",
    "allele_280320 = Allele(**allele_280320_dict)\n",
    "\n",
    "haplotype_431012_dict = {\n",
    "    \"members\": [allele_383650_dict, allele_417816_dict]\n",
    "}\n",
    "haplotype_431012 = Haplotype(**haplotype_431012_dict)\n",
    "#pretty_print(haplotype_431012.model_dump(exclude_none=True))\n",
    "haplotype_431012_serialized = ga4gh_serialize(haplotype_431012)\n",
    "#print(f\"Haplotype serialized: {haplotype_431012_serialized}\")\n",
    "#print(f\"Haplotype digest: {ga4gh_digest(haplotype_431012)}\")\n",
    "\n",
    "\n",
    "start = timer()\n",
    "for i in range(ct):\n",
    "    digest = ga4gh_digest(haplotype_431012)\n",
    "end = timer()\n",
    "print(\"Average duration: \" + str((end - start) / ct))"
   ]
  },
  {
   "cell_type": "code",
   "execution_count": 8,
   "metadata": {
    "ExecuteTime": {
     "end_time": "2024-01-30T20:55:12.740335Z",
     "start_time": "2024-01-30T20:55:12.737050Z"
    }
   },
   "outputs": [
    {
     "name": "stdout",
     "output_type": "stream",
     "text": [
      "Average duration: 0.0002980487502645701\n"
     ]
    }
   ],
   "source": [
    "genotype_431013_dict = {\n",
    "    \"type\": \"Genotype\",\n",
    "    \"count\": 1,\n",
    "    \"members\": [\n",
    "        {\n",
    "            \"type\": \"GenotypeMember\",\n",
    "            \"variation\": haplotype_431012_dict,\n",
    "            \"count\": 1\n",
    "        },\n",
    "        {\n",
    "            \"type\": \"GenotypeMember\",\n",
    "            \"variation\": allele_280320_dict,\n",
    "            \"count\": 1\n",
    "        }\n",
    "    ]\n",
    "}\n",
    "genotype_431013 = Genotype(**genotype_431013_dict)\n",
    "\n",
    "# pretty_print(genotype_431013.model_dump(exclude_none=True))\n",
    "genotype_431013_serialized = ga4gh_serialize(genotype_431013)\n",
    "#print(f\"Genotype serialized: {genotype_431013_serialized}\")\n",
    "#print(f\"Genotype digest: {ga4gh_digest(genotype_431013)}\")\n",
    "\n",
    "start = timer()\n",
    "for i in range(ct):\n",
    "    digest = ga4gh_digest(genotype_431013)\n",
    "end = timer()\n",
    "print(\"Average duration: \" + str((end - start) / ct))\n"
   ]
  },
  {
   "cell_type": "code",
   "execution_count": 9,
   "metadata": {
    "ExecuteTime": {
     "end_time": "2024-01-30T20:55:12.832604Z",
     "start_time": "2024-01-30T20:55:12.740570Z"
    }
   },
   "outputs": [],
   "source": [
    "import ga4gh.vrs.extras.translator\n",
    "import ga4gh.vrs.dataproxy\n",
    "import ga4gh.vrs\n",
    "importlib.reload(ga4gh.vrs.extras.translator)\n",
    "importlib.reload(ga4gh.vrs.dataproxy)\n",
    "importlib.reload(ga4gh.vrs)\n",
    "\n",
    "from ga4gh.vrs import models\n",
    "\n",
    "from ga4gh.vrs.extras.translator import Translator\n",
    "from ga4gh.vrs.dataproxy import SeqRepoDataProxy\n",
    "from biocommons.seqrepo import SeqRepo\n",
    "\n",
    "\n",
    "data_proxy = SeqRepoDataProxy(SeqRepo(\"/usr/local/share/seqrepo/2021-01-29\"))\n",
    "translator = Translator(data_proxy=data_proxy)\n"
   ]
  },
  {
   "cell_type": "code",
   "execution_count": 10,
   "metadata": {
    "ExecuteTime": {
     "end_time": "2024-01-30T20:55:12.836510Z",
     "start_time": "2024-01-30T20:55:12.833916Z"
    }
   },
   "outputs": [],
   "source": [
    "expansion_allele = models.Allele(\n",
    "    expressions=[\n",
    "        models.Expression(\n",
    "            syntax='spdi',\n",
    "            value='NC_000001.11:40819438:CTCCTCCT:CTCCTCCTCCT'\n",
    "        )\n",
    "    ],\n",
    "    location=models.SequenceLocation(\n",
    "        sequenceReference=models.SequenceReference(\n",
    "            refgetAccession='SQ.Ya6Rs7DHhDeg7YaOSg1EoNi3U_nQ9SvO',\n",
    "            residueAlphabet='na',\n",
    "            id='NC_000001.11:',\n",
    "        ),\n",
    "        start=40819438,\n",
    "        end=40819438),\n",
    "    state=models.LiteralSequenceExpression(\n",
    "        sequence='CTC'\n",
    "    )\n",
    ")"
   ]
  },
  {
   "cell_type": "code",
   "outputs": [],
   "source": [
    "# This is expected to normalize to a fully-justified allele with a ReferenceLengthExpression\n",
    "normalized = ga4gh.vrs.normalize(expansion_allele, data_proxy=data_proxy)"
   ],
   "metadata": {
    "collapsed": false,
    "ExecuteTime": {
     "end_time": "2024-01-30T20:55:35.795398Z",
     "start_time": "2024-01-30T20:55:35.785972Z"
    }
   },
   "execution_count": 12
  },
  {
   "cell_type": "code",
   "outputs": [
    {
     "name": "stdout",
     "output_type": "stream",
     "text": [
      "{\n",
      "  \"type\": \"Allele\",\n",
      "  \"expressions\": [\n",
      "    {\n",
      "      \"syntax\": \"spdi\",\n",
      "      \"value\": \"NC_000001.11:40819438:CTCCTCCT:CTCCTCCTCCT\"\n",
      "    }\n",
      "  ],\n",
      "  \"location\": {\n",
      "    \"type\": \"SequenceLocation\",\n",
      "    \"sequenceReference\": {\n",
      "      \"id\": \"NC_000001.11:\",\n",
      "      \"type\": \"SequenceReference\",\n",
      "      \"refgetAccession\": \"SQ.Ya6Rs7DHhDeg7YaOSg1EoNi3U_nQ9SvO\",\n",
      "      \"residueAlphabet\": \"na\"\n",
      "    },\n",
      "    \"start\": 40819438,\n",
      "    \"end\": 40819446\n",
      "  },\n",
      "  \"state\": {\n",
      "    \"type\": \"ReferenceLengthExpression\",\n",
      "    \"length\": 11,\n",
      "    \"sequence\": \"CTCCTCCTCCT\",\n",
      "    \"repeatSubunitLength\": 3\n",
      "  }\n",
      "}\n"
     ]
    }
   ],
   "source": [
    "pretty_print(pydantic_dict(normalized))"
   ],
   "metadata": {
    "collapsed": false,
    "ExecuteTime": {
     "end_time": "2024-01-30T20:55:44.585796Z",
     "start_time": "2024-01-30T20:55:44.579823Z"
    }
   },
   "execution_count": 13
  },
  {
   "cell_type": "code",
   "outputs": [
    {
     "data": {
      "text/plain": "'ga4gh:VA.L1iW0hEkuerURCtRni6HdEnEIdLoGvog'"
     },
     "execution_count": 24,
     "metadata": {},
     "output_type": "execute_result"
    }
   ],
   "source": [
    "ga4gh_identify(normalized)"
   ],
   "metadata": {
    "collapsed": false,
    "ExecuteTime": {
     "end_time": "2024-01-30T21:11:45.983540Z",
     "start_time": "2024-01-30T21:11:45.980918Z"
    }
   },
   "execution_count": 24
  },
  {
   "cell_type": "code",
   "outputs": [],
   "source": [
    "# Descriptive properties do not affect digest\n",
    "normalized.label = \"test\""
   ],
   "metadata": {
    "collapsed": false,
    "ExecuteTime": {
     "end_time": "2024-01-30T21:13:11.467490Z",
     "start_time": "2024-01-30T21:13:11.466190Z"
    }
   },
   "execution_count": 26
  },
  {
   "cell_type": "code",
   "outputs": [
    {
     "data": {
      "text/plain": "'ga4gh:VA.L1iW0hEkuerURCtRni6HdEnEIdLoGvog'"
     },
     "execution_count": 28,
     "metadata": {},
     "output_type": "execute_result"
    }
   ],
   "source": [
    "ga4gh_identify(normalized)"
   ],
   "metadata": {
    "collapsed": false,
    "ExecuteTime": {
     "end_time": "2024-01-30T21:13:31.090021Z",
     "start_time": "2024-01-30T21:13:31.086682Z"
    }
   },
   "execution_count": 28
  }
 ],
 "metadata": {
  "kernelspec": {
   "display_name": "venv",
   "language": "python",
   "name": "python3"
  },
  "language_info": {
   "codemirror_mode": {
    "name": "ipython",
    "version": 3
   },
   "file_extension": ".py",
   "mimetype": "text/x-python",
   "name": "python",
   "nbconvert_exporter": "python",
   "pygments_lexer": "ipython3",
   "version": "3.11.3"
  },
  "orig_nbformat": 4
 },
 "nbformat": 4,
 "nbformat_minor": 2
}
